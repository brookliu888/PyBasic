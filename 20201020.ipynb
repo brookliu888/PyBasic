{
  "nbformat": 4,
  "nbformat_minor": 0,
  "metadata": {
    "colab": {
      "name": "20201020.ipynb",
      "provenance": [],
      "collapsed_sections": [],
      "authorship_tag": "ABX9TyMk0sfZWfi1g8CUw6A6hxlN",
      "include_colab_link": true
    },
    "kernelspec": {
      "name": "python3",
      "display_name": "Python 3"
    }
  },
  "cells": [
    {
      "cell_type": "markdown",
      "metadata": {
        "id": "view-in-github",
        "colab_type": "text"
      },
      "source": [
        "<a href=\"https://colab.research.google.com/github/brookliu888/PyBasic/blob/main/20201020.ipynb\" target=\"_parent\"><img src=\"https://colab.research.google.com/assets/colab-badge.svg\" alt=\"Open In Colab\"/></a>"
      ]
    },
    {
      "cell_type": "markdown",
      "metadata": {
        "id": "C-HHxcm5qxcU"
      },
      "source": [
        "# 2020 kh notes"
      ]
    },
    {
      "cell_type": "code",
      "metadata": {
        "id": "6TQk2rG9pmIF",
        "outputId": "e0480564-f0a5-4873-a15f-2112f5651703",
        "colab": {
          "base_uri": "https://localhost:8080/",
          "height": 35
        }
      },
      "source": [
        "x = \"dog\"\n",
        "x"
      ],
      "execution_count": 1,
      "outputs": [
        {
          "output_type": "execute_result",
          "data": {
            "application/vnd.google.colaboratory.intrinsic+json": {
              "type": "string"
            },
            "text/plain": [
              "'dog'"
            ]
          },
          "metadata": {
            "tags": []
          },
          "execution_count": 1
        }
      ]
    },
    {
      "cell_type": "code",
      "metadata": {
        "id": "8j79jc4rrZgx",
        "outputId": "7e14785f-c0c0-493a-f2ee-fd5312f13984",
        "colab": {
          "base_uri": "https://localhost:8080/",
          "height": 34
        }
      },
      "source": [
        "type(x)"
      ],
      "execution_count": 4,
      "outputs": [
        {
          "output_type": "execute_result",
          "data": {
            "text/plain": [
              "str"
            ]
          },
          "metadata": {
            "tags": []
          },
          "execution_count": 4
        }
      ]
    },
    {
      "cell_type": "code",
      "metadata": {
        "id": "ak8QDduArfnk"
      },
      "source": [
        "x = 'It\\'s my dog' #跳脫字元"
      ],
      "execution_count": 10,
      "outputs": []
    },
    {
      "cell_type": "code",
      "metadata": {
        "id": "qsrMXkR_ru5G",
        "outputId": "6d151cc0-dbe3-455f-8b84-d16d52e8c1e1",
        "colab": {
          "base_uri": "https://localhost:8080/",
          "height": 34
        }
      },
      "source": [
        "type(x)"
      ],
      "execution_count": 8,
      "outputs": [
        {
          "output_type": "execute_result",
          "data": {
            "text/plain": [
              "str"
            ]
          },
          "metadata": {
            "tags": []
          },
          "execution_count": 8
        }
      ]
    },
    {
      "cell_type": "code",
      "metadata": {
        "id": "6gZLMHRQr4tv"
      },
      "source": [
        "print?"
      ],
      "execution_count": 11,
      "outputs": []
    },
    {
      "cell_type": "code",
      "metadata": {
        "id": "CsTELXJks1DF"
      },
      "source": [
        "x = \"abc\"\n",
        "y = 123\n",
        "z = 1.23"
      ],
      "execution_count": 12,
      "outputs": []
    },
    {
      "cell_type": "code",
      "metadata": {
        "id": "XKErm0_8tT_J",
        "outputId": "cd9fa419-5cd2-409c-c10c-3767c71b078a",
        "colab": {
          "base_uri": "https://localhost:8080/",
          "height": 34
        }
      },
      "source": [
        "print(x,y,z)"
      ],
      "execution_count": 13,
      "outputs": [
        {
          "output_type": "stream",
          "text": [
            "abc 123 1.23\n"
          ],
          "name": "stdout"
        }
      ]
    },
    {
      "cell_type": "code",
      "metadata": {
        "id": "tYAzhDkWtXMf",
        "outputId": "25f930e8-009f-493b-d921-009932b5c7b7",
        "colab": {
          "base_uri": "https://localhost:8080/",
          "height": 34
        }
      },
      "source": [
        "print(x,y,z,sep=\"\")"
      ],
      "execution_count": 14,
      "outputs": [
        {
          "output_type": "stream",
          "text": [
            "abc1231.23\n"
          ],
          "name": "stdout"
        }
      ]
    },
    {
      "cell_type": "code",
      "metadata": {
        "id": "QEhp0lb8tgtD",
        "outputId": "0ee18139-dfc7-499c-b42b-1d611f789895",
        "colab": {
          "base_uri": "https://localhost:8080/",
          "height": 34
        }
      },
      "source": [
        "print(x,y,z,sep=\"---\")"
      ],
      "execution_count": 15,
      "outputs": [
        {
          "output_type": "stream",
          "text": [
            "abc---123---1.23\n"
          ],
          "name": "stdout"
        }
      ]
    },
    {
      "cell_type": "code",
      "metadata": {
        "id": "ohTod3x-tkT7",
        "outputId": "c4d9b924-9b83-4900-b776-93402e45d222",
        "colab": {
          "base_uri": "https://localhost:8080/",
          "height": 34
        }
      },
      "source": [
        "print(\"x=%s,y=%d, z=%f\"%(x,y,z)) #Python2.x"
      ],
      "execution_count": 18,
      "outputs": [
        {
          "output_type": "stream",
          "text": [
            "x=abc,y=123, z=1.230000\n"
          ],
          "name": "stdout"
        }
      ]
    },
    {
      "cell_type": "code",
      "metadata": {
        "id": "_xMvQPwvtvyv",
        "outputId": "0a7c24be-2f98-4146-f8e6-59ae88f77f9b",
        "colab": {
          "base_uri": "https://localhost:8080/",
          "height": 34
        }
      },
      "source": [
        "print(\"x={},y={},z={}\".format(x,y,z)) #Python3.x"
      ],
      "execution_count": 24,
      "outputs": [
        {
          "output_type": "stream",
          "text": [
            "x=abc,y=123,z=1.23\n"
          ],
          "name": "stdout"
        }
      ]
    },
    {
      "cell_type": "code",
      "metadata": {
        "id": "CYWuXYnZt-ln",
        "outputId": "749a0a0e-6854-41bc-8c5b-ad72eadf014c",
        "colab": {
          "base_uri": "https://localhost:8080/",
          "height": 34
        }
      },
      "source": [
        "print(\"x={0},y={1},z={2}\".format(x,y,z)) #Python3.x"
      ],
      "execution_count": 25,
      "outputs": [
        {
          "output_type": "stream",
          "text": [
            "x=abc,y=123,z=1.23\n"
          ],
          "name": "stdout"
        }
      ]
    },
    {
      "cell_type": "code",
      "metadata": {
        "id": "1aOnFZoAumuP",
        "outputId": "0a7c10ac-84df-4afd-bc59-42b03fdeab08",
        "colab": {
          "base_uri": "https://localhost:8080/",
          "height": 34
        }
      },
      "source": [
        "print(\"x={2},y={1},z={0}\".format(x,y,z)) #Python3.x"
      ],
      "execution_count": 26,
      "outputs": [
        {
          "output_type": "stream",
          "text": [
            "x=1.23,y=123,z=abc\n"
          ],
          "name": "stdout"
        }
      ]
    },
    {
      "cell_type": "code",
      "metadata": {
        "id": "zQYX3qZeusra",
        "outputId": "89e92985-9bb4-4789-92b0-1f743cedb15c",
        "colab": {
          "base_uri": "https://localhost:8080/",
          "height": 34
        }
      },
      "source": [
        "print(\"x={u},y={v},z={w}\".format(u=x,v=y,w=z)) #Python3.x"
      ],
      "execution_count": 27,
      "outputs": [
        {
          "output_type": "stream",
          "text": [
            "x=abc,y=123,z=1.23\n"
          ],
          "name": "stdout"
        }
      ]
    },
    {
      "cell_type": "code",
      "metadata": {
        "id": "d5_yW3GGvFQ4",
        "outputId": "d8281390-200c-4b38-f42c-97af66aef5c1",
        "colab": {
          "base_uri": "https://localhost:8080/",
          "height": 34
        }
      },
      "source": [
        "print(f\"x={x},y={y},z={z}\") #Python3.6+ 可以用f-string"
      ],
      "execution_count": 28,
      "outputs": [
        {
          "output_type": "stream",
          "text": [
            "x=abc,y=123,z=1.23\n"
          ],
          "name": "stdout"
        }
      ]
    },
    {
      "cell_type": "markdown",
      "metadata": {
        "id": "dkXHHNX6ydBP"
      },
      "source": [
        "＃將字串寫入檔案\n",
        "* 注意編碼方式\n",
        "\n"
      ]
    },
    {
      "cell_type": "code",
      "metadata": {
        "id": "GCgZhZXJvbQY"
      },
      "source": [
        "s =\"\"\"川普與拜登將於美東時間22日晚間進行第二場暨最終場電視辯論會。然而，\n",
        "為避免再次發生像第一場辯論會出現雙方互相插嘴的情形，辯論委員會決議，\n",
        "辯論會中每項議題時長為15分鐘，委員會會在各議題開始時，\n",
        "給予兩名候選人各2分鐘的發表時間，期間不會受干擾和影響，\n",
        "「換句話說，2分鐘發言期間，只有正在發言的候選人的麥克風會打開。」\"\"\""
      ],
      "execution_count": 29,
      "outputs": []
    },
    {
      "cell_type": "code",
      "metadata": {
        "id": "Zsi1gbKGywyt"
      },
      "source": [
        "f = open(\"test1.txt\",\"w\",encoding=\"big5\")\n",
        "f.write(s)\n",
        "f.close()"
      ],
      "execution_count": 32,
      "outputs": []
    },
    {
      "cell_type": "code",
      "metadata": {
        "id": "Ot4WDghjzKm5",
        "outputId": "ac553fb1-3024-4a6d-bfd9-823293fda0f8",
        "colab": {
          "base_uri": "https://localhost:8080/",
          "height": 102
        }
      },
      "source": [
        "f = open(\"test1.txt\",\"r\",encoding=\"big5\")\n",
        "print(f.read())\n",
        "f.close()"
      ],
      "execution_count": 36,
      "outputs": [
        {
          "output_type": "stream",
          "text": [
            "川普與拜登將於美東時間22日晚間進行第二場暨最終場電視辯論會。然而，\n",
            "為避免再次發生像第一場辯論會出現雙方互相插嘴的情形，辯論委員會決議，\n",
            "辯論會中每項議題時長為15分鐘，委員會會在各議題開始時，\n",
            "給予兩名候選人各2分鐘的發表時間，期間不會受干擾和影響，\n",
            "「換句話說，2分鐘發言期間，只有正在發言的候選人的麥克風會打開。」\n"
          ],
          "name": "stdout"
        }
      ]
    },
    {
      "cell_type": "code",
      "metadata": {
        "id": "4QkZ5gHJ0lJI",
        "outputId": "191cf72d-8ce3-4609-9648-f654821f2129",
        "colab": {
          "base_uri": "https://localhost:8080/",
          "height": 102
        }
      },
      "source": [
        "with open(\"test.txt\") as f:\n",
        "  print(f.read())"
      ],
      "execution_count": 37,
      "outputs": [
        {
          "output_type": "stream",
          "text": [
            "川普與拜登將於美東時間22日晚間進行第二場暨最終場電視辯論會。然而，\n",
            "為避免再次發生像第一場辯論會出現雙方互相插嘴的情形，辯論委員會決議，\n",
            "辯論會中每項議題時長為15分鐘，委員會會在各議題開始時，\n",
            "給予兩名候選人各2分鐘的發表時間，期間不會受干擾和影響，\n",
            "「換句話說，2分鐘發言期間，只有正在發言的候選人的麥克風會打開。」\n"
          ],
          "name": "stdout"
        }
      ]
    },
    {
      "cell_type": "markdown",
      "metadata": {
        "id": "Hue6pl3o1K1t"
      },
      "source": [
        "#抓取網頁原始碼 \n",
        "* request"
      ]
    },
    {
      "cell_type": "code",
      "metadata": {
        "id": "somAhUpE09cL"
      },
      "source": [
        "import requests"
      ],
      "execution_count": 38,
      "outputs": []
    },
    {
      "cell_type": "code",
      "metadata": {
        "id": "t9P42wV_1T7l"
      },
      "source": [
        "url = \"http://example.com/\""
      ],
      "execution_count": 39,
      "outputs": []
    },
    {
      "cell_type": "code",
      "metadata": {
        "id": "qMrNuUau1dGj"
      },
      "source": [
        "resp = requests.get(url)"
      ],
      "execution_count": 40,
      "outputs": []
    },
    {
      "cell_type": "code",
      "metadata": {
        "id": "bvKXVH_e1i1j",
        "outputId": "ed3c48b8-abc3-4425-e69d-a497a243d127",
        "colab": {
          "base_uri": "https://localhost:8080/",
          "height": 836
        }
      },
      "source": [
        "print(resp.text)"
      ],
      "execution_count": 51,
      "outputs": [
        {
          "output_type": "stream",
          "text": [
            "<!doctype html>\n",
            "<html>\n",
            "<head>\n",
            "    <title>Example Domain</title>\n",
            "\n",
            "    <meta charset=\"utf-8\" />\n",
            "    <meta http-equiv=\"Content-type\" content=\"text/html; charset=utf-8\" />\n",
            "    <meta name=\"viewport\" content=\"width=device-width, initial-scale=1\" />\n",
            "    <style type=\"text/css\">\n",
            "    body {\n",
            "        background-color: #f0f0f2;\n",
            "        margin: 0;\n",
            "        padding: 0;\n",
            "        font-family: -apple-system, system-ui, BlinkMacSystemFont, \"Segoe UI\", \"Open Sans\", \"Helvetica Neue\", Helvetica, Arial, sans-serif;\n",
            "        \n",
            "    }\n",
            "    div {\n",
            "        width: 600px;\n",
            "        margin: 5em auto;\n",
            "        padding: 2em;\n",
            "        background-color: #fdfdff;\n",
            "        border-radius: 0.5em;\n",
            "        box-shadow: 2px 3px 7px 2px rgba(0,0,0,0.02);\n",
            "    }\n",
            "    a:link, a:visited {\n",
            "        color: #38488f;\n",
            "        text-decoration: none;\n",
            "    }\n",
            "    @media (max-width: 700px) {\n",
            "        div {\n",
            "            margin: 0 auto;\n",
            "            width: auto;\n",
            "        }\n",
            "    }\n",
            "    </style>    \n",
            "</head>\n",
            "\n",
            "<body>\n",
            "<div>\n",
            "    <h1>Example Domain</h1>\n",
            "    <p>This domain is for use in illustrative examples in documents. You may use this\n",
            "    domain in literature without prior coordination or asking for permission.</p>\n",
            "    <p><a href=\"https://www.iana.org/domains/example\">More information...</a></p>\n",
            "</div>\n",
            "</body>\n",
            "</html>\n",
            "\n"
          ],
          "name": "stdout"
        }
      ]
    },
    {
      "cell_type": "code",
      "metadata": {
        "id": "JAWKvvCI1mAS"
      },
      "source": [
        "with open(\"html.txt\",\"w\") as f:\n",
        "  f.write(resp.text)"
      ],
      "execution_count": 42,
      "outputs": []
    },
    {
      "cell_type": "markdown",
      "metadata": {
        "id": "R5ugM_VI2taX"
      },
      "source": [
        "#用request抓圖片並存成檔案"
      ]
    },
    {
      "cell_type": "code",
      "metadata": {
        "id": "TRB1sUyr1wQB"
      },
      "source": [
        "url = \"https://s.zimedia.com.tw/s/1SmBuA-0\""
      ],
      "execution_count": 48,
      "outputs": []
    },
    {
      "cell_type": "code",
      "metadata": {
        "id": "3S3FIV7420EB",
        "outputId": "cada68f6-d9b4-4c78-c472-eceb513eee27",
        "colab": {
          "base_uri": "https://localhost:8080/",
          "height": 54
        }
      },
      "source": [
        "r = requests.get(url)\n",
        "with open(\"python.jpg\",\"wb\") as f:\n",
        "  f.write(r.content)\n"
      ],
      "execution_count": 53,
      "outputs": [
        {
          "output_type": "stream",
          "text": [
            "b'\\xff\\xd8\\xff\\xe0\\x00\\x10JFIF\\x00\\x01\\x01\\x00\\x00\\x01\\x00\\x01\\x00\\x00\\xff\\xdb\\x00C\\x00\\x08\\x06\\x06\\x07\\x06\\x05\\x08\\x07\\x07\\x07\\t\\t\\x08\\n\\x0c\\x14\\r\\x0c\\x0b\\x0b\\x0c\\x19\\x12\\x13\\x0f\\x14\\x1d\\x1a\\x1f\\x1e\\x1d\\x1a\\x1c\\x1c $.\\' \",#\\x1c\\x1c(7),01444\\x1f\\'9=82<.342\\xff\\xdb\\x00C\\x01\\t\\t\\t\\x0c\\x0b\\x0c\\x18\\r\\r\\x182!\\x1c!22222222222222222222222222222222222222222222222222\\xff\\xc0\\x00\\x11\\x08\\x01>\\x01\\xfe\\x03\\x01\"\\x00\\x02\\x11\\x01\\x03\\x11\\x01\\xff\\xc4\\x00\\x1c\\x00\\x01\\x00\\x01\\x05\\x01\\x01\\x00\\x00\\x00\\x00\\x00\\x00\\x00\\x00\\x00\\x00\\x00\\x07\\x01\\x04\\x05\\x06\\x08\\x03\\x02\\xff\\xc4\\x00]\\x10\\x00\\x01\\x03\\x03\\x02\\x03\\x03\\x05\\t\\x08\\n\\x0f\\x07\\x05\\x00\\x00\\x01\\x00\\x02\\x03\\x04\\x05\\x11\\x06!\\x07\\x121\\x13AQ\\x14aq\\x81\\xb2\\x08\"26st\\x91\\xb1\\xd3\\x15\\x16\\x18#5\\xa1\\xb3\\xd1&37BRSUr\\x92\\x93CTbcfu\\x82\\x83\\x94\\x95\\xa5\\xc1\\xc2\\xe1\\xe3\\x17$FVd\\x85\\xf0E\\xa2\\xa4\\xc3\\xf1\\xff\\xc4\\x00\\x1a\\x01\\x01\\x01\\x00\\x03\\x01\\x01\\x00\\x00\\x00\\x00\\x00\\x00\\x00\\x00\\x00\\x00\\x00\\x01\\x03\\x04\\x05\\x02\\x06\\xff\\xc4\\x00$\\x11\\x01\\x01\\x00\\x02\\x02\\x02\\x02\\x02\\x02\\x03\\x00\\x00\\x00\\x00\\x00\\x00\\x00\\x01\\x02\\x03\\x04\\x11\\x12!\\x051\\x13\\x14AQ\\x06\"3\\xff\\xda\\x00\\x0c\\x03\\x01\\x00\\x02\\x11\\x03\\x11\\x00?\\x00\\x9f\\xd1\\x11\\x01\\x11\\x10\\x11\\x11\\x01\\x11\\x10\\x11\\x11\\x01\\x11\\x10\\x11\\x11\\x01\\x11\\x10\\x11\\x11\\x052\\n\\xa6Gv\\xfe\\x8d\\xd7\\xd2 \\xa0 \\x8c\\xa6G\\x8a\\xaa e2\\x88\\x80\\x88\\x88\\x08\\x88\\x80\\x88\\x88\\x08\\x88\\x80\\x88\\x88\\x08\\x88\\x80\\x88\\x88\\x08\\x88\\x80\\x88\\x88\\x08\\x88\\x80\\x88\\x88\\x08\\x88\\x80\\x88\\x88\\x08\\x88\\x80\\x88\\x88\\x08\\x88\\x80\\x88\\x88\\x08\\x88\\x80\\x88\\x88\\x08Q\\n\\x02\" \"\"\\x02\" \"\"\\x02\" \"\"\\x02\" \"\"\\x02\" \"\"\\x02\" \"\"\\x02\" \"\"\\x02\" \"\"\\x02\" \"\"\\x02\" \"\"\\x02\" \"\"\\x02\" \"\"\\x02\" \"\"\\x02\" \"\"\\x02\" \"\"\\x02\" !D(\\x08\\x88\\x80\\x88\\x88\\x08\\x88\\x80\\x88\\x88\\x08\\x88\\x80\\x88\\x88\\x08\\x88\\x80\\x88\\x88\\x08\\x88\\x80\\x88\\x88\\x08\\x88\\x80\\x88\\x88\\x08\\x88\\x80\\x88\\x88\\x08\\x88\\x80\\x88\\x88\\x08\\x88\\x80\\x88\\x88\\x08\\x88\\x80\\x88\\x88\\x08\\x88\\x80\\x88\\x88\\x08\\x88\\x80\\x88\\x88\\x08\\x88\\x80\\x88\\x88\\x08\\x88\\x80\\x88\\x88\\x08\\x88\\x80\\x88\\x88\\x08\\x88\\x80\\x85\\x10\\xa0\"\"\\x02\" \"\"\\x02,]\\xd2r(\\xeaY\\xdcb\\x7f\\xd4T\\x13\\xeej\\xfc\\xad\\xa8>B\\x1fi\\xc8:)\\x11\\x10\\x11\\x16*\\xf3v\\x86\\xcdj\\xac\\xb8Nq\\x15,\\x0e\\x99\\xde\\x86\\x82q\\xe98\\xc2\\x0c\\xaa(S\\x81\\xfa\\x97Tjin\\xd3^.\\x93T\\xd1S5\\x8d\\x8d\\xb25\\xa4v\\x8e$\\x93\\xcd\\x8ec\\x80\\xde\\x99\\xc6\\xeb\\xc7\\xdd\\x13)\\x93I\\xdas\\xdd\\\\}\\x87 \\x9cQk<;\\xfd\\xce4\\xe7\\xf8\\xba\\x0f`-\\x99\\x01\\x15\\t\\x00d\\xa8\\xfbXqj\\xc3\\xa2\\xaf\\x02\\xd7r\\xa4\\xb9K9\\x85\\xb3\\x07SG\\x1b\\x9b\\xcaI\\x03w<\\x1c\\xec{\\x90HH\\xb9\\xbb\\x89<^\\xb0k\\x1d\\x1d5\\x9e\\xdfIs\\x8aw\\xcd\\x1c\\x81\\xd5\\x11F\\xd6\\x00\\xd3\\x922\\xd7\\x93\\x9fR\\xba\\xd0\\x1cf\\xd3\\xbaSD[l\\xf5\\xd4WI*i\\xbb^w\\xc1\\x14na\\xe6\\x91\\xce\\x18.\\x90\\x1e\\x8e\\x19\\xdb\\xaa\\x0e\\x87E\\x1dj\\xce.\\xd8tu\\xeb\\xeeU\\xc2\\x92\\xe7$\\xe2&\\xcb\\xcdO\\x14nn\\x1d\\x92\\x06\\\\\\xf0s\\xb7\\x82\\x83\\xb8\\x7f\\xaf-\\x9aW_]/\\xf5\\xf0VIKW\\x0c\\xccc!k\\\\\\xfc\\xbeV\\xbcd\\x17\\x01\\xd1\\xa7;\\xf5A\\xd6\\xc8\\xa1\\xff\\x00\\xc23H\\x7f&\\xdf?\\xd1\\xe2\\xfbU-O/f\\xdd\\xba\\xa0\\xf6E\\xce\\x97Z\\xea\\xbdK\\xee\\x8f\\xa6\\xa5\\xa2\\xa9\\x9a8\\xa9e\\x8a\\tL2\\x11\\xcf\\x1cC\\xb4{]\\x826\\xe6\\xe6\\x04\\x7f\\xbdt4\\xd2:6\\xe5\\xa3(=Qs\\xde\\xb1\\xd3\\xfcT\\xad\\xd67:\\x8b%U\\xd9\\x96\\xc9%\\xcd8\\x86\\xee\\xd8\\x9a\\x1b\\x806i\\x90c|\\xed\\x80\\xb0\\x1fz\\xbcl\\xfe\\xdd\\xbe\\x7f\\xaf[\\xf6\\xaaz\\x1dF\\x8b\\x97[\\xa4\\xf8\\xdc\\xed\\x85e\\xf0\\xff\\x00\\xef\\xad\\xfbU:\\xf0\\xfa\\x96\\xf7C\\xa2m\\xd4\\xba\\x85\\xd5\\x0e\\xba\\xb3\\xb5\\xed\\xddQ8\\x99\\xe72\\xb8\\xb7/\\x04\\x83\\xefKq\\xb9\\xdbn\\xe5F\\xda\\x88\\x88\\x08\\x88\\x80\\x88\\x88\\x08\\x88\\x80\\x88\\x88\\x08\\x88\\x80\\x88\\x88\\x08\\x88\\x80\\x88\\x88\\x08\\x88\\x80\\x88\\x88\\x08\\x88\\x80\\x88\\x88\\x08\\x88\\x80\\x88\\x88\\x08\\x88\\x80\\x85\\x10\\xa0\"\"\\x02\" \"*\\x13\\x81\\x94\\x18+\\xe4\\xad\\x82\\xdf[3\\xc8\\r\\x8e\\x9eG8\\x9e\\x80\\x06\\x92O\\xe6P\\x87\\xb9\\xb6F\\x8b\\xe5\\xf6\"}\\xf3\\xa9\\xa3p\\x1e`\\xe2\\x0f\\xd6\\x14\\x91\\xc5\\x8b\\xbbm\\\\>\\xbcH\\\\\\x03\\xea\"\\xf2X\\xc6@$\\xc8yH\\x1f\\xe4\\x97\\x1fR\\x848)w\\x16~%P\\t\\x8f$W\\x18\\x9fK\\xccv\\x07;\\xb7\\xd3\\x97\\xb0\\x0fJ\\x90u\\xa2\"*>\\\\\\xe0\\xd6\\x92T\\x1d\\xc7\\x9d\\\\\\xda+<Zr\\x9aL\\xd4\\xd6\\x91%@\\x07vD\\xd3\\x90\\x0e\\xf9\\x05\\xce\\x03\\xd4\\xd3\\xe2\\xa6\\x1b\\x84\\xd3GO\\'\\x935\\x8e\\x9b\\x94\\x965\\xee-iv\\xf8\\x04\\x80p3\\xd4\\xe0\\xa8\\x03G\\xf0\\xfe\\xfd\\xab8\\x89Yx\\xd6\\x14\\xafdTU\\x1c\\xf3\\xb6F\\x90\\xd9\\xa4\\x1b\\xb66\\x0e\\x85\\x80`\\xed\\xb607\\xca\\x83X\\xd3u|O\\xd2\\xb6\\xe7\\xd2\\xd8m\\x97\\x8azY\\x9f\\xdb8\\x0bOi\\xccH\\x039td\\xe3\\x00t8\\xfaU\\x8e\\xb2\\xbd\\xeb\\xdb\\xad\\xbe\\x9e-]\\x15{)\\x1b/4&\\xa6\\xde)\\xdb\\xcf\\x8clC\\x1b\\x93\\x8c\\xec\\xba\\xeaZA\\xcaH;\\xf7(S\\xdd\\x06\\xd2\\xdd\\'j\\x07\\xfbx\\xfb\\x0eA\\xa5Zu_\\x17)l\\xb4PZa\\xbb\\x9btp\\xb5\\xb4\\xa6;Cdi\\x8c\\x00\\x1b\\x87\\x18\\xcf0\\xc67\\xc9W\\x7f~\\x9co=)\\xef\\x7f\\xea6\\xfd\\x92\\x9d4\\x050\\x93\\x87Zp\\x93\\xd6\\xdb\\x07\\xb0\\x16\\xc8\\xda@\\x0er\\x827\\xe1M\\xdbY\\xde).\\xa7XG[\\x1c\\x8c|b\\x9f\\xca\\xa8E9 \\x87s`\\x067\\x9bp<p\\xb3\\x17\\xee\\x1c\\xe9\\xcdKq\\xf2\\xfb\\xcd\\xab\\xca\\xaaDb0\\xfe\\xdeV{\\xd0I\\x03\\rp\\x1dI\\xee[\\xab\\xdc#f|\\x14=\\xc5-E\\xc4\\x0bm\\xf6\\x8e=!\\x15{\\xe9\\x1fM\\xcd7\\x93[\\xc5C{Ng\\r\\xc9c\\xb0p\\x06\\xd9A\\x8a\\xe2\\'\\n\\xec\\x94\\x1aJi\\xb4\\xde\\x9c\\xa8u\\xcd\\xb3F\\x1a)\\xdf<\\xcf\\xe5\\xce\\x1d\\x86\\x97;#\\xcf\\x8d\\x97\\xa6\\x98\\xe1\\xbe\\x95\\xa5\\xe1\\x93/z\\xabN\\xd5y}<\\x15\\x13U5\\xf2\\xcd\\x14\\xa5\\xac{\\xc8\\x022\\xe6\\x80K@\\xc6@\\xce\\xc7\\xbf+R\\x1a\\xcb\\x8d\\x80\\xe4S\\xde\\xb3\\xe3\\xf7\\r\\xbfd\\xbc.\\xda\\xab\\x8buVz\\xd8.\\x90\\xdd\\xc5\\x04\\x90=\\x95&KCch\\x8c\\x8c;.\\x11\\x8c\\x0cg\\'#\\x1e*{\\x12U\\xae\\x87Bqi\\xf5\\x17\\xd9,\\x95rI\\x03\\x9bN\\xf7T\\xca\\xf8\\x9c@\\x00\\x80\\x04r\\x11\\x8c\\x1fJ\\xd1t\\x0f\\x0c\\x9b]\\xafnT\\xba\\x83M\\xd7\\xb6\\xd1\\x1cS\\x1awO\\x1c\\xd0\\xc6\\\\$hn\\x1e\\x08\\'\\xde\\x93\\x8d\\xcez\\xadWF\\xdf5\\xfd\\xaa\\xdfS\\x1e\\x90\\x8a\\xbd\\xf4\\x8e\\x93\\x9ao&\\xb7\\x8a\\x86\\x87\\xe3\\x1b\\x92\\xc7`\\xe3\\x1bel\\x7f~\\xbcn\\x03\\x02\\x9a\\xf4\\x07\\xf8\\x8d\\xbfd\\xafB\\\\\\x8f\\x82\\x9a\\x04\\xfc==\\xff\\x00\\xe6T}\\xa2\\xd8\\xb5]\\xfe\\x9fNX+\\xae\\xb5.\\x1d\\x9d,E\\xc1\\xa4\\xfc7\\x1d\\x9a\\xd1\\xbfRH\\n\\x13\\xb2\\xea\\xbe1O}\\xb7\\xc3[Oy\\xf27\\xd4\\xc6\\xd9\\xcb\\xec\\xcdcC\\x0b\\x80v]\\xd9\\x0c\\x0cg|\\x853k\\t\\xec4\\x96\\n\\x99\\xf59\\x8b\\xeeQ-d\\xa2X\\x9d \\xc9 \\r\\x9a\\t\\xceN\\xc4\\r\\xba\\xa2\\xb9=\\xda~\\xe9w\\xd3\\xf7Ma4\\xb1:\\x9a*\\xa0\\xd9\\xde\\xec\\x87I#\\xc8$\\xb4\\x01\\x8d\\x8b\\x86rG]\\xb2\\xb6\\x1d/\\xc1\\xddA\\xaa\\xec0^hkm\\x91SN\\\\\\x1a\\xda\\x89dk\\x81k\\x8bNCXGQ\\xe2\\xb6\\xbdg\\xaa\\xb4\\x1bx]6\\x98\\xd3\\x17#!\\x12\\xb1\\xd1B\\xe8&\\x04\\xfe09\\xc4\\xb9\\xcd\\x00\\x9e\\xbdJ\\xcbp\\xcf\\x89:COp\\xfa\\x86\\xd5u\\xbb\\xf95dO\\x94\\xbe?&\\x95\\xf8\\x0e{\\x9c7k\\x08;\\x11\\xde\\x92\\xa2\\xf7\\x8a\\x1cQ\\xbc\\xe8\\x8dMMm\\xb6R[f\\x82Z6\\xd4\\x17T\\xc4\\xf2\\xe0\\xe2\\xf7\\xb4\\x80Z\\xe6\\x8ca\\xa3\\xbb\\xc7u\\xa3~\\x10\\xda\\xaf\\xf96\\xc7\\xfdD\\xbfh\\xbd\\xf8\\xa3[Kt\\xe2^\\x95\\xae\\xa2\\x97\\xb5\\xa5\\xa9\\xa3\\xa5\\x92)9Ky\\x9aj$ \\xe0\\x80F\\xde!t|\\xd4\\xef\\xc1s\\\\}\\n\\x0ej\\x1e\\xe8\\x8dX\\x0eE\\xb2\\xc7\\xfdD\\xbfh\\xba^\\x8acQCO3\\x80\\xe7\\x926\\xbc\\x81\\xd3$\\x02q\\xf4\\xa8\\x0b\\xdd\\x1a\\x1c#\\xd3\\x01\\xfd\\x7f\\xef_\\xfe\\x95>\\xdb?%\\xd1|\\x83=\\x90\\xac\\x17h\\x88\\xa8\"\"\\x02\" \"\"\\x02\" \"\"\\x02\" \"\"\\x02\" \"\"\\x02\" \"\"\\x02\" \"\"\\x02\" \"\"\\x02\\x14B\\x80\\x88\\x88\\x08\\x88\\x80\\xbc\\xe6\\x7f+\\x0f\\x8a\\xfb$\\x01\\x92\\xa2\\xee*q\"\\r!mu\\x05\\x0c\\xcd}\\xea\\xa5\\x84F\\xd1\\x83\\xd84\\x829\\xdd\\xe7\\xf0\\x07\\xa9\\xdf\\xa0A\\x1d\\xf1\\x9e\\xff\\x00.\\xa3\\xd54ZJ\\xd5\\xf8\\xff\\x00\\'\\x945\\xedo\\xef\\xea^p\\x1b\\x92?z\\x0e3\\x9e\\xae \\xf4Y\\x0e)h3e\\xd26;\\xad\\xa4\\xbb\\xb7\\xb2C\\x1d=D\\x91\\x8c8\\xb4\\x1c\\xb6\\\\\\x8e\\x98y?\\xd2\\xcfr\\xb9\\xe0~\\x83\\x9eJ\\x93\\xac\\xef!\\xe5\\xef\\xe64M\\x97%\\xce.\\xc8t\\xc7;\\x9c\\xe4\\x80{\\xf2O\\x81S%}$3\\xc54\\x15\\x10\\xb6ji\\xd8\\xe8\\xe5\\x89\\xe3-{H \\x82<\\x08*\\x0c?\\x0f\\xb5\\x84Z\\xd7J\\xd3\\xdc\\x9a\\xf0\\xda\\xb8\\xc0\\x8a\\xae \\x06Y(\\x03$\\x0f\\x03\\xd4y\\x8e:\\x82\\xb7\\x15\\xccr\\xb6\\xe9\\xc1\\x1dx*\\xe9\\x84\\x956\\x1a\\xe3\\x80\\xd2\\x7fl\\x8f9-\\'\\xa0\\x91\\xb9\\xd8\\xf7\\xfa\\t]\\rf\\xbdP\\xdf\\xed\\x14\\xf7;eCg\\xa5\\x9d\\xbc\\xccsz\\x8f\\x10GPGB:\\xe5Q\\x7f4-x\\xe6=\\xca:\\xe2\\x95\\x1e\\xa8\\xb9\\xd9h\\xa0\\xd2r\\xd5\\xc7V\\xca\\x9eiM5`\\xa7q\\x8f\\x95\\xdb\\x12\\\\\\xdc\\x8c\\x91\\xb6T\\x96@#\\x05x\\x9aV\\x13\\x927A\\xcc_z\\xdcl\\xc6\\xf5\\x97\\xbc\\x7f\\x8f[\\xf6\\xab]\\xd6\\x16m{l\\xa0\\xa7\\x93WO_%#\\xa4\\xe5\\x84T\\xdc\\x05Ky\\xf1\\x9d\\x80{\\xb0q\\x9d\\xf0\\xba\\xeeJV\\x06\\x1c\\x05\\t\\xfb\\xa0\\x9b\\xcb\\xa4\\xedC\\xff\\x00\\\\}\\x87(4\\x9bN\\x9b\\xe2\\xcc\\xb6j)\\xad5wv\\xdb\\xe4\\x85\\xae\\xa5\\x11\\xdd\\xc4m\\x11\\x91\\x96\\xe1\\xa6A\\x81\\x8e\\xec\\x0c+\\xb6\\xe9>7<\\xe1\\xb5\\x97\\xc3\\xff\\x00\\xbe\\xb7\\xedT\\xef\\xc3\\xf8\\x1a\\xfe\\x1di\\xc7\\x1e\\xbfs\\xa0\\xf6\\x02\\xd9Y\\x03Xr\\x02{\\x18\\r\\x1bIv\\xa5\\xd1v\\xca[\\xeb\\xa4u\\xce8qPf\\x94J\\xf2\\xec\\x93\\xbb\\xb2A8\\xc6\\xf9+%P\\xd8i\\xa1\\x92g\\xe4\\xb66\\x978\\x0e\\xa4\\x00I\\xc6O\\x99d\\xbb\\x96\\x1a\\xf2\\xe7y\\x1dX\\x07n\\xc5\\xff\\x00QJ#\\x1f\\xc2\\x0bF\\x7f\\'_\\x7f\\xa9\\x8b\\xedV+P\\xf1\\xb3L]\\xf4\\xd5\\xda\\xddKExd\\xd5\\x94r\\xc0\\xc3,Q\\x86\\x879\\xa5\\xa0\\x92$$\\r\\xf7\\xc0+[\\xe0\\xb6\\x8d\\xb1k\\t/\\x82\\xf5@*\\xbc\\x94@b\\xfcl\\x91\\xf2\\xf3\\x17\\xe7\\xe0\\xb8g<\\xa3\\xaeT\\xaf\\xff\\x00b\\x9a\\x1b\\xff\\x00/\\x8f\\xf4\\xc9\\xfe\\xd1OB(\\xe1g\\x13lZ&\\xc9]Et\\xa5\\xb8M%EH\\x99\\x86\\x9669\\xa0\\x06\\x81\\x83\\xcc\\xf6\\xef\\xb7p[\\xcf\\xe1\\x05\\xa3\\x7f\\x93\\xaf\\xbf\\xd4\\xc5\\xf6\\xab=\\xff\\x00b\\xba\\x1b\\xff\\x00/\\x8f\\xf4\\xba\\x8f\\xb4Z\\xde\\xbb\\xe1v\\x90\\xb2h{\\xc5\\xc6\\x8a\\xcb\\xd8\\xd5\\xd3\\xc3\\xcd\\x14\\x9eU3\\xb9N@\\xe8\\\\A\\xd8\\xf7\\x84\\xee\\t\\x0bE\\xeb\\x0bn\\xb6\\xb3Kq\\xb6CS\\x14\\x11N\\xeaw6\\xa5\\xadk\\x8b\\x83Z\\xe3\\x80\\xd78c\\x0f\\x1d\\xfe;*\\xea\\xdd5O\\xab,\\xd3Zk\\xe4\\xa8e4\\xaek\\x9c\\xe8\\x1c\\x1a\\xe0ZA\\x18$\\x11\\xd4x-+\\xdc\\xe5\\xfb\\x9e\\xd7\\xff\\x00\\x8dd\\xfd\\x14*[\\x98\\x81\\x19\\xc8W\\xa1\\xcd|D\\xe1n\\x9c\\xd1\\xfaI\\xd7J*\\xcb\\x93\\xea\\x8dC!\\x8d\\x95\\x12\\xc6Z\\xe2rN\\xc1\\x80\\x92\\x00\\'b\\xbd\\xb8u\\xc3\\r\\'\\xadt\\x8b+\\xa7\\xb8\\\\\\x85\\xc2\\'\\xb9\\x95P\\xc1$mlg\\'\\x97\\x00\\xb0\\x9c\\x16\\xe0\\xe7;\\x9c\\xf8`{\\xf1\\xba\\xf0\\xeb\\xce\\xa0\\xb5\\xe9\\n\\x0f\\xc7N\\xd9\\x04\\x925\\xa4\\x1c\\xcb&\\x1b\\x1bz\\xec@$\\xef\\xdc\\xe0\\xb1u\\x14\\xd7\\x1e\\x07\\xeb\\xeaZ\\x88e\\x96\\xaa\\xcfW\\x18\\x0f\\xdf\\xf6\\xf6\\x0c\\x07\\xb4\\x8d\\x80sI\\xc8>\\x04x\\x90\\x82\\xfb\\x8a\\xda\\r\\xb4\\xb4\\xd6\\xca\\xd8\\xae\\xb4T\\xd6\\xcbu\\xbe:\\x08\\x9bY+\\xcc\\xf39\\xae{\\x80\\x01\\x91\\x90I\\x0e\\x1b\\xec\\x06\\xe4\\xe0n\\xb0v\\xde\\x08j\\x1b\\xb5\\xaa\\x8e\\xe5Kr\\xb3\\x1az\\xb8[4D\\xcb.y\\\\\\x01\\xdc\\x08\\xce\\x08\\xce\\x08\\xee*Y\\xe2\\x8d\\x15.\\xa7\\xe1umm\\x1b\\x9b4q\\xc5\\x1d\\xc6\\x9aL\\x1c\\x16\\x80\\t#\\xc3\\xde\\x17/.\\x08\\xdd\\xcd\\xd7\\x86\\xb1R\\xbc\\xe6[}C\\xe9\\xb2z\\x96\\x9c=\\xbe\\xaf}\\x8fR\\x08j\\xa7\\x85\\xd5\\xf4z\\xaa=7U}\\xb1\\xd3\\xd7\\xcd\\x1b$\\x8b\\xb5\\x96V\\xb2B\\xe2Z\\x18\\x1d\\xd9\\xfc,\\x8e\\x87\\x19\\xc8\\xc6N@\\xebJ8]ME\\x04. \\xba8\\xda\\xd2GB@\\x03o\\xa1s\\xbd\\x8c\\x1dc\\xee\\x8f\\x96\\xb1\\xa3\\x9e\\x9a\\x8e\\xa1\\xd2g9\\x01\\xb0\\xb41\\xa4z\\\\\\x1a}y]&\\x80\\x88\\x8a\\x82\" \"\"\\x02\" \"\"\\x02\" \"\"\\x02\" \"\"\\x02\" \"\"\\x02\" \"\"\\x02\" \"\"\\x02\" !D(\\x08\\x88\\x80\\xa8\\xe2\\x00\\xc9U_/nZB\\x08\\xcf\\x8a\\xda\\xf2\\xe9\\xa3\\xac\\xf1:\\xd5@_%I1\\xf9d\\x981\\xc0Gw.r\\\\GL\\xe0zz-\\x0f\\x87\\xdc$\\xb8j\\x0b\\x93u&\\xb4\\x12\\xba\\x19\\x1d\\xda\\xb6\\x9abL\\xb5\\x0e\\'9\\x93;\\x86\\xf9\\xba\\x9e\\xfc\\x0e\\xb3\\xd4\\xb4\\x10\\xccq$l\\x91\\xa1\\xc1\\xc0=\\xa1\\xc0\\x10A\\x07\\x07\\xbc\\x11\\x90{\\x8a\\xbf\\x00\\x01\\x80\\xa0\\xf8c\\x19\\x13\\x1a\\xc645\\x8d\\x18\\x00\\x0c\\x00\\x12X\\x84\\x8c \\x85\\xe8\\x8a\\x8dSQ\\xe9\\xda\\rAi\\xa8\\xb5\\xdd \\xed)\\xa5\\x1b8c\\x9a7\\x01\\xb3\\x9aH\\xd8\\x8f\\xf9\\x1d\\x94\\x1fJu_\\x065c)\\xe9\\xe3\\x92\\xe3h\\xaf\\x9468\\xc0<\\x95D\\x90\\x00\\x18\\xcf,\\xa0\\x10<\\xfeq\\x85\\xd2\\xd2\\xc2\\xd9\\x1b\\x82\\x15\\xb7\\x91\\xc7\\x86\\x87\\xb1\\xaf\\rpsC\\x9a\\x0e\\x08\\xe8Fz\\x1f:\\x9d\\x0by\\xeb&\\x16\\xc7L\\xd8\\xa5\\x86\\xa1\\xd0\\x976\"\\x03\\x9c\\xc7\\x16\\xe4\\x02\\x01 \\x90v\\xdb!s\\xaf\\xdf\\xa7\\x1b\\x8f\\xf6\\x0b\\xd7\\xfa\\x8d\\xbfb\\xbafZf\\xcarW\\x9f\\x917\\xc5\\x074\\x9di\\xc6\\xf21\\xe4\\xf7\\xaf\\xf5\\x1b~\\xc9a\\xf5\\x14\\xbcN\\xd54\\xb1R\\xde\\xed7\\xaa\\xa8a\\x93\\xb4c~\\xe4\\x18\\xf9\\\\A\\x19\\xcbc\\x04\\xec{\\xd7Wy\\x1b|S\\xc8\\xdb\\xe2\\x83\\x98m\\xfa\\x8f\\x8cV\\xcbm5\\xbe\\x8a\\x8e\\xf7\\x1554m\\x8a(\\xfe\\xe2\\x87r\\xb4\\x0c\\x01\\x93\\x11\\'o\\x12\\xae>\\xfdx\\xdf\\xfd\\xaf{\\xff\\x00Q\\xb7\\xec\\x97Ky\\x13|UE\\x18\\x07\\xaa\\x08\\xbf\\x84\\xf7\\xcdyv\\xb9\\\\\\x99\\xac\"\\xafd\\x11\\xc2\\xc3\\x01\\xaa\\xb7\\x8ap\\\\\\\\A\\xc1\\x0cnN;\\xb7[\\xf5\\xec\\xe2\\x92\\xa8\\xff\\x00y\\x93\\xea+4\\xd6\\xe1\\xb8^2\\xd3\\t\\x1d\\x92\\xa8\\xe3\\x9d\\x19\\xa0.\\x9a\\xe9\\xd5\\xbfs*h\\xa14ma\\x93\\xca^\\xf6\\xe7\\x9b\\x9b\\x18\\xe5k\\xb3\\xf0Ns\\x85\\xb3\\xfe\\x0f\\xba\\xaf\\xf9F\\xcb\\xfdt\\xbff\\xba\\x84@\\xde\\\\\\x10\\xbe\\xbb\\x06x)\\xecr\\xe7\\xe0\\xfd\\xaa\\xbf\\x94l\\xbf\\xd7K\\xf6j\\xca\\xf9\\xc1\\x9b\\xfe\\x9f\\xb1\\xd6]\\xaa\\xeb\\xed/\\x82\\x91\\x9c\\xeflR\\xc8\\\\F@\\xd8\\x18\\xc0=|B\\xea\\xfe\\xc1\\x9e\\x0b\\xc8R4I\\xcc6A\\x14\\xfb\\x9c\\xbfs\\xda\\xff\\x00\\xf1\\xac\\x9f\\xa2\\x85n\\xfa\\xc2\\xf1_f\\xd3w\\n\\xebu\\x11\\xac\\xac\\x862\\xe8\\xe1\\x18\\xdb\\xc5\\xc4g$\\x01\\xb9\\x03s\\x8c\\x05\\xb4\\x01\\x81\\x85n\\xea`d\\xe6T@\\xfc\\x17\\xd1\\xd5\\xb7\\x8b\\xbc\\xfa\\xe2\\xf8\\x1e\\xf7\\xbd\\xcf4\\xae\\x90\\xef,\\x8e\\xc8t\\x84c\\xa0\\xc9\\x03\\xcf\\x9f\\x00\\xa5\\xbb\\xe6\\x99\\xb4\\xea\\x08`\\x82\\xf3H*a\\x82\\xa1\\xb3\\xb1\\x8e\\xe9\\xcc2\\x008\\xea\\x088#\\xa1\\xefY\\xd8a\\x8e\\x9e\\x16C\\x0b\\x1b\\x1cl\\x01\\xadcF\\x00\\x03\\xb8\\x01\\xd0*\\xcdN%\\xf3 \\xe6\\xadE\\xc6\\xbdB\\xca\\xbb\\xb5\\x9b\\xeem\\xa1\\xd4\\x81\\xf3R`\\xc3&Lys7\\xc4\\x98\\xce<\\xd8\\xf3-GG\\xf1\\x0e\\xf3\\xa2i+\\xe9\\xedl\\xa6tu\\xbc\\xbc\\xfd\\xbb\\\\\\xee\\xcc\\x80G30\\xe1\\x83\\xbe\\xf9\\xcf@\\xba\\xf7\\xc8\\xdc\\x06\\x03\\x8a\\xaf\\x92;\\xf8EEq\\xf6\\x8a\\xd7\\xd7\\x1d\\tSUSm\\xa4\\xa1\\x9ej\\xa6\\xb5\\x8fuS\\x1c\\xe2\\xd6\\x83\\x9c\\x02\\xd77\\x19\\'|\\xe7\\xa0]\\'\\xc2\\xfd]p\\xd6\\xfaI\\xf7[\\x94T\\xd1N*_\\x08e3\\\\\\xd6\\xe0\\x06\\x90}\\xf3\\x89\\xce\\xe7\\xbdn\\x11\\xd3\\xb9\\xae\\xcf1W@`*\\x8a\\xa2\"\\x02\" \"\"\\x02\" \"\"\\x02\" \"\"\\x02\" \"\"\\x02\" \"\"\\x02\" \"\"\\x02\" \"\"\\x02\" !D(\\x08\\x88\\x80\\x88\\x88\\x08\\x88\\x80\\x88\\x88\\x08\\x88\\x80\\x88\\x88\\x08\\x88\\x80\\x88\\x88\\x08\\xb1\\xb7K\\xb5\\xba\\xcd\\x0b&\\xb9\\\\)ha{\\xb9\\x1b%L\\xcd\\x8d\\xa5\\xd8\\'\\x00\\xb8\\x81\\x9c\\x02}K[\\xab\\xe2\\xa6\\x87\\xa1\\x89\\xaf\\x93QR=\\xa4\\xe3\\xf1!\\xd2\\x9e\\x9d\\xe1\\x80\\x906\\xeb\\x8c \\xdd\\x91C\\x97Ot\\x16\\x98\\xa3k\\x9bo\\xa5\\xb8W<7-w(\\x89\\x84\\xe3`K\\x89p\\xdf\\xa9\\xe5>\\xbe\\x8a\\xe7L\\xf1f\\xbbQ\\xe9\\x8dIr6sK5\\xba\\x92Z\\xaaW\\x96=\\xf0<62C\\\\\\xfd\\xb2\\xeea\\xb8\\x18\\xc8;t%\\x04\\xb4\\x8a*\\xe1\\xe7\\x13j5\\x1e\\x95\\xbc^\\xf5\\x17\\x91\\xd1\\xc1n\\x90s>\\x99\\x8f\\x007\\x979 \\xb9\\xc4\\x9c\\xec\\x00\\xeb\\xd3\\x0bb\\xd1<B\\xb3\\xeb\\xaaz\\x97\\xdb\\xbbH\\xa7\\xa7y\\x0f\\xa7\\x9b\\x01\\xfc\\xb9\\xf7\\xaf\\x00\\x1d\\xc1\\x1fA\\xdb\\xc0\\x90\\xdc\\xd1P\\x90\\x06J\\x8e\\xb8\\x8f\\xc4\\xf1\\xc3\\xf9\\xad\\xec\\x16\\x8f\\xba\\x1eX\\xd9\\x0e|\\xa7\\xb2\\xe4\\xe5-\\x1f\\xc1vs\\xcd\\xe6\\xe8\\x82FE\\xcf\\xff\\x00\\x84\\xcf\\xf8#\\xfe\\xd2\\xff\\x00\\xa4\\x9f\\x84\\xcf\\xf8#\\xfe\\xd2\\xff\\x00\\xa4\\x83\\xa0\\x11s\\xff\\x00\\xe13\\xfe\\x08\\xff\\x00\\xb4\\xbf\\xe9\\'\\xe13\\xfe\\x08\\xff\\x00\\xb4\\xbf\\xe9 \\xe8\\x04Z\\xce\\x88\\xd5\\x1f~:R\\x96\\xf9\\xe4^G\\xe5\\x0ex\\xec{N\\xd3\\x97\\x95\\xe5\\xbf\\x0b\\x039\\xc6z-\\x99\\x01\\x11\\x10\\x11\\x11\\x01\\x11\\x10\\x11\\x11\\x01\\x11\\x10\\x11\\x11\\x01\\x11\\x10\\x11\\x11\\x01\\x11\\x10\\x11\\x11\\x01\\x11\\x10\\x11\\x11\\x01\\x11\\x10\\x11\\x11\\x01\\x11\\x10\\x11\\x11\\x01\\n!@DD\\x04D@DD\\x04D@DD\\x04D@DD\\x05Gt8U_/8i(5=e\\xa6\\xa3\\xd5\\xba~\\xae\\xd1P\\xf3\\x13f\\xc3\\xa3\\x983\\x98\\xc6\\xf0A\\x0e\\x03#=0FFA*6<\\x01\\xb1\\xd2\\xd1\\xcb-E\\xda\\xe5,\\x91\\xc2\\xe7\\x13\\x18\\x8e6\\xb9\\xc0g \\x10\\xe2\\x06{\\xb2O\\x9dm\\xbcT\\xa4\\xd5\\x17k5\\x14:RJ\\xb8\\xeb\\x19S\\xcd)\\xa6\\xac\\x14\\xee1\\xf2\\xb8nK\\x9b\\x91\\x926\\xca\\x88\\xe5\\xd2\\xdce\\x10H\\xe9\\xaa\\xef& \\xd2_\\x9b\\xdbH\\xc0\\x199\\x1d\\xae\\xfb/5W\\xfc\\x01\\xb0\\xda\\xafu\\xf7\\xb7\\xdc\\xad\\xd4\\xb5\\x86\\x99\\xb0\\xba/(\\x88H\\x18I~p\\x08\\xc6\\xf8\\x1fB\\x9au\\x9c\\x0en\\x88\\xd4\\x10B\\xc0\\x07\\xdc\\xba\\x96\\xb5\\x8c\\x00\\r\\xe2p\\x00\\x00\\xb9\\x7fFZ\\xb5\\x8d\\xcd\\xd5\\x83G\\xcd[\\x1b\\xa3\\x0c\\xf2\\xaf%\\xad\\x14\\xd9\\x04\\x9e\\\\\\x92\\xe6\\xf3n\\x1d\\x8e\\xb8\\xf5\\xad\\x9a\\xb3K\\xf1u\\xb4\\x15N\\xad\\xa9\\xbc>\\x99\\xb18\\xcc\\x1fyk\\xc1`\\x04\\xb8\\x11\\xda\\x9c\\x8cgl\\x1c\\xabQ\\xb7\\xfb\\x9f\\xe3\\x12\\xe9K\\xe4Ocd\\x8d\\xf5Mk\\xd8\\xe0\\x08p,\\xc1\\x04\\x1e\\xa0\\x85\\x8b\\xad\\xd1\\x1a\\x83C\\xf1V\\xdbY\\xa3\\xe9%\\xa8\\xa5\\xaby|Q\\x82C\\x1a\\xcc\\xe2H\\xa4q\\xd84\\x020O\\x88\\xc6HZ&\\x8b\\xb4\\xeb\\xab\\xad-Y\\xd25\\x15\\xec\\x867\\xb7\\xca\\x1bMp\\x14\\xe3\\x98\\x83\\x82A{rp\\x0e\\xfb\\xad\\x99\\xbaG\\x8d\\xc7\\xe0\\xd5\\xde\\xfdW\\xc6\\xfd\\xaa\\x7f#\\xa6\\xe7\\'\\xb0$\\xecq\\xd3\\xae\\n\\xe7otNMF\\x9d\\'\\xf8\\x15\\x1f[\\x14\\xc9\\xa2\\xa9/4:\\x1a\\xdfM\\xa8\\x1d3\\xae\\xb1\\xb1\\xdeP\\xe9\\xa6\\x12\\xb8\\x92\\xf7c.\\xc9\\x0e\\xd8\\x8e\\xf2\\xa1\\xbftA\\xcdF\\x9d\\x1e\\x0c\\xa8\\xfa\\xd8\\x82]\\xa7\\xd0\\xbae\\xd6\\xfaw\\xfd\\xec\\xd9\\x9cLM$\\x9a\\x08\\x89$\\x80I$\\xb5E\\xbcq\\xb0Z-:b\\xdb5\\xbe\\xcfo\\xa2\\x95\\xf5\\x85\\xae}-3#s\\x9b\\xc8\\xe3\\x82Z\\x06FB\\xd7\\xe3\\xd2\\xdcg0\\xc6\\xe8\\xea\\xefb2\\xd0[\\x8b\\xdb@\\xc1\\x1b`v\\xbbl\\xb5\\xfdae\\xd7\\x96\\xca\\ny5t\\xf5\\xf2R:NX|\\xa6\\xe0*Z\\x1f\\x82v\\x01\\xee\\xc1\\xc6w\\xc2\\t\\xff\\x00Ih\\xdd9Y\\xa2l\\x15\\x13i\\xfbL\\xb2\\xcbm\\xa7\\x92I$\\xa1\\x89\\xces\\x8cM$\\x92ZI$\\x9c\\x92z\\xad\\x7f\\x8a\\xfaf\\xc5l\\xe1\\xc5\\xce\\xa6\\x96\\xc3l\\xa5\\xa9\\x8d\\xf0\\x86\\xcdOG\\x1cnh2\\xb4\\x1c8\\x00w\\x04\\x82\\xa3\\xbb^\\x9a\\xe2\\xd4\\xd6j)\\xad\\xd57v\\xd0IO\\x1b\\xe9\\x84w\\x96\\xc6\\xde\\xc8\\xb4\\x16\\x80\\xd3(\\xc0\\xc1\\x18\\x18\\xdb\\xa6\\x15\\x8e\\xa6\\xd3\\xfcJ\\xa2\\xb0OS\\xa9*.o\\xb5\\xb0\\xb4J\\'\\xba6vd\\xb8\\x06\\xe5\\xa2BN\\xe4wm\\xd5\\x04\\xe5\\xc0\\xdf\\xdc\\xa2\\xd5\\xf2\\x93\\xfe\\x95\\xcaFQ\\xcf\\x03\\x7fr\\x8bW\\xcaO\\xfaW)\\x19PDD\\x04D@DD\\x04D@DD\\x04D@DD\\x04D@DD\\x05N\\xa1U\\x10\\x11\\x11\\x01\\x11\\x10\\x11\\x11\\x01\\x11\\x10\\x11\\x11\\x01\\x11\\x10\\x10\\xa2\\x14\\x04D@DD\\x04D@DD\\x04D@DD\\x04D@T \\x11\\x82\\xaa\\xbe\\\\Hi!\\x05\\xac\\xb1\\xc2\\xc6\\x97\\xc8\\xe6\\xb5\\xad\\x04\\xb9\\xc4\\x80\\x07\\x89$\\xf4Z\\xc6\\xa0\\xd4\\xbav\\xdbKU\\x1dM\\xf2\\xdb\\x0c\\xa6\\x07b\\'T\\xb0Hr\\x08\\x18nrs\\xe8X\\x9e)i\\n\\xdds\\xa7\\xa0\\xb7P\\xcbO\\rT\\x15M\\x99\\xaf\\xa8$4\\xb45\\xcd#-\\x04\\xf7\\x83\\xd3\\xb9F\\xce\\xf7?\\xcd\\x0c\\x13\\xcb>\\xa4c{6\\x17\\xb42\\x88\\xbb8\\x04\\xe0\\x92\\xf1\\x8e\\x9eu(\\xc2p\\x8f\\\\\\xd9\\xb49\\xbc\\xcdveT\\x86\\xa9\\xb0\\xb6(\\xe9\\xd8\\x1c\\xe3\\xca_\\x92r@\\x03q\\xd4\\xa97Mq2\\x8f_\\xdcnv\\x8a;L\\xd4\\xf16\\xd9,\\xc6i\\xa5\\x05\\xc4\\x82\\xd6\\x96\\xf2\\x81\\x8c{\\xfc\\xe7>\\xa5\\x1c\\xf0WD\\xd95\\x85]\\xdc^i_P\\xcaF\\xc2\\xe8\\xda%s>\\x11vs\\xcaA\\xfd\\xe8S\\xed\\xafKX\\xf4\\xec\\x8d6\\xabM5+\\xcb;7K\\x1c@\\xc8Y\\xb6\\xc5\\xe7. \\x90\\t\\xc99#\\'u(\\x88\\xfd\\xce\\xf5-d:\\x99\\x92\\xbc5\\x8d\\x14\\xf2\\xe4\\x91\\x80\\x00\\x948\\x93\\xe8\\xc2\\xae\\x96\\xd4W\\xcds\\xc6\\xb9\\xaa\\xed7\\x1a\\x9a[=3\\x7f\\x18\\xd6\\x13\\xc8\\xfav\\x1c4\\x16\\x90F^\\xe3\\x9d\\xf7\\x01\\xc7\\x07e\\x18\\xd3\\xd5\\xddl\\xd5\\xf7\\xdd/gk\\x9en3y\\x13\\x9a\\xc0]#\\xc3^@kq\\xe3\\x9c\\x1f\\x10\\xba3B\\xe9\\xbbw\\x0ct_ku\\xa8\\xa7\\xa7\\xa8\\x9d\\xcc}uC\\x9f\\x865\\xce!\\xadfz`s\\x01\\x9e\\x99$\\xec\\x0e\\xd7\\xa1 T\\xfe\\xd2\\xefB\\xe7_tG\\xed\\xfaw\\xf9\\x95\\x1f[\\x17B\\xca\\xf0\\xfa~f\\xb8\\x16\\xb8d\\x10s\\x9e\\xfc\\x82\\x17<q\\xbd\\xc2\\xe5\\xad\\xb4\\xfd\\x99\\xa7.1\\x00H\\xea\\x0c\\xb2r\\x8e\\xbbg\\xde\\xa0\\x91i\\xf8\\xbb\\xc3\\xf6P\\xc1\\x1b\\xef\\xb8\\x91\\xb1\\xb5\\xa4y\\x1dA\\xc1\\x03\\x04dF\\xa3n1km5\\xa9\\xf4\\xf5\\xbe\\x96\\xc9r\\xf2\\xb9\\xa2\\xaa2=\\xbd\\x84\\x8c\\xc3yH\\xce\\\\\\xd0\\x0e\\xe7\\xb9m\\x8f\\xf7=\\xe9Fg\\xfe\\xfd{ w\\xf6\\xd1}\\x9a\\xd0\\xf8\\x9f\\xc3k.\\x8a\\xb1\\xd1W[*.\\x12\\xc9=I\\x85\\xc2\\xa6F9\\xa0r\\x93\\xb7+[\\xbe\\xc9\\xe8I:c\\x8a\\x9a\\x16\\xdd\\xa4,\\xd45\\xb7\\xbe\\xca\\xa6\\x9a\\x82\\x08eg\\x92\\xce\\xeeW\\xb66\\xb5\\xc3!\\x84\\x1c\\x10z\\x12\\x16\\x03\\x89\\x9cC\\xd2\\x17\\xfd\\x0bp\\xb6Zn\\xfeQW3\\xe21\\xc7\\xe4\\xd2\\xb3 =\\xae;\\xb9\\x80\\x0c\\x00z\\x95\\xf7a\\xe0~\\x9a\\xbbi\\x9bU\\xcej\\xdb\\xc3e\\xac\\xa2\\x86\\xa1\\xe29c\\r\\x0e{\\x03\\x88\\x00\\xc6H\\x19;d\\x9fJ\\xc3\\xeb\\xee\\x12\\xe9\\xfd-\\xa3+\\xaf\\x145w7\\xd5S\\xba0\\xd6TK\\x1b\\x9aC\\x9e\\xd6\\x9c\\xf2\\xb0\\x1e\\x87m\\xd3\\xd0\\x92\\xf8\\x1b\\xfb\\x94Z\\xbeR\\x7f\\xd2\\xb9H\\xca9\\xe0o\\xeeQj\\xf9I\\xff\\x00J\\xe5#*\\x08\\x88\\x80\\x88\\x88\\x08\\x88\\x80\\x88\\x88\\x08\\x88\\x80\\x88\\x88\\x08\\x88\\x80\\x88\\x88\\x08\\x88\\x80\\x88\\x88\\x08\\x88\\x80\\x88\\x88\\x08\\x88\\x80\\x88\\x88\\x08\\x88\\x80\\x88\\x88\\x08Q\\n\\x02\" \"\"\\x02\" \"\"\\x02\\xa6QYT\\xd7AE\\x01\\x9a\\xa6fG\\x13z\\xb9\\xc7\\x03\\xff\\x00\\xef\\x99\"[\\'\\xda\\xf7*\\x9b-:\\xab\\x88V\\xa8\\tl,\\xa8\\xa8#\\xf7\\xcd`h\\xfc\\xe4\\x1f\\xcc\\xb1\\xb2\\xf147\\xf6\\xbbc\\x9c?\\xbb\\x9f\\x1f\\xf0\\x95\\x92i\\xd9~\\xa3\\r\\xe4k\\x9fu\"eQG1\\xf1A\\x87\\xe1\\xda\\xde7\\x1f\\x06pO\\xd0Z7W\\xf4|F\\xb4T\\xbd\\x91L*)I\\xdb\\x9aF\\xe5\\xb9\\xf4\\x82H\\xf4\\x91\\x84\\xbavO\\xb8\\xb3~\\xbb\\xfc\\xb7\\x95B2\\xad\\xa0\\x9e*\\x98\\x9b4\\x12\\xb6H\\x9e2\\xd7\\xb4\\x82\\x08\\xf3\\x10\\xaer\\xb1\\xb2\\xf6\\xb3\\xaa\\x9a\\x9e\\x92\\x9eJ\\x9a\\x99b\\x86\\x18\\x9a_$\\x9285\\xach\\xdc\\x92I\\xc0\\x03\\xbc\\xadV\\xeb\\xact\\x9b\\xa8\\xaa\\x8cz\\x9e\\xcc\\xef\\xc4\\xb8\\x06\\xb2\\xba\"I \\xe0\\x00\\x1d\\x92V\\xc7r\\x80USMM3;H\\'\\x8d\\xd1\\xc8\\xd22\\x1c\\xd2\\x08 \\x83\\xe6*\\ro\\xb9\\xcb\\x9d\\xc4\\rPZ3\\xd0\\xdb\\xf3\\x81\\xe9\\xed\\x14\\xaa\\xb6\\xf7?V\\xc3k\\x8bUWTv\\x9d\\x8d<\\x10H\\xfe\\xcd\\x85\\xee\\xc0\\xed\\t\\xc0\\x00\\x93\\xeaT\\xd4<O\\xd4\\x9c@\\xb8\\xba\\xc3\\xa2\\xe8j \\xa6\\x93-t\\xa3i\\x9e\\xd3\\xb1.vq\\x1b}y\\xf3\\xef\\x85*\\xe8^\\x1eP\\xe8\\x8a*\\x98ig\\x96\\xa6\\xa6\\xa8\\xb4\\xd4TH\\xd0\\xdenP@\\x01\\xa38\\x19.8$\\x9d\\xf7\\'e\\xb0Zl6\\xbb\\x15,\\x90[hi\\xe9#\\x91\\xdc\\xef\\x10\\xb07\\x99\\xc7\\xbc\\x91\\xd7\\xfd\\xc1\\x075_tm\\xe7\\x855\\xf6\\x1dE\\x1dC*K\\x1e\\x1d#\\xa3\\x0429A\\xc9\\x8c\\x93\\xb9k\\x9aH\\xce\\x06}\\xf6\\xc1m\\xdc\\\\\\xe2%\\xa7Pp\\xfe\\x82\\x9a\\xd3[\\x1c\\x92W\\xca\\xd9g\\x808\\x17\\xc2\\xc6\\x82K^\\x07C\\xcc[\\x8c\\xf5\\xc1##u/\\xde\\xac\\x94\\xb7\\x8buE\\xba\\xbe\\x98TQ\\xd47\\x95\\xec>\\x9c\\x82\\x08\\xdc\\x10w\\x04t*<\\xb1p\\x16\\xd1l\\xd4\\x11\\\\j+\\xe7\\xac\\xa3\\x85\\xe1\\xf1RK\\x10\\x19p\\xc1\\x1c\\xee\\x07\\xdf\\x0c\\xef\\x80\\xd6\\xe7\\xa1\\xdb9\\r\\xcfB\\xda\\xa6\\xb1\\xf0\\xfe\\xc9o\\xa8\\xe6\\x15\\r\\xa6k\\xa5k\\x9d\\x92\\xd78\\x97\\x16\\xf5\\xee.\\xc7\\x80\\xc6\\xca\\x18\\xa4{u\\xd7\\xba\\x1a)a&j:Z\\x90\\xf6\\xbbnQ\\x1c\\x00\\x10F;\\x8b\\x9b\\xeb\\xe6]\\x17[\\x01\\x9d\\xa5\\x85\\xb9c\\x81\\x04x\\x820B\\xd5t\\x87\\r\\xec\\xba2\\xf3q\\xb9\\xdb\\x19 u[\\x1a\\xc6\\xc7!\\xe6\\x104\\x12\\\\\\xd6\\x93\\xbe\\t\\xe5;\\x93\\xf0F\\xe87I\\x80\\xec\\xce\\xca\\r\\xf7A\\xfcS\\xb5\\xfc\\xf8\\xfb\\x0eS\\xa4\\x83\\x99\\x84\\x05\\xa7j\\xdd\\x07o\\xd7\\x14PQ\\\\\\xa7\\xab\\x868%34\\xd3=\\xadq$\\x11\\x82\\\\\\xd7m\\x83\\xe0\\x82\\xebH\\xd4\\xd3Qp\\xdbO\\xd4\\xd5O\\x14\\x10Gh\\xa6t\\x92\\xca\\xf0\\xd6\\xb0v-\\xdc\\x92p\\x02\\xd08\\xb9\\xaa4\\xf5\\x7f\\x0fn\\x14\\x947\\xdbmeL\\xd2\\xc4\\x19\\r5K$q\\xc3\\xda\\xe2p\\xd2H\\x00\\x03\\xbfE\"\\xc9c\\xa7\\x8bJ3M\\x83$\\x94M\\xa1\\x149\\x93\\x05\\xc60\\xce@I\\x00\\x02p;\\x80\\xdf\\xc1Dt~\\xe7\\x18L\\xcd5:\\x9aW\\xc4\\x0f\\xbeltA\\x8e#\\xcc\\xe3!\\x03\\xe8(7\\xae\\x07~\\xe4\\xf6\\xaf\\xe7\\xcf\\xfaW)\\x19b\\xec\\xb6z-?i\\xa5\\xb6[\\xa2\\xec\\xa9)\\xe3\\x0c\\x8d\\xb9\\xc9\\xeaI$\\xf7\\x92I$\\xf7\\x92\\xb2\\x8a\\x82\" \"*e\\x05U2\\xaa\\xac\\xeb\\xea]GASP\\xd6\\x87\\x18bt\\x80\\x1d\\xb3\\x80N?2\\x0b\\xbc\\xa2\\x88\\xad\\x9a\\xea\\xf7x\\xd4\\x96\\xfaw\\xbe8)\\xe4\\x9d\\xadtP\\xb3\\x1c\\xc3=\\xe4\\xe4\\xf4\\xf3\\x85/ \"\"\\x02\" \"\"\\x02\" \"\"\\x02\" \"\"\\x02*e3\\xba\\n\\xa2\\xa6UP\\x11\\x11\\x01\\x11\\x10\\x11\\x11\\x01\\n!@DD\\x04D@DD\\x04TL\\xa0\\xa2\\x8a\\xb5\\xd5t\\xd5Z\\x80\\xd1\\x07\\x1e\\xce\\x06\\xb5\\xadfv\\xe6p\\xce}8 )T\\xa8s[\\xb8\\x8d]]\\xe9g\\xe8\\xda\\xb3q\\xe7y\\xb5y7\\xac\\x19\\xca\\xae\\x1f\\xc7\\x15\\xad\\xf2\\xb2\\xaaGV1\\x9c\\xd8\\xd8Fp:\\x01\\x8c\\x8fN\\x7fR\\x8f\\\\p\\xb6*\\x8dkx\\x9a\\xda\\xea\\'I\\x16\\x1c\\xceGJ\\x1ay\\xf1\\xdf\\xbeq\\xeb\\xc6V\\xb2\\xe3\\x8f\\xd6\\xba\\x1a&S\\xbf*\\xd0\\xdb\\xe3z\\xf1\\x8a9\\xcb\\xcd\\xc7=U\\\\\\xee\\xab\\xcd\\xc5l\\xb17\\x8e\\x1b\\xde\\xe5\\x82\\xf0mr8\\xba\\x9e\\xa5\\xa4\\xc6\\x0f\\xef^\\x06v\\xf4\\x80s\\xe8\\n]\\x1dT\\x15\\xa0Nu\\xc5\\xb8|\\xa7\\xe8\\xde\\xa7a\\xd1q\\xf9X\\xc9\\xb3\\xd3\\xa9\\xc5\\xb6\\xe1\\xec-\\x07\\xa8T\\x0ch\\xeeU\\xca,\\r\\xa5Q\\x11\\x059A\\xeeL\\x00\\xaa\\xbey\\x80AR\\x01UT\\xcae\\x05U0<\\x13\\x98*\\xa0\\xf9s\\x03\\xba\\x85P\\xd0:\\x05\\\\\\xaae\\x05Q\\x11\\x01\\x152\\x99Am4\\xd1\\xc1\\x13\\xe5\\x95\\xeddlis\\x9e\\xe3\\x80\\x00\\xdc\\x92{\\x80Z\\xfbu\\xcd\\x9e{\\xad=\\xb6\\x96Y*f\\x99\\xfc\\x9c\\xf1\\xb3\\x0ci\\xf1\\xc9\\xeb\\xea\\xca\\xca\\xeaO\\x8b\\x17~\\x98\\xf29\\xbd\\x82\\xa1]\\x1b\\x8f\\xbf\\x0b_\\xcb\\x0f\\xa9\\x04\\xfe\\xb1\\xf7\\xbf\\xc87\\x1f\\x9bI\\xec\\x95\\x7f\\x95a{\\xfc\\x83q\\xf9\\xb4\\x9e\\xc9A\\x06i3\\xfb-\\xb5|\\xe9\\x9fZ\\xe85\\xcf\\x9aS\\xe3m\\xab\\xe7L\\xfa\\xd7Ae\\x05Q\\x152\\x10U\\x11\\x10\\x11S\\x98&PU\\x159\\x82\\xaa\\x02\" \"\\xa6S(*\\x8a\\x99\\xddU\\x05\\xadA\\x9d\\x90\\xbc\\xd31\\x8f\\x97\\x1e\\xf0H\\xe2\\xd6\\x93\\xe7 \\x1c}\\x0b]\\x8e\\xff\\x00t\\xec\\xae\\x93\\xcbAJ\\xd8\\xad\\xdd\\xabd,\\xa9qs\\x9c\\xc8\\xc3\\xf6\\x05\\x80`\\xe4\\x0c\\x92;\\xfc7\\xda\\xca\\xd6\\xbe\\xe4\\xd4\\xf9\\x06\\xa1\\xa3\\xcc\\\\\\xd7\\x19%t\\'\\x98\\xe1\\xa1\\xf1\\xb5\\x83\\x9bm\\xb7\\x07\\xa6P[\\xcf\\xab\\xd9\\x06\\x9f\\xb6\\xdc\\x85?4\\x95\\xb36\\x1e\\xc4\\xbf\\x05\\xa7$8\\xf4\\xee \\x8e\\x9e\\x0bnZEF\\x91\\xac\\x9aj\\xceY\\xe9\\xc4Ns\\x1fL\\xc3\\xcc9\\t|o\\x94\\x9d\\xbb\\xcc{c\\xc7u\\xbb\\x04\\x15DD\\x04D@DD\\x04(\\x85\\x01\\x11\\x10\\x11\\x11\\x01\\x11\\x10y\\x97\\x067\\'\\xa2\\xd2n\\x9a\\xf6\\x96\\x92N\\xc6\\x8e\\x13T\\xe6\\x92\\x0c\\x9c\\xe5\\xb1\\xfa\\x8e\\x0e~\\xaf\\x02\\xbd\\xb5\\xf5\\xd1\\xf4V\\xb8\\xe8\\xe2qk\\xea\\xc9\\x0e?\\xdc\\x0e\\xa3\\xd7\\x90=\\x19Q{\\x8a\\xdc\\xe3q\\xa6s\\xcb&\\x87\\'\\x91p\\xbe8\\xb7\\x83\\xc4\\xba\\xcf\\xed\\x08?\\xa6V:\\xa3Y\\xc1S;\\xe6\\xa8\\xd3\\xf6\\xe9\\xa5w\\xc2t\\x8d\\x0e\\'\\xb8d\\x91\\xe0\\x16\\xa8\\xe2\\xbc\\x9c\\xe5\\xb7\\xfa\\xda\\xe7\\xd4j~\\xc6\\xcb\\xf7[;\\xb5u\\x18\\xff\\x00\\xc3V\\xaf\\xea\\x87\\xea_\\x07X\\xd0\\x8f\\xfc3j\\xfe\\xa8~\\xa5\\xab\\x12\\xbc\\xc9\\xea\\x9f\\xaf\\x89\\xf9rQ\\xc7e\\xe4\\xe7uUs\\xbf\\xf8W\\x93\\x9d\\xba\\xce\\xc6\\xd9x~s\\xae\\xad\\xa3\\xe5\\x7fF\\xf55:\\xb5\\xedq\\x1c\\x83c\\x8e\\xaa\\x15\\xe1\\xf7\\xc7\\xabo\\xf9\\xdf\\xd1=K\\xd2\\x9f\\xc6;\\xa7R\\xbe[\\xe77\\xe5\\xa7,n\\x17\\xa7g\\xe3\\xb0\\x99a{^\\xb6\\xbf\\x7f~\\xdc\\x0f\\x10\\xafZ\\xf0\\xe0\\x08\\xe9\\xe2\\xb0\\x04\\xac\\x8d\\xba^h\\xcb?\\x83\\xd3\\xd0\\xb9\\xdc\\x0e~[3\\xf0\\xcd\\xbb\\xb7T\\xc6w\\x19\\x14TU]\\xc6\\xba\\x99Z\\xad\\xff\\x00YZ\\xac\\x1c\\xf1K!\\x9a\\xac\\x7f`\\x87r<9\\x8fF\\xf7u\\xdf\\x1b\\x80V~\\xbd\\xefe\\xbe\\xa6V;\\x95\\xec\\x89\\xcei\\x1d\\xc4\\x02\\xa0\\x0b\\\\B\\xe7\\x7f\\xa1\\x86\\xa9\\xcex\\xa9\\xaaceqw\\xbeps\\x80v\\xfdrrPm\\xb5\\\\O\\xbc\\xd5K\\xd9\\xd0P\\xc1\\x08\\'\\xde\\x8c:G};\\x03\\xf4+iu\\xc6\\xaf\\xa4\\xe4\\x96\\xa4\\x18\\xd8w\\x02Z^Ps\\x9e\\xfc\\x0fW\\xfb\\xd4\\xado\\xb4\\xd0Z\\xe0\\xechi\"\\xa7n1\\xef\\x1b\\xb9\\xf4\\x9e\\xa7\\xd6\\xbd\\xe6\\x829\\xe2|R5\\xaf\\x8d\\xcd!\\xccp\\xc8 \\xf5\\x04x \\x8f\\xec\\x1cKeT\\xec\\xa6\\xbbE\\x1c\\x12=\\xdc\\xad\\xa8a\\xc4y\\xfe\\xe8\\x1e\\x9e\\x9c\\xfd\\x03u$\\x07\\x03\\xd1A\\xda\\xe7O\\xc7`\\xbd\\x8f&o-\\x1dKK\\xe2\\x19\\xd9\\xa4|&\\xe7\\xccH>\\x82<\\x16\\xf3\\xc3\\x8b\\xe1\\xb8\\xd8\\xddC3\\x8b\\xa7\\xa2ph\\xcfS\\x19\\xf8?F\\x08\\xf3\\x00\\x10f\\xf5=\\xfd\\x9ar\\xd2k\\x8d;\\xa7\\xf7\\xe26\\xb0;\\x97s\\x9e\\xfc\\x1ct\\xf0Z\\xe6\\x91\\xd6w\\rG\\xa8\\'\\x86h\\xa1\\x86\\x9d\\x94\\xce\\x91\\xb1\\xb1\\xa79\\x0eh\\x04\\x92w\\xd8\\x9f\\x05y\\xc5\\x0f\\x8aL\\xf9\\xd3>\\xa7-O\\x85?\\x1a*~d\\xefm\\x88&$DA\\x1f\\xea\\xfdo]\\xa7\\xaf\"\\x86\\x9e\\x96\\x9eh\\xcc-\\x90\\xbaNl\\xeeH=\\x0fM\\x96\\xc7\\xa5n\\xf3\\xdf\\xac\\x10\\\\\\'\\x8d\\x91\\xc9#\\x9c\\x0bc\\xce6q\\x1d\\xfe\\x85\\x1bq@~\\xcbY\\xf3V}n[\\xcf\\x0e~%\\xd2\\x7f>Ol\\xa0\\xd6\\xb5\\x9e\\xb4\\xae\\xa2\\xb8\\xdc\\xec\\x8c\\xa6\\xa70:.\\xcb\\x99\\xf9\\xe6\\xc3\\xd8\\t\\xef\\xc7\\xef\\x8e\\xf8\\xfaV\\x81k\\xb8\\xc9i\\xb9\\xc1_\\x13Z\\xf9 w8k\\xfaxo\\x8fJ\\x9e5$,:n\\xee\\xf2\\xc6\\x17y\\x14\\xde\\xfb\\x1b\\xfc\\x02\\xa1\\x9d\\x1a\\xd0\\xed_k\\x04\\x02;a\\xb7\\xa8\\xa0\\xdb\\xec\\xfcG\\xb9\\\\\\xef4tR\\xd1\\xd269\\xe5le\\xcc\\xe6\\xc8\\xc9\\xea7R\\x05\\xef\\xf2\\r\\xc7\\xe6\\xb2\\xfb%\\\\\\x8axA\\xe6\\x110\\x1f\\x10\\xd0\\xad\\xaf\\x7f\\x90n?5\\x97\\xd9( \\xad3#\"\\xd4\\xf6\\xc9\\x1e\\xe6\\xb1\\xad\\xa9as\\x9cp\\x00\\xcfy\\xeeR=\\xe3\\x89\\xb6\\xca)\\x1d\\r\\x04N\\xae\\x90ds\\x87r\\xc7\\xf4\\x9d\\xcf\\xa8c\\xce\\xa2\\xba\\x1a).5\\xf0Q\\xc2Z\\xd9gx\\x8d\\xa5\\xc7l\\x93\\x8d\\xfc\\xca]\\xb1\\xf0\\xf2\\xd5k\\r\\x92\\xad\\x82\\xba\\xa4\\r\\xdd3}\\xe7\\xa9\\xbd>\\x9c\\xfa\\x90j\\x92qV\\xf0^;*\\x1a\\x16\\xb4\\xf4\\x0ek\\xdcO\\xaf\\x98,\\xe5\\x83\\x89T\\xf5\\x95,\\xa6\\xba\\xc2\\xdaW<\\x80\\xd9\\x9a\\xec\\xb3>|\\xfc\\x11\\xe7\\xc9\\x1e\\x85\\xb9UZm\\xf54\\xa6\\x9az\\x1aw\\xc0F9Lc\\x1f\\xf2\\xf4\\xa8CU\\xd8\\xc6\\x9e\\xbf\\xcbD\\xc7\\x17@@\\x96\\x12\\xee\\xbc\\xa7\\xf5\\x10G\\xa9\\x04\\xff\\x00\\xcc\\xa9\\xce\\x00\\xc9Z\\xae\\x82\\xb9>\\xe3\\xa5i\\x8c\\xcf.\\x92\\x9d\\xce\\x81\\xce\\'\\xaf/O\\xfe\\xd2\\xdf\\xa3+\\x11\\xc4\\xadC%\\r\\x1cv\\xaaiK&\\xa9o4\\xce\\x1b\\x16\\xc7\\xb8\\x03\\xfc\\xa2\\x0f\\xa8\\x11\\xde\\x82\\x9a\\x83\\x89T\\xf45/\\xa5\\xb51\\x95r\\xb3gJ\\xe3\\xf8\\xb0|\\xd8\\xdd\\xde\\x91\\x81\\xe9Z\\xd7\\xdf\\xee\\xa9\\xa9\\xe7\\x92\\x177\\x91\\xbf\\x0b\\xb3\\xa7\\xcb[\\xdf\\xbeA\\xff\\x00\\xe7\\xad{h\\r1Ow\\xa8\\x92\\xe1q\\x8b\\xb4\\xa4\\x89\\xdc\\xb1\\xc6\\xfd\\xc3\\xdf\\x8c\\x9c\\xf9\\x80##\\xbf>\\x00\\x85.2\\x16C\\x13Y\\x13Z\\xc8\\xdb\\xb0k\\x06\\x00\\x1e\\x00\\x04\\x11U\\xb3\\x8au\\xf1<6\\xe5M\\x0c\\xf1w\\xbe/z\\xf1\\xea\\xce\\x0f\\xa3e%\\xdao\\x14W\\xba\\x11UC0\\x923\\xb1\\x1d\\x1c\\xd3\\xe0GqZ\\xee\\xb1\\xd24\\xd7\\xabt\\x95t\\xd05\\xb7\\x18\\x81{\\x1e\\xc1\\x83/\\x8bO\\x89=\\xc7\\xc7\\x1d\\xca7\\xd2z\\x86M?z\\x8enc\\xe4\\x92\\x90\\xca\\x86w\\x16\\xf8\\xfaG_\\xa4w\\xa0\\x9e\\xc9X\\x1b\\xd6\\xa6\\xb6\\xd8\"\\xe6\\xae\\x9cv\\xa4e\\xb0\\xc69\\x9eG\\xa3\\xb8u\\xdc\\xe0l\\xb3mp#b\\x08\\xeb\\xb1\\xca\\xe7(\\x9c\\xfb\\x85\\xd2\\'UH\\xf9\\x9f4\\xcd\\x129\\xe7.9 \\x1d\\xd0oU|O\\xb8\\xd5Jb\\xb4\\xdb#h=\\x0c\\x99\\x91\\xc7\\xce\\x00\\xc0\\x1f\\x9dc\\xeau\\xb6\\xb1\\xa5\\xfceHt\\x0c.\\xfe\\xc9H\\x1a=\\x1b\\x8f\\xf9\\xa9V\\xdbj\\xa2\\xb4S\\x08()\"\\xa7g\\x7f#w>\\x93\\xd4\\x9f9WR\\xc2\\xca\\x88\\xdd\\x14\\x8dk\\xe3p\\xc3\\x98\\xe1\\x90G\\x81\\x08#+?\\x14g\\x132+\\xbd,o\\x88\\x9c\\x19\\xa0\\xc8s}-=}X\\xf4l\\xa4\\xcaj\\xb8+ic\\xa9\\x81\\xed\\x92\\x19Z\\x1c\\xc7\\x83\\xb1\\x05C:\\xf3OAb\\xbc\\xc6\\xeaFrRT\\x82\\xe63;1\\xc0\\xe1\\xcd\\x1em\\xc1\\xf5\\xe3\\xb9m\\xfc,\\xaa\\x96k\\x15U;\\xdcK!\\x9f\\xded\\xf4\\x0e\\x19\\xc7\\xd3\\x93\\xebA \"\"\\x06\\x11\\x11\\x01\\x11\\x10\\x11\\x11\\x01\\x11\\x10\\x10\\xa2\\x14\\x04D@DT\\'\\x08*\\x8b\\xc8\\xcb\\x8e\\xe5F\\xc8K\\x80\\xc6\\xc8\"\\xde!\\xd49\\xf7\\xe8\\xe1\\xc1\\xe5\\x8e\\x10\\x00\\xc7y$\\x9f\\xf7}\\x0bOs\\x8a\\xda\\xf8\\x84\\xd2\\xcdN\\t\\xe8\\xfav\\xbb>l\\x91\\xf4\\xed\\xf9\\xd6\\xa0\\xe7u]~?_\\x8e8\\xbb\\xff\\x00\\xe9Ts\\x8f\\x82\\xf3vH\\xc8\\x19\\x1e(\\xe2|\\x08R\\x0e\\x92\\xd2T\\xcc\\xa4\\x8a\\xebu\\x84L\\xf9@|0;v\\xb4\\x1d\\xc3\\x888\\x19\\xef\\x00\\xe7\\xc7\\xae\\xc1\\xc9\\xe4\\xe1\\xa3\\x0f<\\xaa\\xe9\\xd3\\x96\\xdb\\xd4G}\\x9c\\x8f\\x19c\\x1c\\xe1\\xe2\\x01+\\xe4\\xc1?\\xf1\\x12\\xff\\x00@\\xfe\\xa5?2\\xa1\\xd1\\xb45\\x81\\xadh\\xe8\\xd67a\\xfa\\xd7\\xd7\\x95K\\xfc!\\xf4\\x05\\xc3\\xbf=\\xaf\\xb7F|m\\xfe\\xdc\\xf4i\\xa7=!\\x93\\xfa\\x05zS\\xda\\xeb\\xea\\xe4\\x11SQTH\\xf3\\xb1\\x0c\\x8c\\x9d\\xbc\\xf8\\x0b\\xa0<\\xb2o\\xe1\\x0f\\xa0/7U\\xccF9\\xc8\\x1e\\x81\\x9f\\xa4\\x15\\xe3/\\xf2\\x1dr=O\\x8c\\xbf\\xdbP\\xd1\\x9aFM>\\xe3r\\xb8c\\xcb\\x9e\\xd2\\xc8\\xe1i\\x04D\\xd3\\x8c\\x92G\\x7fP1\\xb0\\x07\\xceq\\xb4\\x17\\xee\\xa8\\xe7\\xb9\\xd9$\\x92|OU\\xf0NW\\xcb\\xfc\\x87\\xc8e\\xc9\\xd9\\xe5~\\x9dN?\\x1f\\x1dX\\xf8\\xc5\\\\\\xed\\x95\\xcd\\xb5\\xf8\\xa9-\\xc8\\xdc+7\\x11\\xe2\\x15\\xc5\\xbbz\\xc6\\xe3nPs\\xe7X8Y\\xdf\\xd8\\xc5\\x97l\\xff\\x00J\\xcf\\x85U@\\xaa\\xbe\\xda9\\x8b;\\x97\\xe4\\xba\\xcf\\x91\\x7f\\xb2T\\t\\xa6\\xfe3\\xda>{\\x0f\\xb6\\x14\\xf7r\\xfc\\x97Y\\xf2/\\xf6J\\x814\\xde\\xfa\\x9e\\xd0\\x7f\\xf5\\xb0\\xfbaQ\\xd0\\xe8\\x88\\x82=\\xe2\\xb4\\ru\\x8a\\x86\\xa4\\x8f|\\xca\\x9e@|\\xcei\\'\\xd9\\x0bZ\\xe1\\x95K\\xa0\\xd5F\\x1c\\xfb\\xd9\\xe0sH>l\\x1c\\xfav>\\xa2\\xb6~*\\xbd\\xa3N\\xd2G\\xbe]X\\x1d\\x8f0c\\xff\\x00XZ\\x97\\ra2j\\xf8\\x9e\\x06\\xd1C#\\x89\\x1d\\xfbc\\x1f\\x9c}\\x087~(|Tg\\xce\\x99\\xf59j\\x9c)\\xf8\\xd1S\\xf3\\'{l[W\\x147\\xd2\\x8c\\x03s\\xe5L\\xdb\\xd4\\xe5\\xaap\\xa4\\xfe\\xca*Ow\\x91;\\xdbb\\t\\x89\\x11\\x10C\\\\P\\xf8\\xd8\\xcf\\x9a\\xb3\\xebr\\xdexs\\xf1*\\x8f\\xf9\\xf2{Eh\\x9cP\\xdfV3\\x1b\\xe2\\x99\\x80\\xe3\\xbbw-\\xef\\x87?\\x12\\xa8\\xff\\x00\\x9f\\'\\xb4Pe\\xf5\\'\\xc5{\\xb7\\xcc\\xa6\\xf6\\n\\x85\\xb4o\\xc7\\x0bg\\xcb\\x054\\xeaO\\x8a\\xf7o\\x99M\\xec\\x15\\x0bh\\xd3\\xfb0\\xb5\\x9e\\xee\\xd8\\x0f\\xcc\\x82~X\\xfb\\xdf\\xe4\\x1b\\x8f\\xcd\\xa4\\xf6J\\xc8,}\\xef\\xf2\\r\\xc7\\xe6\\xd2{%\\x04\\x19\\xa5>6\\xda~t\\xcf\\xadt\\x1a\\xe7\\xcd)\\xf1\\xb6\\xd5\\xf3\\xa6}k\\xa0\\xd0\\x14K\\xc5v\\x01u\\xb7\\xbb\\xbc\\xc0\\xe1\\x9d\\xf2w\\xff\\x00\\x99R\\xd2\\x8a8\\xb3\\xf9R\\xdd\\xf2.\\xf6\\x90g8W\\xf1b\\xab\\xe7\\xae\\xf6\\x18\\xb4-wR\\xfa\\x9dep/;F\\xf6\\xc6\\xd0\\x0e\\xc0\\x00\\x07\\xd7\\x93\\xe9[\\xe7\\n\\xbe,U|\\xf5\\xde\\xc3\\x16\\x83\\xae`0k;\\x8bKH\\xe6px\\xcfx-\\x04\\x91\\xeb(%\\r\\x0bL\\xdam\\x1foh\\x1b\\xbd\\xa6BF7$\\x93\\x9fP\\xc0[R\\xd5\\xf4\\x1dH\\xa8\\xd1\\xb6\\xf3\\xcd\\x92\\xd0\\xe8\\xcfN\\xe7\\x11\\x8f\\xcc\\xb6\\x84\\x14!s\\xce\\xa5\\xa5e\\x16\\xa6\\xb9S\\xb3f\\xb6\\xa1\\xc5\\xa1\\xbb`\\x13\\x91\\xe1\\xdcp\\xba\\x17\\x98o\\x8d\\xf1\\xe0\\xb9\\xf7T\\xcc\\xd9\\xf5M\\xd5\\xe0\\xe4yK\\x80 \\xe4\\x10\\x1d\\x81\\xf5 \\x99t\\x95S\\xab4\\xa5\\xb6W\\xee\\xfe\\xc44\\x92:\\x96\\x9e\\\\\\xfa\\xf0\\xa0\\xdbo\\xe5JO\\x96g\\xb4\\x14\\xe7\\xa4i\\xbc\\x97I\\xdb##\\x0e05\\xe4\\x1e\\xa3\\x9b\\xdf\\x1f\\xadA\\x96\\xdf\\xca\\x94\\x9f.\\xcfh \\xe9\\x14DA\\x18\\xf1t~G\\xff\\x00=\\xff\\x00\\x02\\xba\\xe17\\xe4\\xcb\\x8f\\xcb\\xb7\\xd9V\\xbc]\\xff\\x00\\xe8\\xff\\x00\\xe7\\xbf\\xe0W\\\\%\\xfc\\x97q\\xf9f\\xfb($DD@DD\\x04D@DD\\x04D@B\\x88P\\x11\\x11\\x01P\\x8c\\xaa\\xa2\\x0f\\x92\\xc0{\\x95\\x04`\\x10s\\xd1}\\xa2\\x08\\xdf\\x89\\xd4G\\x145\\xcd\\x1b\\x0eh\\x9e@\\xf3d\\x0fiF\\xce#\\x1d{\\xb2\\xa7\\xab\\xed\\xae\\x1b\\xbd\\xaeZ9\\x81\\xe5\\x93`@\\xdd\\xa4\\x1c\\x87\\x0f8 \\x1f>1\\xde\\xa1\\xfb\\xa6\\x92\\xbd[*\\x1f\\x11\\xa1\\x9a\\xa1\\x99%\\xb2\\xc0\\xc2\\xe0\\xe1\\xe3\\x80\\x0f)\\xf3\\x15\\xd0\\xe2\\xee\\x92x\\xd77\\x93\\xa6\\xf9yF\"\\x966\\xcf]O\\x13\\xc1\\x0c\\x92F\\xb0\\xef\\xb8\\x04\\xe0\\xfa\\xd4\\xebP\\x1a\\xd99\\x00\\x01\\xad\\x01\\xad\\x1d\\xc0\\x01\\xb6\\xca\\x17\\xa0\\xb4]Yr\\xa5q\\xb6\\xd65\\xad\\x99\\xa4\\xbb\\xb0p\\x00\\x07\\x0c\\x92H\\xe8\\xa6\\x9a\\xa2<\\xa5\\xfe\\xaf\\xa9r>{gz\\xa4\\x8d\\xbf\\x8e\\xc6\\xcb{x\\xf4\\n\\x85\\xc5Q\\xce+\\xe3\\x98\\xaf\\x8b\\xb9;R>\\x89\\xf3\\xaf\\x8ee\\xf4b\\x93\\xb9\\x8e\\xfa\\n\\xf81\\xcb\\xfc[\\xff\\x00\\xa2R\\xe1\\x9f\\xf4\\xb3,_\\x04\\xec\\xbe\\x0b\\x97\\xd9\\x8e\\\\\\xed\\x13\\xc8\\xf0\\xe5+\\xe5\\xd0\\xc9\\xfc\\\\\\x9f\\xd1+\\xc5\\xd3\\xb6\\xff\\x00\\x0fs,_\\x0ev\\xdd\\x0f\\xd0\\xb2V\\x88\\xbd\\xf3\\xe4#8\\x18\\x07\\xccz\\xfdAX\\xc7I<\\xce\\x03\\xb2x>.\\x04\\x05\\x9f\\xa6\\x80A\\x0bX;\\xbb\\xfcWO\\xe2\\xb8{.\\xdf\\xc9\\x9c\\xf5\\x1a\\xdc\\x9d\\xb3\\xc7\\xc6.\\x91\\x11}[Egr\\xfc\\x97Y\\xf2/\\xf6J\\xe7\\xfb$\\xf1S_\\xed\\xb5\\x13=\\xad\\x8e*\\xa8\\xde\\xf7\\xbb\\xa0hp$\\xfa\\x80+\\xa0._\\x92\\xeb>E\\xfe\\xc9\\\\\\xf5m\\xa4\\x15\\xf7J:\"\\xeeQQ4qs\\x81\\x92\\xdec\\x8c\\xf9\\xc8\\xcfD\\x1d\\x11\\x05D50\\xb2hed\\xb1<e\\xafc\\x83\\x9a\\xe1\\xe2\\x08\\xd8\\xaf~a\\x8c\\x9d\\x863\\x92\\xa1\\xb94\\xce\\xae\\xd3sH\\xfbd\\x93\\xcb\\x0es\\xcdJI\\xe6\\xc7L\\xc6w\\'\\xceA\\xc7q*\\xce\\xb2\\xbfZ\\xdc\\xa34\\xb5\\x0c\\xb9\\x90\\xe1\\x871\\x94\\xc5\\xb9\\x1d\\x0eyZ\\t\\xcf\\x9f(.x\\x87|\\x86\\xebv\\x8e\\x96\\x95\\xe1\\xf0R\\x82\\x0b\\xc1\\xc8s\\x89\\xdf\\x18\\xea\\x00\\x00\\x03\\xe9\\xf1\\xdf;\\xc3\\x0bK\\xa2\\xa5\\xa8\\xbcL\\x0f\\xe3\\xf3\\x0c]\\xfe\\xf4\\x11\\xcd\\x8cwd\\x01\\xfeO\\x98,5\\x87\\x877*\\xe9[-\\xd1\\x86\\x8e\\x94\\x1c\\x96\\x9c\\x19\\x1d\\xbf@7\\r\\xe8w;\\x8c\\xed\\x95*\\xd3SGE\\x0cp@\\xc0\\xc8chcX\\xd1\\xb3Z6\\x03\\xd5\\xd3\\xd7\\x92\\x83\\\\\\xe25+\\xaat|\\xeecI0H\\xc90:\\xe0\\x1c\\x1d\\xbd\\x0e%Gz\"\\xf1\\x15\\x97RG%C\\xc4pN\\xc3\\x03\\xa4$\\x00\\xd0\\xe2\\x0bI\\xcf@\\x0b@\\'\\xb8\\x1c\\xa9\\xb2\\xa2\\x06\\xcd\\x0b\\xa2\\x91\\x81\\xedsHsKr\\x08=\\xc7\\xc4x\\x8e\\xf5\\x14j\\x0e\\x1c\\xd7\\xd2O$\\xd6v:\\xaa\\x99\\xc4\\x91\\x1f0\\x120\\x1d\\xf03\\xd4cm\\xb7=\\x0e\\x06\\xe8%\\xf6\\xbd\\xaf\\x01\\xcdpp=\\x089U.\\x00d\\xe0\\x0f\\x12T!@\\xedoj\\x8b\\xb0\\xa4\\x82\\xef\\x1cCf\\xb0\\xd3=\\xcd\\x03\\xcc\\x088\\xf5a_\\x9b>\\xbb\\xd4\\x03\\xb2\\xabuK`;8M\\'d\\xd2<\\xed\\x1b\\x9f\\xa0\\xa0\\xb3\\xe2-m-n\\xa6\\xe6\\xa4\\x9d\\x9368\\x1b\\x1b\\x9e\\xc2\\x08\\x0e\\xcb\\xb2\\xdc\\x8e\\xbb\\x11\\xebR\\x17\\x0e>%R\\x7f>Oh\\xa8\\xabR\\xe9\\xd94\\xddE=4\\xd5,\\x9aia\\x1281\\xa4\\x06\\xe4\\x91\\x80N\\xe4m\\xd4\\xe0y\\x94\\xa9\\xc3\\x93\\x8d\\x19I\\x9d\\xb2\\xf9=\\xa3\\xfa\\x90e\\xef\\xect\\xdav\\xe7\\x1cm%\\xef\\xa4\\x95\\xad\\x00nIi\\x00z\\xd4%\\xa5&d\\x1a\\xb2\\xd7#\\xcf\\xbd\\x15-i$\\xe0\\x02}\\xe8?I%O\\xe4\\x021\\x8d\\xbb\\xc1\\x1d\\xca%\\xd4|9\\xae\\x82\\xaeJ\\x8b<Bzg8\\x91\\t :<\\xee@\\x04\\xe0\\x81\\xdcF\\xfd\\xd8\\xc6\\xe8%\\xcea\\xe6\\xfaU\\x8d\\xe8\\xe6\\xc5q\\x03\\x19\\xf2i6\\xff\\x00$\\xa8\\xee\\xc3x\\xd6l\\xb8R\\xd0\\xd7QUIJ\\xe7\\xb67\\xcd=\\x1b\\x81cI\\x03\\xe1c\\xc3r]\\x9f>T\\x89v\\x8aI\\xec\\xf5\\xb0\\xc4\\xd2\\xe9$\\x82F5\\xb9\\xc6Ii\\x01\\x04\\x19\\xa5\\x08\\x1a\\xb2\\xd5\\x93\\xd2\\xa5\\x99\\xf3n\\xba\\rB\\xfa{G\\xea\\x1a-Cn\\xa8\\xa8\\xb7I\\x1c\\x11L\\xd79\\xe6F\\xec\\xd0Fz\\x1c\\xa9\\x9f\\xb9\\x05TO\\xc5\\x9d\\xee\\x96\\xec\\x7f\\x12\\xefiK\\n8\\xe2&\\x9f\\xbb^k\\xe8\\xa4\\xb7\\xd1:v\\xc7\\x13\\x9a\\xe7\\x07\\x01\\x82O\\x81Ay\\xc2\\x93\\xfb\\x18\\xaa\\xf9\\xeb\\xbd\\x86,W\\x14,\\xae{\\xa1\\xbcB\\xc0\\xe0\\xd0 \\x9b\\x1dq\\x9c\\xb4\\x9fI$}\\x0b=\\xa0-U\\xb6k\\x1dE5}3\\xa1\\x99\\xd5.x\\x04\\x83\\xefyX3\\x91\\xb7q\\xfa\\x16\\xc9U\\x04U\\x10\\xbe\\x19\\xa3\\xed\"x-{\\x08\\xceZz\\x83\\xe6\\xc6\\x7f\\xdc\\x826\\xe1\\x95\\xfa8e\\x9a\\xcb3\\xf0fwkO\\x9e\\xf7c\\x0e\\x03\\xd4\\x01\\x03\\xccOxR\\xae@\\xc8\\xdb!D\\x17\\xde\\x1d\\xd7R\\xd4>\\xa2\\xcc\\xd7TS\\xe4\\x96\\xc2\\xe2\\x03\\xe3\\xdf#\\x04\\xe08w\\x8e\\xfc\\xed\\xd7u\\xe5\\x1d\\xf7]\\xd1\\xc6\\xdawCZC=\\xe8\\xed(\\x8b\\xdc1\\xd3$\\x83\\x9fI\\'\\xd2\\x82J\\xd4Wx,v\\x89\\xabfsC\\x9a\\xd2\"i8/q\\xe8\\xd0;\\xf7\\xc6|\\xd9P\\xb5\\x8a\\xd3>\\xa0\\xbfCK\\xef\\x88\\x91\\xfc\\xf3\\xbf?\\x05\\x99\\xcb\\x8e|z\\xe3\\xceVs\\xefsXj\\x9a\\xc6Kpl\\xec\\x00\\xfe\\xd9W\\x98\\xda\\xc1\\xd3f\\x0e\\x87\\xcc\\x01\\x07\\xbf\\nG\\xd3zf\\x93N[\\xccT\\xed/\\x9eB\\x1d4\\xce\\x1e\\xf9\\xe7\\xcd\\xe0<\\x07r\\x0c\\xdb\"lQ\\xb26\\x0eV4\\x06\\x80;\\x80\\x18\\x01s\\xad\\xb4\\x8f\\xba\\x94\\x87\\xfb\\xfb=\\xa0\\xbaEA\\xd4:\\'Q\\xc5p\\xa6\\x96Kl\\x81\\x8c\\x95\\x8eq2\\xb4\\xe3\\x04gl\\xa0\\x9cQ\\x11\\x04c\\xc5\\xcd\\xfe\\xe3\\xe3\\xfb\\xff\\x00\\xfc\\n\\xeb\\x84\\xdbZ\\xee9\\xfe=\\xbe\\xca\\xf5\\xe2=\\x86\\xe7z\\xfb\\x98m\\xd4\\x86\\xa0C\\xda\\xf6\\x808\\x0csr\\xe3\\xaf^\\x85{\\xf0\\xea\\xcf_e\\xb7\\xd6\\xc5_Ji\\xdf$\\xa1\\xcdi \\xe4r\\xf8\\x84\\x1b\\xc2\" \"\"\\x02\" \"\"\\x02\" !D(\\x08\\x88\\x80\\x88\\x88\\x08\\x88\\x82\\x98_<\\xb9\\xeb\\xd3\\xce\\x17\\xda\"t\\xf3\\xe5\\xc7r\\xc4V\\x1cU?\\xd5\\xf5,\\xc9+\\t^\\x0bj\\x9cpp\\xec`\\xfa\\x97\\'\\xe5\\xbb\\xba}3\\xf1\\xe4\\x99\\xbc\\x0b\\x97\\xc9*\\x84\\x9f2\\xf3\\xe6\\xdf\\x1d\\xeb\\xe4\\xeen\\x8c\\x8fwUN:H~\\x81\\xfa\\x95\\rmF\\x01\\xe78=\\xf8\\x1f\\xa9[s\\xee\\xb3Q\\xc9N(\\xdar\\xdeP\\xde\\xf226\\xfa\\xd6\\xe7\\x16\\xe5\\xbb\\xb9r\\xeb\\xa6\\x1d\\xb2a\\xd7\\xa5\\x95\\x1d\\\\\\xd2\\xd6G\\x1b\\xe4\\xcbNr1\\xd7c\\xde\\xb3\\xb8\\x1dHZ\\xf5\\xb5\\x85\\xf5\\xacss\\xc8\\xdc\\x9c\\xe3\\xcd\\xd3\\xf3\\x95\\xb1y\\xd7{\\xe31\\xb9j\\xb7?~\\xda\\xbb\\xfa\\x99u\\x8a\\xa1\\x80tUUE\\xd6\\x98\\xc9\\xf4\\xc0\"\"\\xf4-.\\x7f\\x92\\xeb>A\\xfe\\xc9P\\x1e\\x9b\\xf8\\xd1h\\xf9\\xec?\\xa4\\n{\\xb9\\x10mu\\x9d\\xff\\x00\\x88\\x7f\\xb2T\\x07\\xa6\\xc7\\xec\\x9e\\xd1\\xe3\\xe5\\xb0\\xed\\xfeXA\\xd0\\xf8\\xd9S\\x07\\x19\\xfc\\xcb\\xe9\\x10S\\x03\\xbdU\\x11\\x01S\\n\\xa8\\x82\\x98_$\\xb4\\x10\\x0f\\x8e\\x07\\xa5xO[KF\\xc2\\xea\\x9a\\x98ah\\xef\\x92@\\xd1\\xf9\\xca\\xd3\\xef|@\\xb4\\xdb`{(\\xa4\\x15\\xb5%\\xa4\\xb4G\\xf0\\x1b\\x9e\\xf2\\xe3\\x81\\x8f0\\xceq\\xbe3\\x94\\x1a\\x97\\x13\\xe7d\\xfa\\xac1\\xae\\xde*fF\\xec\\x1e\\x87.w\\xd4\\x7f2\\x90\\xf4E;\\xa9\\xb4}\\xb27\\xf51\\x197\\xfe\\xe9\\xcew\\xd4TOj\\xb6\\\\\\xb5\\x9e\\xa0{\\xdc\\xe2L\\x8f\\x12T\\xcezF\\xd0{\\xbc\\xf8\\xc0\\x03\\xc3\\x03\\xa0%Nt\\xf4\\xf1\\xd3S\\xc7\\x04C\\x968\\xda\\x1a\\xd1\\x8e\\x80\\x0ca\\x05\\xca\\xa6\\x07r\\xaa \\xf9\\xe5\\n\\xa4eU\\x10S\\x1e*\\xb8D@T\\xc7\\x9dU\\x10S\\x01U\\x11\\x050\\xbe0O\\x98z\\xf2\\xbd\\x11\\x050\\x98UD\\x05NP\\xaa\\x88\\x08\\x88\\x83\\xe7\\x94eW\\n\\xa8\\x80\\x88\\x88\\x08\\x88\\x80\\x88\\x88\\x08\\x88\\x80\\x88\\x88\\x08Q\\n\\x02\" \"\"\\x02\" \"\"\\x0f\\x9c+i\\xe9\\x9bP\\xdc;#\\x1d\\xfd\\xea\\xeb\\xaa,[5\\xe3\\xb3\\x1f\\x1c\\xbe\\x89l\\xbd\\xc6\\x06kuC?k\\x01\\xe3\\xbb\\x1b\\x11\\xf4\\xabGS\\xce\\x08\\x06\\x17\\x83\\xe0\\x1aH\\xfaV\\xd1\\x85L\\x02:\\x05\\xc9\\xdb\\xf0\\xba\\xb3\\xbd\\xcb\\xd3g\\x1eVs\\xed\\xab\\ni\\xdc}\\xecO\\x1er\\xd2\\xae\\xa1\\xb5THAx\\x0c\\x19\\xceI\\xc9+>Z\\x07pT#m\\xff\\x000M_\\x0f\\xaf\\x0b\\xdd\\xa6|\\xac\\xb2\\xf4\\xb7\\xa6\\xa4m3HnI=I\\xdf*\\xe90\\x80.\\xb6\\xbds^>8\\xcfM{m\\xbd\\xd7\\xd2\",\\xa8\"\"\\x0by\\xe1l\\xd0I\\x13\\xb3\\xc9#KN:\\xe0\\x8c(\\xfd\\x9c5\\xf2\\x0b\\xd5\\re\\x05qtPTG#\\xa3\\x9d\\xbe\\xf8\\xb5\\xae\\x04\\xe1\\xc3bq\\xb7@\\xa4\\x85L\\x0ca\\x05Q\\x11\\x01\\x11\\x10\\x11\\x11\\x04[x\\xe1\\xddu\\xce\\xff\\x00[W\\x04\\xf4\\xb0S\\xcf\\'h\\x01\\xc9p$e\\xd9\\x01\\xb8>\\xfb\\'\\x199\\xc8\\'\\x05^[\\xf8WE\\x0b\\xc4\\x95\\xf5\\xb2T\\xe3s\\x1bX#i>s\\xb9#\\xd1\\x85\"\\xf2\\x84\\xc7\\x9d\\x06:\\x86\\xddOo\\xa6\\x8e\\x9a\\x92\\x9d\\x90\\xc2\\xdd\\xc3X03\\xe2OR|\\xfdOz\\xc9\" \"\"\\x02\" \"\"\\x02\" \"\"\\x02\" \"\"\\x02\" \"\"\\x02\" \"\"\\x02\" \"\"\\x02\" \"\"\\x02\\x14B\\x80\\x88\\x88\\x08\\x88\\x80\\x88\\x88\\x08\\x88\\x80\\x88\\x88\\t\\x84D\\x04D@DD\\x04D@DD\\x04D@DD\\x04D@DD\\x04D@DD\\x04D@DD\\x04D@DD\\x04D@DD\\x04D@DD\\x04D@DD\\x04D@DD\\x04D@DD\\x04D@B\\x88P\\x11\\x11\\x01\\x11\\x10\\x11\\x11\\x01\\x11\\x10\\x11\\x11\\x01\\x11\\x10\\x11\\x11\\x01\\x11\\x10\\x11\\x11\\x01\\x11\\x10\\x11\\x11\\x01\\x11\\x10\\x11\\x11\\x01\\x11\\x10\\x11\\x11\\x01\\x11\\x10\\x11\\x11\\x01\\x11\\x10\\x11\\x11\\x01\\x11\\x10\\x11\\x11\\x01\\x11\\x10\\x11\\x11\\x01\\x11\\x10\\x11\\x11\\x01\\x11\\x10\\x11\\x11\\x01\\x11\\x10\\x11\\x11\\x01\\x11\\x10\\x11\\x11\\x01\\n!@DD\\x04D@DD\\x04D@DD\\x04D@DD\\x04D@DD\\x04D@DD\\x04D@DD\\x04D@DD\\x04D@DD\\x04D@DD\\x04D@DD\\x04D@DD\\x04D@DD\\x04D@DD\\x04D@DD\\x04D@DD\\x04(\\xbeF\\x0ez\\xfd(?\\xff\\xd9'\n"
          ],
          "name": "stdout"
        }
      ]
    },
    {
      "cell_type": "markdown",
      "metadata": {
        "id": "SC0neg1L9Nn6"
      },
      "source": [
        "＃使用pandas.read_html()讀取HTML表格"
      ]
    },
    {
      "cell_type": "code",
      "metadata": {
        "id": "Z4-iCIv83IMF"
      },
      "source": [
        "url = \"https://www.pmi.org.tw/?p=5361\""
      ],
      "execution_count": 55,
      "outputs": []
    },
    {
      "cell_type": "code",
      "metadata": {
        "id": "NIHDUNOC9Wpm"
      },
      "source": [
        "import pandas as pd"
      ],
      "execution_count": 56,
      "outputs": []
    },
    {
      "cell_type": "code",
      "metadata": {
        "id": "nV5zcVQB9rDC"
      },
      "source": [
        "dfs = pd.read_html(url)"
      ],
      "execution_count": 63,
      "outputs": []
    },
    {
      "cell_type": "code",
      "metadata": {
        "id": "ozjZeD7--DGd",
        "outputId": "35830f14-0fed-47f0-8614-7a5597e702a7",
        "colab": {
          "base_uri": "https://localhost:8080/",
          "height": 34
        }
      },
      "source": [
        "type(dfs)"
      ],
      "execution_count": 64,
      "outputs": [
        {
          "output_type": "execute_result",
          "data": {
            "text/plain": [
              "list"
            ]
          },
          "metadata": {
            "tags": []
          },
          "execution_count": 64
        }
      ]
    },
    {
      "cell_type": "code",
      "metadata": {
        "id": "BgT_0Xgw-En_",
        "outputId": "be70ea83-1727-41b1-b332-bfc1c1f22c4a",
        "colab": {
          "base_uri": "https://localhost:8080/",
          "height": 359
        }
      },
      "source": [
        "dfs[0]\n",
        "dfs[1]"
      ],
      "execution_count": 65,
      "outputs": [
        {
          "output_type": "execute_result",
          "data": {
            "text/html": [
              "<div>\n",
              "<style scoped>\n",
              "    .dataframe tbody tr th:only-of-type {\n",
              "        vertical-align: middle;\n",
              "    }\n",
              "\n",
              "    .dataframe tbody tr th {\n",
              "        vertical-align: top;\n",
              "    }\n",
              "\n",
              "    .dataframe thead th {\n",
              "        text-align: right;\n",
              "    }\n",
              "</style>\n",
              "<table border=\"1\" class=\"dataframe\">\n",
              "  <thead>\n",
              "    <tr style=\"text-align: right;\">\n",
              "      <th></th>\n",
              "      <th>專案經理人姓名</th>\n",
              "      <th>參賽單位名稱</th>\n",
              "      <th>獎項</th>\n",
              "    </tr>\n",
              "  </thead>\n",
              "  <tbody>\n",
              "    <tr>\n",
              "      <th>0</th>\n",
              "      <td>呂炯明</td>\n",
              "      <td>資拓宏宇國際股份有限公司</td>\n",
              "      <td>十專獎</td>\n",
              "    </tr>\n",
              "    <tr>\n",
              "      <th>1</th>\n",
              "      <td>李得元</td>\n",
              "      <td>嘉南藥理大學</td>\n",
              "      <td>十專獎</td>\n",
              "    </tr>\n",
              "    <tr>\n",
              "      <th>2</th>\n",
              "      <td>林慶和</td>\n",
              "      <td>中華電信股份有限公司臺灣南區電信分公司</td>\n",
              "      <td>十專獎</td>\n",
              "    </tr>\n",
              "    <tr>\n",
              "      <th>3</th>\n",
              "      <td>侯里智</td>\n",
              "      <td>香港商聯寶電腦有限公司台灣分公司</td>\n",
              "      <td>十專獎</td>\n",
              "    </tr>\n",
              "    <tr>\n",
              "      <th>4</th>\n",
              "      <td>莊信慧</td>\n",
              "      <td>中華開發金融控股公司</td>\n",
              "      <td>十專獎</td>\n",
              "    </tr>\n",
              "    <tr>\n",
              "      <th>5</th>\n",
              "      <td>郭慶輝</td>\n",
              "      <td>樂高渥克公關廣告活動有限公司</td>\n",
              "      <td>十專獎</td>\n",
              "    </tr>\n",
              "    <tr>\n",
              "      <th>6</th>\n",
              "      <td>陳協良</td>\n",
              "      <td>台灣世曦工程顧問股份有限公司</td>\n",
              "      <td>十專獎</td>\n",
              "    </tr>\n",
              "    <tr>\n",
              "      <th>7</th>\n",
              "      <td>黃俊銘</td>\n",
              "      <td>行政院環境保護署環境監測及資訊處</td>\n",
              "      <td>十專獎</td>\n",
              "    </tr>\n",
              "    <tr>\n",
              "      <th>8</th>\n",
              "      <td>黃遠鵬</td>\n",
              "      <td>麗寶大數據股份有限公司</td>\n",
              "      <td>十專獎</td>\n",
              "    </tr>\n",
              "    <tr>\n",
              "      <th>9</th>\n",
              "      <td>蔡昆男</td>\n",
              "      <td>致伸科技股份有限公司</td>\n",
              "      <td>十專獎</td>\n",
              "    </tr>\n",
              "  </tbody>\n",
              "</table>\n",
              "</div>"
            ],
            "text/plain": [
              "  專案經理人姓名               參賽單位名稱   獎項\n",
              "0     呂炯明         資拓宏宇國際股份有限公司  十專獎\n",
              "1     李得元               嘉南藥理大學  十專獎\n",
              "2     林慶和  中華電信股份有限公司臺灣南區電信分公司  十專獎\n",
              "3     侯里智     香港商聯寶電腦有限公司台灣分公司  十專獎\n",
              "4     莊信慧           中華開發金融控股公司  十專獎\n",
              "5     郭慶輝       樂高渥克公關廣告活動有限公司  十專獎\n",
              "6     陳協良       台灣世曦工程顧問股份有限公司  十專獎\n",
              "7     黃俊銘     行政院環境保護署環境監測及資訊處  十專獎\n",
              "8     黃遠鵬          麗寶大數據股份有限公司  十專獎\n",
              "9     蔡昆男           致伸科技股份有限公司  十專獎"
            ]
          },
          "metadata": {
            "tags": []
          },
          "execution_count": 65
        }
      ]
    },
    {
      "cell_type": "code",
      "metadata": {
        "id": "W3iEa_Bz-UAU"
      },
      "source": [
        "url = \"https://en.wikipedia.org/wiki/List_of_S%26P_500_companies\""
      ],
      "execution_count": 66,
      "outputs": []
    },
    {
      "cell_type": "code",
      "metadata": {
        "id": "ccbJE695-_zg"
      },
      "source": [
        "dfs = pd.read_html(url)"
      ],
      "execution_count": 67,
      "outputs": []
    },
    {
      "cell_type": "code",
      "metadata": {
        "id": "m-Lv2lh3_E8N",
        "outputId": "5ee56bba-0630-4eca-9fa9-e3c62d508351",
        "colab": {
          "base_uri": "https://localhost:8080/",
          "height": 34
        }
      },
      "source": [
        "type(dfs)"
      ],
      "execution_count": 68,
      "outputs": [
        {
          "output_type": "execute_result",
          "data": {
            "text/plain": [
              "list"
            ]
          },
          "metadata": {
            "tags": []
          },
          "execution_count": 68
        }
      ]
    },
    {
      "cell_type": "code",
      "metadata": {
        "id": "ZTlpBsPp_GZe",
        "outputId": "cd138d4d-0556-4768-f0d7-394b5156e8b6",
        "colab": {
          "base_uri": "https://localhost:8080/",
          "height": 677
        }
      },
      "source": [
        "dfs[0]"
      ],
      "execution_count": 69,
      "outputs": [
        {
          "output_type": "execute_result",
          "data": {
            "text/html": [
              "<div>\n",
              "<style scoped>\n",
              "    .dataframe tbody tr th:only-of-type {\n",
              "        vertical-align: middle;\n",
              "    }\n",
              "\n",
              "    .dataframe tbody tr th {\n",
              "        vertical-align: top;\n",
              "    }\n",
              "\n",
              "    .dataframe thead th {\n",
              "        text-align: right;\n",
              "    }\n",
              "</style>\n",
              "<table border=\"1\" class=\"dataframe\">\n",
              "  <thead>\n",
              "    <tr style=\"text-align: right;\">\n",
              "      <th></th>\n",
              "      <th>Symbol</th>\n",
              "      <th>Security</th>\n",
              "      <th>SEC filings</th>\n",
              "      <th>GICS Sector</th>\n",
              "      <th>GICS Sub-Industry</th>\n",
              "      <th>Headquarters Location</th>\n",
              "      <th>Date first added</th>\n",
              "      <th>CIK</th>\n",
              "      <th>Founded</th>\n",
              "    </tr>\n",
              "  </thead>\n",
              "  <tbody>\n",
              "    <tr>\n",
              "      <th>0</th>\n",
              "      <td>MMM</td>\n",
              "      <td>3M Company</td>\n",
              "      <td>reports</td>\n",
              "      <td>Industrials</td>\n",
              "      <td>Industrial Conglomerates</td>\n",
              "      <td>St. Paul, Minnesota</td>\n",
              "      <td>1976-08-09</td>\n",
              "      <td>66740</td>\n",
              "      <td>1902</td>\n",
              "    </tr>\n",
              "    <tr>\n",
              "      <th>1</th>\n",
              "      <td>ABT</td>\n",
              "      <td>Abbott Laboratories</td>\n",
              "      <td>reports</td>\n",
              "      <td>Health Care</td>\n",
              "      <td>Health Care Equipment</td>\n",
              "      <td>North Chicago, Illinois</td>\n",
              "      <td>1964-03-31</td>\n",
              "      <td>1800</td>\n",
              "      <td>1888</td>\n",
              "    </tr>\n",
              "    <tr>\n",
              "      <th>2</th>\n",
              "      <td>ABBV</td>\n",
              "      <td>AbbVie Inc.</td>\n",
              "      <td>reports</td>\n",
              "      <td>Health Care</td>\n",
              "      <td>Pharmaceuticals</td>\n",
              "      <td>North Chicago, Illinois</td>\n",
              "      <td>2012-12-31</td>\n",
              "      <td>1551152</td>\n",
              "      <td>2013 (1888)</td>\n",
              "    </tr>\n",
              "    <tr>\n",
              "      <th>3</th>\n",
              "      <td>ABMD</td>\n",
              "      <td>ABIOMED Inc</td>\n",
              "      <td>reports</td>\n",
              "      <td>Health Care</td>\n",
              "      <td>Health Care Equipment</td>\n",
              "      <td>Danvers, Massachusetts</td>\n",
              "      <td>2018-05-31</td>\n",
              "      <td>815094</td>\n",
              "      <td>1981</td>\n",
              "    </tr>\n",
              "    <tr>\n",
              "      <th>4</th>\n",
              "      <td>ACN</td>\n",
              "      <td>Accenture plc</td>\n",
              "      <td>reports</td>\n",
              "      <td>Information Technology</td>\n",
              "      <td>IT Consulting &amp; Other Services</td>\n",
              "      <td>Dublin, Ireland</td>\n",
              "      <td>2011-07-06</td>\n",
              "      <td>1467373</td>\n",
              "      <td>1989</td>\n",
              "    </tr>\n",
              "    <tr>\n",
              "      <th>...</th>\n",
              "      <td>...</td>\n",
              "      <td>...</td>\n",
              "      <td>...</td>\n",
              "      <td>...</td>\n",
              "      <td>...</td>\n",
              "      <td>...</td>\n",
              "      <td>...</td>\n",
              "      <td>...</td>\n",
              "      <td>...</td>\n",
              "    </tr>\n",
              "    <tr>\n",
              "      <th>500</th>\n",
              "      <td>YUM</td>\n",
              "      <td>Yum! Brands Inc</td>\n",
              "      <td>reports</td>\n",
              "      <td>Consumer Discretionary</td>\n",
              "      <td>Restaurants</td>\n",
              "      <td>Louisville, Kentucky</td>\n",
              "      <td>1997-10-06</td>\n",
              "      <td>1041061</td>\n",
              "      <td>1997</td>\n",
              "    </tr>\n",
              "    <tr>\n",
              "      <th>501</th>\n",
              "      <td>ZBRA</td>\n",
              "      <td>Zebra Technologies</td>\n",
              "      <td>reports</td>\n",
              "      <td>Information Technology</td>\n",
              "      <td>Electronic Equipment &amp; Instruments</td>\n",
              "      <td>Lincolnshire, Illinois</td>\n",
              "      <td>2019-12-23</td>\n",
              "      <td>877212</td>\n",
              "      <td>1969</td>\n",
              "    </tr>\n",
              "    <tr>\n",
              "      <th>502</th>\n",
              "      <td>ZBH</td>\n",
              "      <td>Zimmer Biomet Holdings</td>\n",
              "      <td>reports</td>\n",
              "      <td>Health Care</td>\n",
              "      <td>Health Care Equipment</td>\n",
              "      <td>Warsaw, Indiana</td>\n",
              "      <td>2001-08-07</td>\n",
              "      <td>1136869</td>\n",
              "      <td>1927</td>\n",
              "    </tr>\n",
              "    <tr>\n",
              "      <th>503</th>\n",
              "      <td>ZION</td>\n",
              "      <td>Zions Bancorp</td>\n",
              "      <td>reports</td>\n",
              "      <td>Financials</td>\n",
              "      <td>Regional Banks</td>\n",
              "      <td>Salt Lake City, Utah</td>\n",
              "      <td>2001-06-22</td>\n",
              "      <td>109380</td>\n",
              "      <td>1873</td>\n",
              "    </tr>\n",
              "    <tr>\n",
              "      <th>504</th>\n",
              "      <td>ZTS</td>\n",
              "      <td>Zoetis</td>\n",
              "      <td>reports</td>\n",
              "      <td>Health Care</td>\n",
              "      <td>Pharmaceuticals</td>\n",
              "      <td>Florham Park, New Jersey</td>\n",
              "      <td>2013-06-21</td>\n",
              "      <td>1555280</td>\n",
              "      <td>1952</td>\n",
              "    </tr>\n",
              "  </tbody>\n",
              "</table>\n",
              "<p>505 rows × 9 columns</p>\n",
              "</div>"
            ],
            "text/plain": [
              "    Symbol                Security  ...      CIK      Founded\n",
              "0      MMM              3M Company  ...    66740         1902\n",
              "1      ABT     Abbott Laboratories  ...     1800         1888\n",
              "2     ABBV             AbbVie Inc.  ...  1551152  2013 (1888)\n",
              "3     ABMD             ABIOMED Inc  ...   815094         1981\n",
              "4      ACN           Accenture plc  ...  1467373         1989\n",
              "..     ...                     ...  ...      ...          ...\n",
              "500    YUM         Yum! Brands Inc  ...  1041061         1997\n",
              "501   ZBRA      Zebra Technologies  ...   877212         1969\n",
              "502    ZBH  Zimmer Biomet Holdings  ...  1136869         1927\n",
              "503   ZION           Zions Bancorp  ...   109380         1873\n",
              "504    ZTS                  Zoetis  ...  1555280         1952\n",
              "\n",
              "[505 rows x 9 columns]"
            ]
          },
          "metadata": {
            "tags": []
          },
          "execution_count": 69
        }
      ]
    },
    {
      "cell_type": "code",
      "metadata": {
        "id": "OS7fwUYL_H_d",
        "outputId": "fc674851-da4b-4e10-d86a-6da4740f3da2",
        "colab": {
          "base_uri": "https://localhost:8080/",
          "height": 552
        }
      },
      "source": [
        "dfs[1]"
      ],
      "execution_count": 70,
      "outputs": [
        {
          "output_type": "execute_result",
          "data": {
            "text/html": [
              "<div>\n",
              "<style scoped>\n",
              "    .dataframe tbody tr th:only-of-type {\n",
              "        vertical-align: middle;\n",
              "    }\n",
              "\n",
              "    .dataframe tbody tr th {\n",
              "        vertical-align: top;\n",
              "    }\n",
              "\n",
              "    .dataframe thead tr th {\n",
              "        text-align: left;\n",
              "    }\n",
              "</style>\n",
              "<table border=\"1\" class=\"dataframe\">\n",
              "  <thead>\n",
              "    <tr>\n",
              "      <th></th>\n",
              "      <th>Date</th>\n",
              "      <th colspan=\"2\" halign=\"left\">Added</th>\n",
              "      <th colspan=\"2\" halign=\"left\">Removed</th>\n",
              "      <th>Reason</th>\n",
              "    </tr>\n",
              "    <tr>\n",
              "      <th></th>\n",
              "      <th>Date</th>\n",
              "      <th>Ticker</th>\n",
              "      <th>Security</th>\n",
              "      <th>Ticker</th>\n",
              "      <th>Security</th>\n",
              "      <th>Reason</th>\n",
              "    </tr>\n",
              "  </thead>\n",
              "  <tbody>\n",
              "    <tr>\n",
              "      <th>0</th>\n",
              "      <td>September 21, 2020</td>\n",
              "      <td>ETSY</td>\n",
              "      <td>Etsy</td>\n",
              "      <td>HRB</td>\n",
              "      <td>H&amp;R Block</td>\n",
              "      <td>Market capitalization change.[6]</td>\n",
              "    </tr>\n",
              "    <tr>\n",
              "      <th>1</th>\n",
              "      <td>September 21, 2020</td>\n",
              "      <td>TER</td>\n",
              "      <td>Teradyne</td>\n",
              "      <td>COTY</td>\n",
              "      <td>Coty Inc.</td>\n",
              "      <td>Market capitalization change.[6]</td>\n",
              "    </tr>\n",
              "    <tr>\n",
              "      <th>2</th>\n",
              "      <td>September 21, 2020</td>\n",
              "      <td>CTLT</td>\n",
              "      <td>Catalent</td>\n",
              "      <td>KSS</td>\n",
              "      <td>Kohl's Corp.</td>\n",
              "      <td>Market capitalization change.[6]</td>\n",
              "    </tr>\n",
              "    <tr>\n",
              "      <th>3</th>\n",
              "      <td>June 22, 2020</td>\n",
              "      <td>BIO</td>\n",
              "      <td>Bio-Rad Laboratories</td>\n",
              "      <td>ADS</td>\n",
              "      <td>Alliance Data Systems</td>\n",
              "      <td>Market capitalization change.[7]</td>\n",
              "    </tr>\n",
              "    <tr>\n",
              "      <th>4</th>\n",
              "      <td>June 22, 2020</td>\n",
              "      <td>TDY</td>\n",
              "      <td>Teledyne Technologies</td>\n",
              "      <td>HOG</td>\n",
              "      <td>Harley-Davidson</td>\n",
              "      <td>Market capitalization change.[7]</td>\n",
              "    </tr>\n",
              "    <tr>\n",
              "      <th>...</th>\n",
              "      <td>...</td>\n",
              "      <td>...</td>\n",
              "      <td>...</td>\n",
              "      <td>...</td>\n",
              "      <td>...</td>\n",
              "      <td>...</td>\n",
              "    </tr>\n",
              "    <tr>\n",
              "      <th>251</th>\n",
              "      <td>December 5, 2000</td>\n",
              "      <td>SBL</td>\n",
              "      <td>Symbol Technologies</td>\n",
              "      <td>OI</td>\n",
              "      <td>Owens-Illinois</td>\n",
              "      <td>Market Cap changes.</td>\n",
              "    </tr>\n",
              "    <tr>\n",
              "      <th>252</th>\n",
              "      <td>December 5, 2000</td>\n",
              "      <td>AYE</td>\n",
              "      <td>Allegheny Energy</td>\n",
              "      <td>GRA</td>\n",
              "      <td>W.R. Grace</td>\n",
              "      <td>Market Cap changes.</td>\n",
              "    </tr>\n",
              "    <tr>\n",
              "      <th>253</th>\n",
              "      <td>December 5, 2000</td>\n",
              "      <td>ABK</td>\n",
              "      <td>Ambac Financial</td>\n",
              "      <td>CCK</td>\n",
              "      <td>Crown Holdings</td>\n",
              "      <td>Market Cap changes.</td>\n",
              "    </tr>\n",
              "    <tr>\n",
              "      <th>254</th>\n",
              "      <td>July 27, 2000</td>\n",
              "      <td>JDSU</td>\n",
              "      <td>JDS Uniphase</td>\n",
              "      <td>RAD</td>\n",
              "      <td>RiteAid</td>\n",
              "      <td>Market Cap change.[204]</td>\n",
              "    </tr>\n",
              "    <tr>\n",
              "      <th>255</th>\n",
              "      <td>December 7, 1999</td>\n",
              "      <td>YHOO</td>\n",
              "      <td>Yahoo!</td>\n",
              "      <td>LDW</td>\n",
              "      <td>Laidlaw</td>\n",
              "      <td>Market Cap change.[205]</td>\n",
              "    </tr>\n",
              "  </tbody>\n",
              "</table>\n",
              "<p>256 rows × 6 columns</p>\n",
              "</div>"
            ],
            "text/plain": [
              "                   Date  ...                            Reason\n",
              "                   Date  ...                            Reason\n",
              "0    September 21, 2020  ...  Market capitalization change.[6]\n",
              "1    September 21, 2020  ...  Market capitalization change.[6]\n",
              "2    September 21, 2020  ...  Market capitalization change.[6]\n",
              "3         June 22, 2020  ...  Market capitalization change.[7]\n",
              "4         June 22, 2020  ...  Market capitalization change.[7]\n",
              "..                  ...  ...                               ...\n",
              "251    December 5, 2000  ...               Market Cap changes.\n",
              "252    December 5, 2000  ...               Market Cap changes.\n",
              "253    December 5, 2000  ...               Market Cap changes.\n",
              "254       July 27, 2000  ...           Market Cap change.[204]\n",
              "255    December 7, 1999  ...           Market Cap change.[205]\n",
              "\n",
              "[256 rows x 6 columns]"
            ]
          },
          "metadata": {
            "tags": []
          },
          "execution_count": 70
        }
      ]
    },
    {
      "cell_type": "code",
      "metadata": {
        "id": "KK2ulctN_Lq-"
      },
      "source": [
        "url = \"http://www.yuantaetfs.com/api/StkWeights?date=&fundid=1066\""
      ],
      "execution_count": 74,
      "outputs": []
    },
    {
      "cell_type": "code",
      "metadata": {
        "id": "F1UG11YaAMtn"
      },
      "source": [
        "dfs = pd.read_json(url)"
      ],
      "execution_count": 75,
      "outputs": []
    },
    {
      "cell_type": "code",
      "metadata": {
        "id": "o_iU5Q_-AQ_g",
        "outputId": "a4f9ed6a-8d51-4bb2-f22f-2a5b088f281e",
        "colab": {
          "base_uri": "https://localhost:8080/",
          "height": 1000
        }
      },
      "source": [
        "dfs"
      ],
      "execution_count": 78,
      "outputs": [
        {
          "output_type": "execute_result",
          "data": {
            "text/html": [
              "<div>\n",
              "<style scoped>\n",
              "    .dataframe tbody tr th:only-of-type {\n",
              "        vertical-align: middle;\n",
              "    }\n",
              "\n",
              "    .dataframe tbody tr th {\n",
              "        vertical-align: top;\n",
              "    }\n",
              "\n",
              "    .dataframe thead th {\n",
              "        text-align: right;\n",
              "    }\n",
              "</style>\n",
              "<table border=\"1\" class=\"dataframe\">\n",
              "  <thead>\n",
              "    <tr style=\"text-align: right;\">\n",
              "      <th></th>\n",
              "      <th>code</th>\n",
              "      <th>ym</th>\n",
              "      <th>name</th>\n",
              "      <th>ename</th>\n",
              "      <th>weights</th>\n",
              "      <th>qty</th>\n",
              "    </tr>\n",
              "  </thead>\n",
              "  <tbody>\n",
              "    <tr>\n",
              "      <th>0</th>\n",
              "      <td>2330</td>\n",
              "      <td>NaN</td>\n",
              "      <td>台積電</td>\n",
              "      <td>Taiwan Semiconductor Manufacturing Co. Ltd.</td>\n",
              "      <td>48.59</td>\n",
              "      <td>106526643</td>\n",
              "    </tr>\n",
              "    <tr>\n",
              "      <th>1</th>\n",
              "      <td>2454</td>\n",
              "      <td>NaN</td>\n",
              "      <td>聯發科</td>\n",
              "      <td>MediaTek Inc.</td>\n",
              "      <td>4.63</td>\n",
              "      <td>6562721</td>\n",
              "    </tr>\n",
              "    <tr>\n",
              "      <th>2</th>\n",
              "      <td>2317</td>\n",
              "      <td>NaN</td>\n",
              "      <td>鴻海</td>\n",
              "      <td>HON HAI PRECISION IND. CO. LTD.</td>\n",
              "      <td>4.36</td>\n",
              "      <td>52940221</td>\n",
              "    </tr>\n",
              "    <tr>\n",
              "      <th>3</th>\n",
              "      <td>2308</td>\n",
              "      <td>NaN</td>\n",
              "      <td>台達電</td>\n",
              "      <td>DELTA ELECTRONICS INC.</td>\n",
              "      <td>1.90</td>\n",
              "      <td>9583950</td>\n",
              "    </tr>\n",
              "    <tr>\n",
              "      <th>4</th>\n",
              "      <td>2412</td>\n",
              "      <td>NaN</td>\n",
              "      <td>中華電</td>\n",
              "      <td>Chunghwa Telecom Co. Ltd</td>\n",
              "      <td>1.82</td>\n",
              "      <td>16873398</td>\n",
              "    </tr>\n",
              "    <tr>\n",
              "      <th>5</th>\n",
              "      <td>1301</td>\n",
              "      <td>NaN</td>\n",
              "      <td>台塑</td>\n",
              "      <td>Formosa Plastics Corporation</td>\n",
              "      <td>1.74</td>\n",
              "      <td>21602128</td>\n",
              "    </tr>\n",
              "    <tr>\n",
              "      <th>6</th>\n",
              "      <td>2303</td>\n",
              "      <td>NaN</td>\n",
              "      <td>聯電</td>\n",
              "      <td>UNITED MICROELECTRONICS CORP.</td>\n",
              "      <td>1.60</td>\n",
              "      <td>50857469</td>\n",
              "    </tr>\n",
              "    <tr>\n",
              "      <th>7</th>\n",
              "      <td>1303</td>\n",
              "      <td>NaN</td>\n",
              "      <td>南亞</td>\n",
              "      <td>NAN YA PLASTICS CORPORATION</td>\n",
              "      <td>1.50</td>\n",
              "      <td>25048178</td>\n",
              "    </tr>\n",
              "    <tr>\n",
              "      <th>8</th>\n",
              "      <td>2891</td>\n",
              "      <td>NaN</td>\n",
              "      <td>中信金</td>\n",
              "      <td>CTBC FINANCIAL HOLDING CO. LTD.</td>\n",
              "      <td>1.47</td>\n",
              "      <td>80487208</td>\n",
              "    </tr>\n",
              "    <tr>\n",
              "      <th>9</th>\n",
              "      <td>2882</td>\n",
              "      <td>NaN</td>\n",
              "      <td>國泰金</td>\n",
              "      <td>CATHAY FINANCIAL HOLDING CO. LTD.</td>\n",
              "      <td>1.43</td>\n",
              "      <td>36657961</td>\n",
              "    </tr>\n",
              "    <tr>\n",
              "      <th>10</th>\n",
              "      <td>3008</td>\n",
              "      <td>NaN</td>\n",
              "      <td>大立光</td>\n",
              "      <td>LARGAN Precision Co.Ltd</td>\n",
              "      <td>1.42</td>\n",
              "      <td>454602</td>\n",
              "    </tr>\n",
              "    <tr>\n",
              "      <th>11</th>\n",
              "      <td>2881</td>\n",
              "      <td>NaN</td>\n",
              "      <td>富邦金</td>\n",
              "      <td>Fubon Financial Holding Co. Ltd.</td>\n",
              "      <td>1.36</td>\n",
              "      <td>32588036</td>\n",
              "    </tr>\n",
              "    <tr>\n",
              "      <th>12</th>\n",
              "      <td>2886</td>\n",
              "      <td>NaN</td>\n",
              "      <td>兆豐金</td>\n",
              "      <td>Mega Financial Holding Company Ltd.</td>\n",
              "      <td>1.35</td>\n",
              "      <td>48294422</td>\n",
              "    </tr>\n",
              "    <tr>\n",
              "      <th>13</th>\n",
              "      <td>1216</td>\n",
              "      <td>NaN</td>\n",
              "      <td>統一</td>\n",
              "      <td>UNI-PRESIDENT ENTERPRISES CORP.</td>\n",
              "      <td>1.34</td>\n",
              "      <td>21267506</td>\n",
              "    </tr>\n",
              "    <tr>\n",
              "      <th>14</th>\n",
              "      <td>2884</td>\n",
              "      <td>NaN</td>\n",
              "      <td>玉山金</td>\n",
              "      <td>E.SUN FINANCIAL HOLDING COMPANYLTD.</td>\n",
              "      <td>1.32</td>\n",
              "      <td>52903956</td>\n",
              "    </tr>\n",
              "    <tr>\n",
              "      <th>15</th>\n",
              "      <td>2002</td>\n",
              "      <td>NaN</td>\n",
              "      <td>中鋼</td>\n",
              "      <td>China Steel Corporation</td>\n",
              "      <td>1.15</td>\n",
              "      <td>54710017</td>\n",
              "    </tr>\n",
              "    <tr>\n",
              "      <th>16</th>\n",
              "      <td>1326</td>\n",
              "      <td>NaN</td>\n",
              "      <td>台化</td>\n",
              "      <td>FORMOSA CHEMICALS &amp; FIBRE CORPORATION</td>\n",
              "      <td>1.06</td>\n",
              "      <td>15187725</td>\n",
              "    </tr>\n",
              "    <tr>\n",
              "      <th>17</th>\n",
              "      <td>3711</td>\n",
              "      <td>NaN</td>\n",
              "      <td>日月光投控</td>\n",
              "      <td>ASE Technology Holding Co. Ltd.</td>\n",
              "      <td>0.94</td>\n",
              "      <td>15022250</td>\n",
              "    </tr>\n",
              "    <tr>\n",
              "      <th>18</th>\n",
              "      <td>2885</td>\n",
              "      <td>NaN</td>\n",
              "      <td>元大金</td>\n",
              "      <td>Yuanta Financial Holding Co. Ltd</td>\n",
              "      <td>0.93</td>\n",
              "      <td>51586830</td>\n",
              "    </tr>\n",
              "    <tr>\n",
              "      <th>19</th>\n",
              "      <td>2892</td>\n",
              "      <td>NaN</td>\n",
              "      <td>第一金</td>\n",
              "      <td>First  Financial  Holding  Co.  Ltd.</td>\n",
              "      <td>0.92</td>\n",
              "      <td>44880421</td>\n",
              "    </tr>\n",
              "    <tr>\n",
              "      <th>20</th>\n",
              "      <td>1101</td>\n",
              "      <td>NaN</td>\n",
              "      <td>台泥</td>\n",
              "      <td>Taiwan Cement Corp.</td>\n",
              "      <td>0.92</td>\n",
              "      <td>22477736</td>\n",
              "    </tr>\n",
              "    <tr>\n",
              "      <th>21</th>\n",
              "      <td>2207</td>\n",
              "      <td>NaN</td>\n",
              "      <td>和泰車</td>\n",
              "      <td>HOTAI MOTOR CO.LTD.</td>\n",
              "      <td>0.91</td>\n",
              "      <td>1415653</td>\n",
              "    </tr>\n",
              "    <tr>\n",
              "      <th>22</th>\n",
              "      <td>2382</td>\n",
              "      <td>NaN</td>\n",
              "      <td>廣達</td>\n",
              "      <td>QUANTA COMPUTER INC.</td>\n",
              "      <td>0.87</td>\n",
              "      <td>11802903</td>\n",
              "    </tr>\n",
              "    <tr>\n",
              "      <th>23</th>\n",
              "      <td>5880</td>\n",
              "      <td>NaN</td>\n",
              "      <td>合庫金</td>\n",
              "      <td>Taiwan Cooperative Financial Holding Co.Ltd.</td>\n",
              "      <td>0.84</td>\n",
              "      <td>42616733</td>\n",
              "    </tr>\n",
              "    <tr>\n",
              "      <th>24</th>\n",
              "      <td>2379</td>\n",
              "      <td>NaN</td>\n",
              "      <td>瑞昱</td>\n",
              "      <td>Realtek Semiconductor Corporation</td>\n",
              "      <td>0.80</td>\n",
              "      <td>2101233</td>\n",
              "    </tr>\n",
              "    <tr>\n",
              "      <th>25</th>\n",
              "      <td>5871</td>\n",
              "      <td>NaN</td>\n",
              "      <td>中租-KY</td>\n",
              "      <td>Chailease Holding Company Limited</td>\n",
              "      <td>0.79</td>\n",
              "      <td>5608406</td>\n",
              "    </tr>\n",
              "    <tr>\n",
              "      <th>26</th>\n",
              "      <td>2357</td>\n",
              "      <td>NaN</td>\n",
              "      <td>華碩</td>\n",
              "      <td>ASUSTEK COMPUTER INC.</td>\n",
              "      <td>0.75</td>\n",
              "      <td>3128866</td>\n",
              "    </tr>\n",
              "    <tr>\n",
              "      <th>27</th>\n",
              "      <td>2880</td>\n",
              "      <td>NaN</td>\n",
              "      <td>華南金</td>\n",
              "      <td>HUA NAN FINANCIAL HOLDINGS CO.LTD.</td>\n",
              "      <td>0.75</td>\n",
              "      <td>42464810</td>\n",
              "    </tr>\n",
              "    <tr>\n",
              "      <th>28</th>\n",
              "      <td>2327</td>\n",
              "      <td>NaN</td>\n",
              "      <td>國巨</td>\n",
              "      <td>YAGEO CORPORATION</td>\n",
              "      <td>0.73</td>\n",
              "      <td>2017060</td>\n",
              "    </tr>\n",
              "    <tr>\n",
              "      <th>29</th>\n",
              "      <td>3045</td>\n",
              "      <td>NaN</td>\n",
              "      <td>台灣大</td>\n",
              "      <td>TAIWAN  MOBILE  CO. LTD.</td>\n",
              "      <td>0.70</td>\n",
              "      <td>7251338</td>\n",
              "    </tr>\n",
              "    <tr>\n",
              "      <th>30</th>\n",
              "      <td>2912</td>\n",
              "      <td>NaN</td>\n",
              "      <td>統一超</td>\n",
              "      <td>PRESIDENT CHAIN STORE CORPORATION</td>\n",
              "      <td>0.67</td>\n",
              "      <td>2490099</td>\n",
              "    </tr>\n",
              "    <tr>\n",
              "      <th>31</th>\n",
              "      <td>2887</td>\n",
              "      <td>NaN</td>\n",
              "      <td>台新金</td>\n",
              "      <td>Taishin Financial Holding Co. Ltd.</td>\n",
              "      <td>0.59</td>\n",
              "      <td>45922172</td>\n",
              "    </tr>\n",
              "    <tr>\n",
              "      <th>32</th>\n",
              "      <td>2474</td>\n",
              "      <td>NaN</td>\n",
              "      <td>可成</td>\n",
              "      <td>CATCHER TECHNOLOGY CO. LTD.</td>\n",
              "      <td>0.59</td>\n",
              "      <td>3238161</td>\n",
              "    </tr>\n",
              "    <tr>\n",
              "      <th>33</th>\n",
              "      <td>4938</td>\n",
              "      <td>NaN</td>\n",
              "      <td>和碩</td>\n",
              "      <td>Pegatron Corporation</td>\n",
              "      <td>0.57</td>\n",
              "      <td>8877649</td>\n",
              "    </tr>\n",
              "    <tr>\n",
              "      <th>34</th>\n",
              "      <td>5876</td>\n",
              "      <td>NaN</td>\n",
              "      <td>上海商銀</td>\n",
              "      <td>THE SHANGHAI COMMERCIAL &amp; SAVINGS BANK LTD.</td>\n",
              "      <td>0.56</td>\n",
              "      <td>14534237</td>\n",
              "    </tr>\n",
              "    <tr>\n",
              "      <th>35</th>\n",
              "      <td>2395</td>\n",
              "      <td>NaN</td>\n",
              "      <td>研華</td>\n",
              "      <td>ADVANTECH Co. Ltd.</td>\n",
              "      <td>0.54</td>\n",
              "      <td>1822934</td>\n",
              "    </tr>\n",
              "    <tr>\n",
              "      <th>36</th>\n",
              "      <td>2883</td>\n",
              "      <td>NaN</td>\n",
              "      <td>開發金</td>\n",
              "      <td>CHINA DEVELOPMENT FINANCIAL HOLDING CORP.</td>\n",
              "      <td>0.53</td>\n",
              "      <td>61599466</td>\n",
              "    </tr>\n",
              "    <tr>\n",
              "      <th>37</th>\n",
              "      <td>2890</td>\n",
              "      <td>NaN</td>\n",
              "      <td>永豐金</td>\n",
              "      <td>SINOPAC  FINANCIAL HOLDINGS COMPANY LIMITED</td>\n",
              "      <td>0.51</td>\n",
              "      <td>46528386</td>\n",
              "    </tr>\n",
              "    <tr>\n",
              "      <th>38</th>\n",
              "      <td>2801</td>\n",
              "      <td>NaN</td>\n",
              "      <td>彰銀</td>\n",
              "      <td>CHANG HWA COMMERCIAL BANK LTD.</td>\n",
              "      <td>0.51</td>\n",
              "      <td>28820028</td>\n",
              "    </tr>\n",
              "    <tr>\n",
              "      <th>39</th>\n",
              "      <td>6415</td>\n",
              "      <td>NaN</td>\n",
              "      <td>矽力-KY</td>\n",
              "      <td>Silergy Corp.</td>\n",
              "      <td>0.50</td>\n",
              "      <td>269238</td>\n",
              "    </tr>\n",
              "    <tr>\n",
              "      <th>40</th>\n",
              "      <td>6505</td>\n",
              "      <td>NaN</td>\n",
              "      <td>台塑化</td>\n",
              "      <td>Formosa Petrochemical Corp</td>\n",
              "      <td>0.49</td>\n",
              "      <td>6055640</td>\n",
              "    </tr>\n",
              "    <tr>\n",
              "      <th>41</th>\n",
              "      <td>1402</td>\n",
              "      <td>NaN</td>\n",
              "      <td>遠東新</td>\n",
              "      <td>Far Eastern New Century Corporation</td>\n",
              "      <td>0.46</td>\n",
              "      <td>17404449</td>\n",
              "    </tr>\n",
              "    <tr>\n",
              "      <th>42</th>\n",
              "      <td>2301</td>\n",
              "      <td>NaN</td>\n",
              "      <td>光寶科</td>\n",
              "      <td>LITE-ON TECHNOLOGY CORP.</td>\n",
              "      <td>0.44</td>\n",
              "      <td>9434293</td>\n",
              "    </tr>\n",
              "    <tr>\n",
              "      <th>43</th>\n",
              "      <td>4904</td>\n",
              "      <td>NaN</td>\n",
              "      <td>遠傳</td>\n",
              "      <td>Far EasTone Telecommunications Co. Ltd.</td>\n",
              "      <td>0.43</td>\n",
              "      <td>7087736</td>\n",
              "    </tr>\n",
              "    <tr>\n",
              "      <th>44</th>\n",
              "      <td>1102</td>\n",
              "      <td>NaN</td>\n",
              "      <td>亞泥</td>\n",
              "      <td>Asia Cement Corporation</td>\n",
              "      <td>0.42</td>\n",
              "      <td>10289807</td>\n",
              "    </tr>\n",
              "    <tr>\n",
              "      <th>45</th>\n",
              "      <td>9910</td>\n",
              "      <td>NaN</td>\n",
              "      <td>豐泰</td>\n",
              "      <td>FENG TAY ENTERPRISES CO. LTD.</td>\n",
              "      <td>0.35</td>\n",
              "      <td>1957388</td>\n",
              "    </tr>\n",
              "    <tr>\n",
              "      <th>46</th>\n",
              "      <td>2105</td>\n",
              "      <td>NaN</td>\n",
              "      <td>正新</td>\n",
              "      <td>Cheng Shin Rubber Ind. Co. Ltd.</td>\n",
              "      <td>0.30</td>\n",
              "      <td>8133785</td>\n",
              "    </tr>\n",
              "    <tr>\n",
              "      <th>47</th>\n",
              "      <td>2633</td>\n",
              "      <td>NaN</td>\n",
              "      <td>台灣高鐵</td>\n",
              "      <td>Taiwan High Speed Rail Corporation</td>\n",
              "      <td>0.29</td>\n",
              "      <td>9243688</td>\n",
              "    </tr>\n",
              "    <tr>\n",
              "      <th>48</th>\n",
              "      <td>6669</td>\n",
              "      <td>NaN</td>\n",
              "      <td>緯穎</td>\n",
              "      <td>Wiwynn Corporation</td>\n",
              "      <td>0.28</td>\n",
              "      <td>371863</td>\n",
              "    </tr>\n",
              "    <tr>\n",
              "      <th>49</th>\n",
              "      <td>2408</td>\n",
              "      <td>NaN</td>\n",
              "      <td>南亞科</td>\n",
              "      <td>NANYA TECHNOLOGY CORPORATION</td>\n",
              "      <td>0.23</td>\n",
              "      <td>3603405</td>\n",
              "    </tr>\n",
              "  </tbody>\n",
              "</table>\n",
              "</div>"
            ],
            "text/plain": [
              "    code  ym  ... weights        qty\n",
              "0   2330 NaN  ...   48.59  106526643\n",
              "1   2454 NaN  ...    4.63    6562721\n",
              "2   2317 NaN  ...    4.36   52940221\n",
              "3   2308 NaN  ...    1.90    9583950\n",
              "4   2412 NaN  ...    1.82   16873398\n",
              "5   1301 NaN  ...    1.74   21602128\n",
              "6   2303 NaN  ...    1.60   50857469\n",
              "7   1303 NaN  ...    1.50   25048178\n",
              "8   2891 NaN  ...    1.47   80487208\n",
              "9   2882 NaN  ...    1.43   36657961\n",
              "10  3008 NaN  ...    1.42     454602\n",
              "11  2881 NaN  ...    1.36   32588036\n",
              "12  2886 NaN  ...    1.35   48294422\n",
              "13  1216 NaN  ...    1.34   21267506\n",
              "14  2884 NaN  ...    1.32   52903956\n",
              "15  2002 NaN  ...    1.15   54710017\n",
              "16  1326 NaN  ...    1.06   15187725\n",
              "17  3711 NaN  ...    0.94   15022250\n",
              "18  2885 NaN  ...    0.93   51586830\n",
              "19  2892 NaN  ...    0.92   44880421\n",
              "20  1101 NaN  ...    0.92   22477736\n",
              "21  2207 NaN  ...    0.91    1415653\n",
              "22  2382 NaN  ...    0.87   11802903\n",
              "23  5880 NaN  ...    0.84   42616733\n",
              "24  2379 NaN  ...    0.80    2101233\n",
              "25  5871 NaN  ...    0.79    5608406\n",
              "26  2357 NaN  ...    0.75    3128866\n",
              "27  2880 NaN  ...    0.75   42464810\n",
              "28  2327 NaN  ...    0.73    2017060\n",
              "29  3045 NaN  ...    0.70    7251338\n",
              "30  2912 NaN  ...    0.67    2490099\n",
              "31  2887 NaN  ...    0.59   45922172\n",
              "32  2474 NaN  ...    0.59    3238161\n",
              "33  4938 NaN  ...    0.57    8877649\n",
              "34  5876 NaN  ...    0.56   14534237\n",
              "35  2395 NaN  ...    0.54    1822934\n",
              "36  2883 NaN  ...    0.53   61599466\n",
              "37  2890 NaN  ...    0.51   46528386\n",
              "38  2801 NaN  ...    0.51   28820028\n",
              "39  6415 NaN  ...    0.50     269238\n",
              "40  6505 NaN  ...    0.49    6055640\n",
              "41  1402 NaN  ...    0.46   17404449\n",
              "42  2301 NaN  ...    0.44    9434293\n",
              "43  4904 NaN  ...    0.43    7087736\n",
              "44  1102 NaN  ...    0.42   10289807\n",
              "45  9910 NaN  ...    0.35    1957388\n",
              "46  2105 NaN  ...    0.30    8133785\n",
              "47  2633 NaN  ...    0.29    9243688\n",
              "48  6669 NaN  ...    0.28     371863\n",
              "49  2408 NaN  ...    0.23    3603405\n",
              "\n",
              "[50 rows x 6 columns]"
            ]
          },
          "metadata": {
            "tags": []
          },
          "execution_count": 78
        }
      ]
    },
    {
      "cell_type": "markdown",
      "metadata": {
        "id": "6hhoUS0ELZm6"
      },
      "source": [
        "#Filetering & subsetting\n",
        "## boolean indexing"
      ]
    },
    {
      "cell_type": "code",
      "metadata": {
        "id": "v29IlN6HLYeL",
        "outputId": "0904b00c-7c38-4254-9de7-128f365f9b6b",
        "colab": {
          "base_uri": "https://localhost:8080/",
          "height": 80
        }
      },
      "source": [
        "dfs[dfs['code']==2330]"
      ],
      "execution_count": 120,
      "outputs": [
        {
          "output_type": "execute_result",
          "data": {
            "text/html": [
              "<div>\n",
              "<style scoped>\n",
              "    .dataframe tbody tr th:only-of-type {\n",
              "        vertical-align: middle;\n",
              "    }\n",
              "\n",
              "    .dataframe tbody tr th {\n",
              "        vertical-align: top;\n",
              "    }\n",
              "\n",
              "    .dataframe thead th {\n",
              "        text-align: right;\n",
              "    }\n",
              "</style>\n",
              "<table border=\"1\" class=\"dataframe\">\n",
              "  <thead>\n",
              "    <tr style=\"text-align: right;\">\n",
              "      <th></th>\n",
              "      <th>code</th>\n",
              "      <th>ym</th>\n",
              "      <th>name</th>\n",
              "      <th>ename</th>\n",
              "      <th>weights</th>\n",
              "      <th>qty</th>\n",
              "    </tr>\n",
              "  </thead>\n",
              "  <tbody>\n",
              "    <tr>\n",
              "      <th>0</th>\n",
              "      <td>2330</td>\n",
              "      <td>NaN</td>\n",
              "      <td>台積電</td>\n",
              "      <td>Taiwan Semiconductor Manufacturing Co. Ltd.</td>\n",
              "      <td>48.59</td>\n",
              "      <td>106526643</td>\n",
              "    </tr>\n",
              "  </tbody>\n",
              "</table>\n",
              "</div>"
            ],
            "text/plain": [
              "   code  ym  ... weights        qty\n",
              "0  2330 NaN  ...   48.59  106526643\n",
              "\n",
              "[1 rows x 6 columns]"
            ]
          },
          "metadata": {
            "tags": []
          },
          "execution_count": 120
        }
      ]
    },
    {
      "cell_type": "code",
      "metadata": {
        "id": "wyEQmz7KL4EQ",
        "outputId": "55cfcebf-61e4-4159-d6ca-b3000d095864",
        "colab": {
          "base_uri": "https://localhost:8080/",
          "height": 328
        }
      },
      "source": [
        "dfs[(dfs['code']>2000) & (dfs['code']<2350)]"
      ],
      "execution_count": 124,
      "outputs": [
        {
          "output_type": "execute_result",
          "data": {
            "text/html": [
              "<div>\n",
              "<style scoped>\n",
              "    .dataframe tbody tr th:only-of-type {\n",
              "        vertical-align: middle;\n",
              "    }\n",
              "\n",
              "    .dataframe tbody tr th {\n",
              "        vertical-align: top;\n",
              "    }\n",
              "\n",
              "    .dataframe thead th {\n",
              "        text-align: right;\n",
              "    }\n",
              "</style>\n",
              "<table border=\"1\" class=\"dataframe\">\n",
              "  <thead>\n",
              "    <tr style=\"text-align: right;\">\n",
              "      <th></th>\n",
              "      <th>code</th>\n",
              "      <th>ym</th>\n",
              "      <th>name</th>\n",
              "      <th>ename</th>\n",
              "      <th>weights</th>\n",
              "      <th>qty</th>\n",
              "    </tr>\n",
              "  </thead>\n",
              "  <tbody>\n",
              "    <tr>\n",
              "      <th>0</th>\n",
              "      <td>2330</td>\n",
              "      <td>NaN</td>\n",
              "      <td>台積電</td>\n",
              "      <td>Taiwan Semiconductor Manufacturing Co. Ltd.</td>\n",
              "      <td>48.59</td>\n",
              "      <td>106526643</td>\n",
              "    </tr>\n",
              "    <tr>\n",
              "      <th>2</th>\n",
              "      <td>2317</td>\n",
              "      <td>NaN</td>\n",
              "      <td>鴻海</td>\n",
              "      <td>HON HAI PRECISION IND. CO. LTD.</td>\n",
              "      <td>4.36</td>\n",
              "      <td>52940221</td>\n",
              "    </tr>\n",
              "    <tr>\n",
              "      <th>3</th>\n",
              "      <td>2308</td>\n",
              "      <td>NaN</td>\n",
              "      <td>台達電</td>\n",
              "      <td>DELTA ELECTRONICS INC.</td>\n",
              "      <td>1.90</td>\n",
              "      <td>9583950</td>\n",
              "    </tr>\n",
              "    <tr>\n",
              "      <th>6</th>\n",
              "      <td>2303</td>\n",
              "      <td>NaN</td>\n",
              "      <td>聯電</td>\n",
              "      <td>UNITED MICROELECTRONICS CORP.</td>\n",
              "      <td>1.60</td>\n",
              "      <td>50857469</td>\n",
              "    </tr>\n",
              "    <tr>\n",
              "      <th>15</th>\n",
              "      <td>2002</td>\n",
              "      <td>NaN</td>\n",
              "      <td>中鋼</td>\n",
              "      <td>China Steel Corporation</td>\n",
              "      <td>1.15</td>\n",
              "      <td>54710017</td>\n",
              "    </tr>\n",
              "    <tr>\n",
              "      <th>21</th>\n",
              "      <td>2207</td>\n",
              "      <td>NaN</td>\n",
              "      <td>和泰車</td>\n",
              "      <td>HOTAI MOTOR CO.LTD.</td>\n",
              "      <td>0.91</td>\n",
              "      <td>1415653</td>\n",
              "    </tr>\n",
              "    <tr>\n",
              "      <th>28</th>\n",
              "      <td>2327</td>\n",
              "      <td>NaN</td>\n",
              "      <td>國巨</td>\n",
              "      <td>YAGEO CORPORATION</td>\n",
              "      <td>0.73</td>\n",
              "      <td>2017060</td>\n",
              "    </tr>\n",
              "    <tr>\n",
              "      <th>42</th>\n",
              "      <td>2301</td>\n",
              "      <td>NaN</td>\n",
              "      <td>光寶科</td>\n",
              "      <td>LITE-ON TECHNOLOGY CORP.</td>\n",
              "      <td>0.44</td>\n",
              "      <td>9434293</td>\n",
              "    </tr>\n",
              "    <tr>\n",
              "      <th>46</th>\n",
              "      <td>2105</td>\n",
              "      <td>NaN</td>\n",
              "      <td>正新</td>\n",
              "      <td>Cheng Shin Rubber Ind. Co. Ltd.</td>\n",
              "      <td>0.30</td>\n",
              "      <td>8133785</td>\n",
              "    </tr>\n",
              "  </tbody>\n",
              "</table>\n",
              "</div>"
            ],
            "text/plain": [
              "    code  ym  ... weights        qty\n",
              "0   2330 NaN  ...   48.59  106526643\n",
              "2   2317 NaN  ...    4.36   52940221\n",
              "3   2308 NaN  ...    1.90    9583950\n",
              "6   2303 NaN  ...    1.60   50857469\n",
              "15  2002 NaN  ...    1.15   54710017\n",
              "21  2207 NaN  ...    0.91    1415653\n",
              "28  2327 NaN  ...    0.73    2017060\n",
              "42  2301 NaN  ...    0.44    9434293\n",
              "46  2105 NaN  ...    0.30    8133785\n",
              "\n",
              "[9 rows x 6 columns]"
            ]
          },
          "metadata": {
            "tags": []
          },
          "execution_count": 124
        }
      ]
    },
    {
      "cell_type": "code",
      "metadata": {
        "id": "zX3VONEGMdoq",
        "outputId": "0b8fdef6-4de1-41c4-c5f6-2c8a782753d1",
        "colab": {
          "base_uri": "https://localhost:8080/",
          "height": 173
        }
      },
      "source": [
        "dfs[dfs['name'].str.contains('電')]"
      ],
      "execution_count": 126,
      "outputs": [
        {
          "output_type": "execute_result",
          "data": {
            "text/html": [
              "<div>\n",
              "<style scoped>\n",
              "    .dataframe tbody tr th:only-of-type {\n",
              "        vertical-align: middle;\n",
              "    }\n",
              "\n",
              "    .dataframe tbody tr th {\n",
              "        vertical-align: top;\n",
              "    }\n",
              "\n",
              "    .dataframe thead th {\n",
              "        text-align: right;\n",
              "    }\n",
              "</style>\n",
              "<table border=\"1\" class=\"dataframe\">\n",
              "  <thead>\n",
              "    <tr style=\"text-align: right;\">\n",
              "      <th></th>\n",
              "      <th>code</th>\n",
              "      <th>ym</th>\n",
              "      <th>name</th>\n",
              "      <th>ename</th>\n",
              "      <th>weights</th>\n",
              "      <th>qty</th>\n",
              "    </tr>\n",
              "  </thead>\n",
              "  <tbody>\n",
              "    <tr>\n",
              "      <th>0</th>\n",
              "      <td>2330</td>\n",
              "      <td>NaN</td>\n",
              "      <td>台積電</td>\n",
              "      <td>Taiwan Semiconductor Manufacturing Co. Ltd.</td>\n",
              "      <td>48.59</td>\n",
              "      <td>106526643</td>\n",
              "    </tr>\n",
              "    <tr>\n",
              "      <th>3</th>\n",
              "      <td>2308</td>\n",
              "      <td>NaN</td>\n",
              "      <td>台達電</td>\n",
              "      <td>DELTA ELECTRONICS INC.</td>\n",
              "      <td>1.90</td>\n",
              "      <td>9583950</td>\n",
              "    </tr>\n",
              "    <tr>\n",
              "      <th>4</th>\n",
              "      <td>2412</td>\n",
              "      <td>NaN</td>\n",
              "      <td>中華電</td>\n",
              "      <td>Chunghwa Telecom Co. Ltd</td>\n",
              "      <td>1.82</td>\n",
              "      <td>16873398</td>\n",
              "    </tr>\n",
              "    <tr>\n",
              "      <th>6</th>\n",
              "      <td>2303</td>\n",
              "      <td>NaN</td>\n",
              "      <td>聯電</td>\n",
              "      <td>UNITED MICROELECTRONICS CORP.</td>\n",
              "      <td>1.60</td>\n",
              "      <td>50857469</td>\n",
              "    </tr>\n",
              "  </tbody>\n",
              "</table>\n",
              "</div>"
            ],
            "text/plain": [
              "   code  ym  ... weights        qty\n",
              "0  2330 NaN  ...   48.59  106526643\n",
              "3  2308 NaN  ...    1.90    9583950\n",
              "4  2412 NaN  ...    1.82   16873398\n",
              "6  2303 NaN  ...    1.60   50857469\n",
              "\n",
              "[4 rows x 6 columns]"
            ]
          },
          "metadata": {
            "tags": []
          },
          "execution_count": 126
        }
      ]
    },
    {
      "cell_type": "code",
      "metadata": {
        "id": "AgGVtSnOCXBd"
      },
      "source": [
        "import pandas_datareader.data as web"
      ],
      "execution_count": 79,
      "outputs": []
    },
    {
      "cell_type": "code",
      "metadata": {
        "id": "8cxgBqK-DlMt"
      },
      "source": [
        "df = web.DataReader(\"2330.tw\",\"yahoo\",\"2017-01-01\")"
      ],
      "execution_count": 80,
      "outputs": []
    },
    {
      "cell_type": "code",
      "metadata": {
        "id": "osqxe3sdD0bF",
        "outputId": "785bf075-b876-49c4-dce1-2cfb7dd6e415",
        "colab": {
          "base_uri": "https://localhost:8080/",
          "height": 450
        }
      },
      "source": [
        "df"
      ],
      "execution_count": 81,
      "outputs": [
        {
          "output_type": "execute_result",
          "data": {
            "text/html": [
              "<div>\n",
              "<style scoped>\n",
              "    .dataframe tbody tr th:only-of-type {\n",
              "        vertical-align: middle;\n",
              "    }\n",
              "\n",
              "    .dataframe tbody tr th {\n",
              "        vertical-align: top;\n",
              "    }\n",
              "\n",
              "    .dataframe thead th {\n",
              "        text-align: right;\n",
              "    }\n",
              "</style>\n",
              "<table border=\"1\" class=\"dataframe\">\n",
              "  <thead>\n",
              "    <tr style=\"text-align: right;\">\n",
              "      <th></th>\n",
              "      <th>High</th>\n",
              "      <th>Low</th>\n",
              "      <th>Open</th>\n",
              "      <th>Close</th>\n",
              "      <th>Volume</th>\n",
              "      <th>Adj Close</th>\n",
              "    </tr>\n",
              "    <tr>\n",
              "      <th>Date</th>\n",
              "      <th></th>\n",
              "      <th></th>\n",
              "      <th></th>\n",
              "      <th></th>\n",
              "      <th></th>\n",
              "      <th></th>\n",
              "    </tr>\n",
              "  </thead>\n",
              "  <tbody>\n",
              "    <tr>\n",
              "      <th>2017-01-03</th>\n",
              "      <td>183.5</td>\n",
              "      <td>181.0</td>\n",
              "      <td>181.5</td>\n",
              "      <td>183.0</td>\n",
              "      <td>22630000.0</td>\n",
              "      <td>159.217285</td>\n",
              "    </tr>\n",
              "    <tr>\n",
              "      <th>2017-01-04</th>\n",
              "      <td>184.0</td>\n",
              "      <td>181.5</td>\n",
              "      <td>183.0</td>\n",
              "      <td>183.0</td>\n",
              "      <td>24369000.0</td>\n",
              "      <td>159.217285</td>\n",
              "    </tr>\n",
              "    <tr>\n",
              "      <th>2017-01-05</th>\n",
              "      <td>183.5</td>\n",
              "      <td>181.5</td>\n",
              "      <td>182.0</td>\n",
              "      <td>183.5</td>\n",
              "      <td>20979000.0</td>\n",
              "      <td>159.652328</td>\n",
              "    </tr>\n",
              "    <tr>\n",
              "      <th>2017-01-06</th>\n",
              "      <td>184.5</td>\n",
              "      <td>183.5</td>\n",
              "      <td>184.0</td>\n",
              "      <td>184.0</td>\n",
              "      <td>22443000.0</td>\n",
              "      <td>160.087326</td>\n",
              "    </tr>\n",
              "    <tr>\n",
              "      <th>2017-01-09</th>\n",
              "      <td>185.0</td>\n",
              "      <td>183.0</td>\n",
              "      <td>184.0</td>\n",
              "      <td>184.0</td>\n",
              "      <td>18569000.0</td>\n",
              "      <td>160.087326</td>\n",
              "    </tr>\n",
              "    <tr>\n",
              "      <th>...</th>\n",
              "      <td>...</td>\n",
              "      <td>...</td>\n",
              "      <td>...</td>\n",
              "      <td>...</td>\n",
              "      <td>...</td>\n",
              "      <td>...</td>\n",
              "    </tr>\n",
              "    <tr>\n",
              "      <th>2020-10-14</th>\n",
              "      <td>461.0</td>\n",
              "      <td>457.0</td>\n",
              "      <td>460.5</td>\n",
              "      <td>459.0</td>\n",
              "      <td>40809241.0</td>\n",
              "      <td>459.000000</td>\n",
              "    </tr>\n",
              "    <tr>\n",
              "      <th>2020-10-15</th>\n",
              "      <td>456.5</td>\n",
              "      <td>450.0</td>\n",
              "      <td>456.0</td>\n",
              "      <td>453.0</td>\n",
              "      <td>47775028.0</td>\n",
              "      <td>453.000000</td>\n",
              "    </tr>\n",
              "    <tr>\n",
              "      <th>2020-10-16</th>\n",
              "      <td>456.0</td>\n",
              "      <td>448.5</td>\n",
              "      <td>451.0</td>\n",
              "      <td>449.0</td>\n",
              "      <td>46876801.0</td>\n",
              "      <td>449.000000</td>\n",
              "    </tr>\n",
              "    <tr>\n",
              "      <th>2020-10-19</th>\n",
              "      <td>457.5</td>\n",
              "      <td>451.0</td>\n",
              "      <td>453.0</td>\n",
              "      <td>457.5</td>\n",
              "      <td>34470906.0</td>\n",
              "      <td>457.500000</td>\n",
              "    </tr>\n",
              "    <tr>\n",
              "      <th>2020-10-20</th>\n",
              "      <td>457.0</td>\n",
              "      <td>451.0</td>\n",
              "      <td>455.5</td>\n",
              "      <td>451.0</td>\n",
              "      <td>25033000.0</td>\n",
              "      <td>451.000000</td>\n",
              "    </tr>\n",
              "  </tbody>\n",
              "</table>\n",
              "<p>922 rows × 6 columns</p>\n",
              "</div>"
            ],
            "text/plain": [
              "             High    Low   Open  Close      Volume   Adj Close\n",
              "Date                                                          \n",
              "2017-01-03  183.5  181.0  181.5  183.0  22630000.0  159.217285\n",
              "2017-01-04  184.0  181.5  183.0  183.0  24369000.0  159.217285\n",
              "2017-01-05  183.5  181.5  182.0  183.5  20979000.0  159.652328\n",
              "2017-01-06  184.5  183.5  184.0  184.0  22443000.0  160.087326\n",
              "2017-01-09  185.0  183.0  184.0  184.0  18569000.0  160.087326\n",
              "...           ...    ...    ...    ...         ...         ...\n",
              "2020-10-14  461.0  457.0  460.5  459.0  40809241.0  459.000000\n",
              "2020-10-15  456.5  450.0  456.0  453.0  47775028.0  453.000000\n",
              "2020-10-16  456.0  448.5  451.0  449.0  46876801.0  449.000000\n",
              "2020-10-19  457.5  451.0  453.0  457.5  34470906.0  457.500000\n",
              "2020-10-20  457.0  451.0  455.5  451.0  25033000.0  451.000000\n",
              "\n",
              "[922 rows x 6 columns]"
            ]
          },
          "metadata": {
            "tags": []
          },
          "execution_count": 81
        }
      ]
    },
    {
      "cell_type": "code",
      "metadata": {
        "id": "3A4HR4RFD14-",
        "outputId": "ecdc33d0-1c0a-440d-9201-82ae98b88fe2",
        "colab": {
          "base_uri": "https://localhost:8080/",
          "height": 34
        }
      },
      "source": [
        "df['Adj Close'][-1]/df['Adj Close'][0]"
      ],
      "execution_count": 82,
      "outputs": [
        {
          "output_type": "execute_result",
          "data": {
            "text/plain": [
              "2.8326070222677466"
            ]
          },
          "metadata": {
            "tags": []
          },
          "execution_count": 82
        }
      ]
    },
    {
      "cell_type": "markdown",
      "metadata": {
        "id": "oW0j8NWAEI__"
      },
      "source": [
        "#計算50檔股票投資報酬率\n"
      ]
    },
    {
      "cell_type": "code",
      "metadata": {
        "id": "yoajQMEREA08",
        "outputId": "253899c2-abd5-47e9-cc6b-d2c3d2bc1d89",
        "colab": {
          "base_uri": "https://localhost:8080/",
          "height": 238
        }
      },
      "source": [
        "dfs.info() #資料型態 幾筆資料"
      ],
      "execution_count": 85,
      "outputs": [
        {
          "output_type": "stream",
          "text": [
            "<class 'pandas.core.frame.DataFrame'>\n",
            "RangeIndex: 50 entries, 0 to 49\n",
            "Data columns (total 6 columns):\n",
            " #   Column   Non-Null Count  Dtype  \n",
            "---  ------   --------------  -----  \n",
            " 0   code     50 non-null     int64  \n",
            " 1   ym       0 non-null      float64\n",
            " 2   name     50 non-null     object \n",
            " 3   ename    50 non-null     object \n",
            " 4   weights  50 non-null     float64\n",
            " 5   qty      50 non-null     int64  \n",
            "dtypes: float64(2), int64(2), object(2)\n",
            "memory usage: 2.5+ KB\n"
          ],
          "name": "stdout"
        }
      ]
    },
    {
      "cell_type": "code",
      "metadata": {
        "id": "QEIy47DJEQ0I",
        "outputId": "555a7de9-a684-4163-8644-6e14454c4cb3",
        "colab": {
          "base_uri": "https://localhost:8080/",
          "height": 884
        }
      },
      "source": [
        "dfs['code']"
      ],
      "execution_count": 86,
      "outputs": [
        {
          "output_type": "execute_result",
          "data": {
            "text/plain": [
              "0     2330\n",
              "1     2454\n",
              "2     2317\n",
              "3     2308\n",
              "4     2412\n",
              "5     1301\n",
              "6     2303\n",
              "7     1303\n",
              "8     2891\n",
              "9     2882\n",
              "10    3008\n",
              "11    2881\n",
              "12    2886\n",
              "13    1216\n",
              "14    2884\n",
              "15    2002\n",
              "16    1326\n",
              "17    3711\n",
              "18    2885\n",
              "19    2892\n",
              "20    1101\n",
              "21    2207\n",
              "22    2382\n",
              "23    5880\n",
              "24    2379\n",
              "25    5871\n",
              "26    2357\n",
              "27    2880\n",
              "28    2327\n",
              "29    3045\n",
              "30    2912\n",
              "31    2887\n",
              "32    2474\n",
              "33    4938\n",
              "34    5876\n",
              "35    2395\n",
              "36    2883\n",
              "37    2890\n",
              "38    2801\n",
              "39    6415\n",
              "40    6505\n",
              "41    1402\n",
              "42    2301\n",
              "43    4904\n",
              "44    1102\n",
              "45    9910\n",
              "46    2105\n",
              "47    2633\n",
              "48    6669\n",
              "49    2408\n",
              "Name: code, dtype: int64"
            ]
          },
          "metadata": {
            "tags": []
          },
          "execution_count": 86
        }
      ]
    },
    {
      "cell_type": "code",
      "metadata": {
        "id": "cwl-oq6rEf0f",
        "outputId": "3723d70e-2df6-42d3-cc83-509622f576c2",
        "colab": {
          "base_uri": "https://localhost:8080/",
          "height": 34
        }
      },
      "source": [
        "type(dfs['code'])\n",
        "  "
      ],
      "execution_count": 88,
      "outputs": [
        {
          "output_type": "execute_result",
          "data": {
            "text/plain": [
              "pandas.core.series.Series"
            ]
          },
          "metadata": {
            "tags": []
          },
          "execution_count": 88
        }
      ]
    },
    {
      "cell_type": "code",
      "metadata": {
        "id": "siuXrPSvEk6_"
      },
      "source": [
        "stklist = list()"
      ],
      "execution_count": 99,
      "outputs": []
    },
    {
      "cell_type": "markdown",
      "metadata": {
        "id": "U6CKIOt7HiHf"
      },
      "source": [
        "#計算0050成分股報酬率\n"
      ]
    },
    {
      "cell_type": "code",
      "metadata": {
        "id": "ESEQOR5tE8wt",
        "outputId": "3d2037ac-0bb7-4ffe-b99e-3442b764ab6d",
        "colab": {
          "base_uri": "https://localhost:8080/",
          "height": 867
        }
      },
      "source": [
        "for x in dfs['code']:\n",
        "  df = web.DataReader(str(x)+\".tw\",\"yahoo\",\"2017-01-01\")\n",
        "  ret = df[\"Adj Close\"][-1]/df[\"Adj Close\"][0]\n",
        "  print(x,\" ===> \",ret)"
      ],
      "execution_count": 109,
      "outputs": [
        {
          "output_type": "stream",
          "text": [
            "2330  ===>  2.8326070222677466\n",
            "2454  ===>  3.5794653659203237\n",
            "2317  ===>  0.9092822070549165\n",
            "2308  ===>  1.424364891922984\n",
            "2412  ===>  1.2289884593218432\n",
            "1301  ===>  1.0844604836610598\n",
            "2303  ===>  3.231619552917228\n",
            "1303  ===>  1.038533512769917\n",
            "2891  ===>  1.2296217491702626\n",
            "2882  ===>  0.9549841016584301\n",
            "3008  ===>  0.8693777250395394\n",
            "2881  ===>  0.9617274077054194\n",
            "2886  ===>  1.5860578112329733\n",
            "1216  ===>  1.398472588648387\n",
            "2884  ===>  2.006961646010839\n",
            "2002  ===>  0.9694199493725341\n",
            "1326  ===>  0.8891926723342904\n",
            "3711  ===>  1.0817993960430259\n",
            "2885  ===>  1.8282047873418497\n",
            "2892  ===>  1.5548595328332524\n",
            "1101  ===>  1.772434534348249\n",
            "2207  ===>  2.0428662595065044\n",
            "2382  ===>  1.5129033580583309\n",
            "5880  ===>  1.8492644538450644\n",
            "2379  ===>  4.221822794105947\n",
            "5871  ===>  3.1781986726547515\n",
            "2357  ===>  1.1357161375114895\n",
            "2880  ===>  1.4864278042775196\n",
            "2327  ===>  6.6066162603178675\n",
            "3045  ===>  1.1038557879015374\n",
            "2912  ===>  1.35631245592945\n",
            "2887  ===>  1.4421074120653634\n",
            "2474  ===>  0.9955484859898456\n",
            "4938  ===>  1.0317608651146422\n",
            "5876  ===>  1.723561035584918\n",
            "2395  ===>  1.590148282225938\n",
            "2883  ===>  1.2993169851016715\n",
            "2890  ===>  1.5967250508947732\n",
            "2801  ===>  1.3018054750151842\n",
            "6415  ===>  4.095874445265642\n",
            "6505  ===>  0.8823672323096526\n",
            "1402  ===>  1.2783026002391558\n",
            "2301  ===>  1.2419179925403379\n",
            "4904  ===>  1.0154078166951588\n",
            "1102  ===>  1.7484195651148655\n",
            "9910  ===>  2.1948955833528307\n",
            "2105  ===>  0.6917459651613667\n",
            "2633  ===>  1.8143370136237844\n",
            "6669  ===>  7.350448738094385\n",
            "2408  ===>  1.620962378646698\n"
          ],
          "name": "stdout"
        }
      ]
    },
    {
      "cell_type": "code",
      "metadata": {
        "id": "5r64hRaOGVqM",
        "outputId": "8252e38c-37ef-4561-fbb9-910ae6c53244",
        "colab": {
          "base_uri": "https://localhost:8080/",
          "height": 867
        }
      },
      "source": [
        "for i,row in dfs.iterrows():\n",
        "  df = web.DataReader(str(x)+\".tw\",\"yahoo\",\"2017-01-01\")\n",
        "  ret = df[\"Adj Close\"][-1]/df[\"Adj Close\"][0]\n",
        "  print(row['code'],\"===>\",row['name'],ret)"
      ],
      "execution_count": 114,
      "outputs": [
        {
          "output_type": "stream",
          "text": [
            "2330 ===> 台積電 1.620962378646698\n",
            "2454 ===> 聯發科 1.620962378646698\n",
            "2317 ===> 鴻海 1.620962378646698\n",
            "2308 ===> 台達電 1.620962378646698\n",
            "2412 ===> 中華電 1.620962378646698\n",
            "1301 ===> 台塑 1.620962378646698\n",
            "2303 ===> 聯電 1.620962378646698\n",
            "1303 ===> 南亞 1.620962378646698\n",
            "2891 ===> 中信金 1.620962378646698\n",
            "2882 ===> 國泰金 1.620962378646698\n",
            "3008 ===> 大立光 1.620962378646698\n",
            "2881 ===> 富邦金 1.620962378646698\n",
            "2886 ===> 兆豐金 1.620962378646698\n",
            "1216 ===> 統一 1.620962378646698\n",
            "2884 ===> 玉山金 1.620962378646698\n",
            "2002 ===> 中鋼 1.620962378646698\n",
            "1326 ===> 台化 1.620962378646698\n",
            "3711 ===> 日月光投控 1.620962378646698\n",
            "2885 ===> 元大金 1.620962378646698\n",
            "2892 ===> 第一金 1.620962378646698\n",
            "1101 ===> 台泥 1.620962378646698\n",
            "2207 ===> 和泰車 1.620962378646698\n",
            "2382 ===> 廣達 1.620962378646698\n",
            "5880 ===> 合庫金 1.620962378646698\n",
            "2379 ===> 瑞昱 1.620962378646698\n",
            "5871 ===> 中租-KY 1.620962378646698\n",
            "2357 ===> 華碩 1.620962378646698\n",
            "2880 ===> 華南金 1.620962378646698\n",
            "2327 ===> 國巨 1.620962378646698\n",
            "3045 ===> 台灣大 1.620962378646698\n",
            "2912 ===> 統一超 1.620962378646698\n",
            "2887 ===> 台新金 1.620962378646698\n",
            "2474 ===> 可成 1.620962378646698\n",
            "4938 ===> 和碩 1.620962378646698\n",
            "5876 ===> 上海商銀 1.620962378646698\n",
            "2395 ===> 研華 1.620962378646698\n",
            "2883 ===> 開發金 1.620962378646698\n",
            "2890 ===> 永豐金 1.620962378646698\n",
            "2801 ===> 彰銀 1.620962378646698\n",
            "6415 ===> 矽力-KY 1.620962378646698\n",
            "6505 ===> 台塑化 1.620962378646698\n",
            "1402 ===> 遠東新 1.620962378646698\n",
            "2301 ===> 光寶科 1.620962378646698\n",
            "4904 ===> 遠傳 1.620962378646698\n",
            "1102 ===> 亞泥 1.620962378646698\n",
            "9910 ===> 豐泰 1.620962378646698\n",
            "2105 ===> 正新 1.620962378646698\n",
            "2633 ===> 台灣高鐵 1.620962378646698\n",
            "6669 ===> 緯穎 1.620962378646698\n",
            "2408 ===> 南亞科 1.620962378646698\n"
          ],
          "name": "stdout"
        }
      ]
    },
    {
      "cell_type": "code",
      "metadata": {
        "id": "75FHwG9EIt9l"
      },
      "source": [
        ""
      ],
      "execution_count": null,
      "outputs": []
    },
    {
      "cell_type": "markdown",
      "metadata": {
        "id": "lPuZ1rd9KmfT"
      },
      "source": [
        "#讀取上市公司基本資料"
      ]
    },
    {
      "cell_type": "code",
      "metadata": {
        "id": "BpzLZsg3Kpj-"
      },
      "source": [
        "url = \"http://mopsfin.twse.com.tw/opendata/t187ap03_L.csv\""
      ],
      "execution_count": 115,
      "outputs": []
    },
    {
      "cell_type": "code",
      "metadata": {
        "id": "RdZbtvH4KrRu"
      },
      "source": [
        "df = pd.read_csv(url)"
      ],
      "execution_count": 116,
      "outputs": []
    },
    {
      "cell_type": "code",
      "metadata": {
        "id": "YINOT6M5KzLW",
        "outputId": "202f731f-55b7-4e67-b620-0e1935dc92af",
        "colab": {
          "base_uri": "https://localhost:8080/",
          "height": 1000
        }
      },
      "source": [
        "df[df[\"董事長\"]==\"徐旭東\"]"
      ],
      "execution_count": 129,
      "outputs": [
        {
          "output_type": "execute_result",
          "data": {
            "text/html": [
              "<div>\n",
              "<style scoped>\n",
              "    .dataframe tbody tr th:only-of-type {\n",
              "        vertical-align: middle;\n",
              "    }\n",
              "\n",
              "    .dataframe tbody tr th {\n",
              "        vertical-align: top;\n",
              "    }\n",
              "\n",
              "    .dataframe thead th {\n",
              "        text-align: right;\n",
              "    }\n",
              "</style>\n",
              "<table border=\"1\" class=\"dataframe\">\n",
              "  <thead>\n",
              "    <tr style=\"text-align: right;\">\n",
              "      <th></th>\n",
              "      <th>出表日期</th>\n",
              "      <th>公司代號</th>\n",
              "      <th>公司名稱</th>\n",
              "      <th>公司簡稱</th>\n",
              "      <th>外國企業註冊地國</th>\n",
              "      <th>產業別</th>\n",
              "      <th>住址</th>\n",
              "      <th>營利事業統一編號</th>\n",
              "      <th>董事長</th>\n",
              "      <th>總經理</th>\n",
              "      <th>發言人</th>\n",
              "      <th>發言人職稱</th>\n",
              "      <th>代理發言人</th>\n",
              "      <th>總機電話</th>\n",
              "      <th>成立日期</th>\n",
              "      <th>上市日期</th>\n",
              "      <th>普通股每股面額</th>\n",
              "      <th>實收資本額</th>\n",
              "      <th>私募股數</th>\n",
              "      <th>特別股</th>\n",
              "      <th>編制財務報表類型</th>\n",
              "      <th>股票過戶機構</th>\n",
              "      <th>過戶電話</th>\n",
              "      <th>過戶地址</th>\n",
              "      <th>簽證會計師事務所</th>\n",
              "      <th>簽證會計師1</th>\n",
              "      <th>簽證會計師2</th>\n",
              "      <th>英文簡稱</th>\n",
              "      <th>英文通訊地址</th>\n",
              "      <th>傳真機號碼</th>\n",
              "      <th>電子郵件信箱</th>\n",
              "      <th>網址</th>\n",
              "    </tr>\n",
              "  </thead>\n",
              "  <tbody>\n",
              "    <tr>\n",
              "      <th>1</th>\n",
              "      <td>109/10/20</td>\n",
              "      <td>1102</td>\n",
              "      <td>亞洲水泥股份有限公司</td>\n",
              "      <td>亞泥</td>\n",
              "      <td>－</td>\n",
              "      <td>水泥工業</td>\n",
              "      <td>台北市大安區敦化南路2段207號30、31樓</td>\n",
              "      <td>3244509</td>\n",
              "      <td>徐旭東</td>\n",
              "      <td>李坤炎</td>\n",
              "      <td>周維崑</td>\n",
              "      <td>副總經理</td>\n",
              "      <td>吳玲綾</td>\n",
              "      <td>02-2733-8000</td>\n",
              "      <td>19570321</td>\n",
              "      <td>19620608</td>\n",
              "      <td>新台幣                 10.0000元</td>\n",
              "      <td>33614471980</td>\n",
              "      <td>0</td>\n",
              "      <td>0</td>\n",
              "      <td>1</td>\n",
              "      <td>亞東證券股份有限公司</td>\n",
              "      <td>02-7753-1699</td>\n",
              "      <td>新北市板橋區新站路16號13樓</td>\n",
              "      <td>勤業眾信聯合會計師事務所</td>\n",
              "      <td>戴信維</td>\n",
              "      <td>范有偉</td>\n",
              "      <td>ACC</td>\n",
              "      <td>30-31F., No.207, Sec. 2, Dunhua S. Rd., Da' an...</td>\n",
              "      <td>02-2378-5191</td>\n",
              "      <td>service@acc.com.tw</td>\n",
              "      <td>www.acc.com.tw</td>\n",
              "    </tr>\n",
              "    <tr>\n",
              "      <th>51</th>\n",
              "      <td>109/10/20</td>\n",
              "      <td>1402</td>\n",
              "      <td>遠東新世紀股份有限公司</td>\n",
              "      <td>遠東新</td>\n",
              "      <td>－</td>\n",
              "      <td>紡織纖維</td>\n",
              "      <td>台北市大安區敦化南路二段207號36樓</td>\n",
              "      <td>3522600</td>\n",
              "      <td>徐旭東</td>\n",
              "      <td>吳高山,曾裕賢,胡正隆,鄭澄宇</td>\n",
              "      <td>鄭澄宇</td>\n",
              "      <td>行政總部總經理</td>\n",
              "      <td>王健誠</td>\n",
              "      <td>02-27338000</td>\n",
              "      <td>19540113</td>\n",
              "      <td>19670414</td>\n",
              "      <td>新台幣                 10.0000元</td>\n",
              "      <td>53528752270</td>\n",
              "      <td>0</td>\n",
              "      <td>0</td>\n",
              "      <td>1</td>\n",
              "      <td>亞東證券股份有限公司</td>\n",
              "      <td>02-7753-1699</td>\n",
              "      <td>新北市板橋區新站路16號13樓</td>\n",
              "      <td>勤業眾信聯合會計師事務所</td>\n",
              "      <td>施景彬</td>\n",
              "      <td>郭政弘</td>\n",
              "      <td>FENC</td>\n",
              "      <td>36F,Taipei Metro Tower No.207,Tun Hwa South Ro...</td>\n",
              "      <td>02-27367184</td>\n",
              "      <td>csostaff@metro.feg.com.tw</td>\n",
              "      <td>www.fenc.com</td>\n",
              "    </tr>\n",
              "    <tr>\n",
              "      <th>158</th>\n",
              "      <td>109/10/20</td>\n",
              "      <td>1710</td>\n",
              "      <td>東聯化學股份有限公司</td>\n",
              "      <td>東聯</td>\n",
              "      <td>－</td>\n",
              "      <td>化學工業</td>\n",
              "      <td>台北市復興北路101號13樓</td>\n",
              "      <td>14057995</td>\n",
              "      <td>徐旭東</td>\n",
              "      <td>蔡錫津</td>\n",
              "      <td>蔡鎮江</td>\n",
              "      <td>副總經理</td>\n",
              "      <td>王和秀</td>\n",
              "      <td>27193333</td>\n",
              "      <td>19751222</td>\n",
              "      <td>19871021</td>\n",
              "      <td>新台幣                 10.0000元</td>\n",
              "      <td>8857030290</td>\n",
              "      <td>0</td>\n",
              "      <td>0</td>\n",
              "      <td>1</td>\n",
              "      <td>亞東證券</td>\n",
              "      <td>7753-1699</td>\n",
              "      <td>新北市板橋區新站路16號13樓</td>\n",
              "      <td>勤業眾信會計師事務所</td>\n",
              "      <td>戴信維</td>\n",
              "      <td>范有偉</td>\n",
              "      <td>OUCC</td>\n",
              "      <td>13TH FL. 101 FU-HSING N. RD.TAIPEI R.O.C</td>\n",
              "      <td>27191858</td>\n",
              "      <td>judywang@oucc.com.tw</td>\n",
              "      <td>http://www.oucc.com.tw</td>\n",
              "    </tr>\n",
              "    <tr>\n",
              "      <th>427</th>\n",
              "      <td>109/10/20</td>\n",
              "      <td>2606</td>\n",
              "      <td>裕民航運股份有限公司</td>\n",
              "      <td>裕民</td>\n",
              "      <td>－</td>\n",
              "      <td>航運業</td>\n",
              "      <td>台北市敦化南路二段207號29樓</td>\n",
              "      <td>47067419</td>\n",
              "      <td>徐旭東</td>\n",
              "      <td>王書吉</td>\n",
              "      <td>張宗良</td>\n",
              "      <td>副總經理</td>\n",
              "      <td>陳長生</td>\n",
              "      <td>(02)27338000</td>\n",
              "      <td>19680829</td>\n",
              "      <td>19901208</td>\n",
              "      <td>新台幣                 10.0000元</td>\n",
              "      <td>8450557120</td>\n",
              "      <td>0</td>\n",
              "      <td>0</td>\n",
              "      <td>1</td>\n",
              "      <td>亞東證券股份有限公司</td>\n",
              "      <td>(0277531699</td>\n",
              "      <td>新北市板橋區新站路16號13樓</td>\n",
              "      <td>勤業眾信聯合會計師事務所</td>\n",
              "      <td>李振銘</td>\n",
              "      <td>王儀雯</td>\n",
              "      <td>U-MING</td>\n",
              "      <td>29TH FL.,TAIPEI METRO TOWER,207,SEC.2,TUN HWA ...</td>\n",
              "      <td>(02)27359900</td>\n",
              "      <td>uming@metro.feg.com.tw</td>\n",
              "      <td>http://www.uming.com.tw</td>\n",
              "    </tr>\n",
              "    <tr>\n",
              "      <th>492</th>\n",
              "      <td>109/10/20</td>\n",
              "      <td>2903</td>\n",
              "      <td>遠東百貨股份有限公司</td>\n",
              "      <td>遠百</td>\n",
              "      <td>－</td>\n",
              "      <td>貿易百貨</td>\n",
              "      <td>新北市板橋區新站路16號18樓</td>\n",
              "      <td>3521905</td>\n",
              "      <td>徐旭東</td>\n",
              "      <td>徐雪芳</td>\n",
              "      <td>湯治亞</td>\n",
              "      <td>副總經理</td>\n",
              "      <td>陳遠銓</td>\n",
              "      <td>(02)77278168</td>\n",
              "      <td>19670831</td>\n",
              "      <td>19781011</td>\n",
              "      <td>新台幣                 10.0000元</td>\n",
              "      <td>14169405890</td>\n",
              "      <td>0</td>\n",
              "      <td>0</td>\n",
              "      <td>1</td>\n",
              "      <td>亞東證券股份有限公司</td>\n",
              "      <td>(02)7753-1699</td>\n",
              "      <td>新北市板橋區新站路16號13樓</td>\n",
              "      <td>勤業眾信聯合會計師事務所</td>\n",
              "      <td>葉淑娟</td>\n",
              "      <td>卓明信</td>\n",
              "      <td>FEDS</td>\n",
              "      <td>18F, No.16. Xinzhan Rd., Banqiao Dist.,New Tai...</td>\n",
              "      <td>(02)77380752</td>\n",
              "      <td>service@feds.com.tw</td>\n",
              "      <td>http://www.feds.com.tw</td>\n",
              "    </tr>\n",
              "    <tr>\n",
              "      <th>686</th>\n",
              "      <td>109/10/20</td>\n",
              "      <td>4904</td>\n",
              "      <td>遠傳電信股份有限公司</td>\n",
              "      <td>遠傳</td>\n",
              "      <td>－</td>\n",
              "      <td>通信網路業</td>\n",
              "      <td>台北市敦化南路二段207號28樓</td>\n",
              "      <td>97179430</td>\n",
              "      <td>徐旭東</td>\n",
              "      <td>井琪</td>\n",
              "      <td>郎亞玲</td>\n",
              "      <td>資深協理</td>\n",
              "      <td>尹德洋</td>\n",
              "      <td>(02)7723-5000</td>\n",
              "      <td>19970411</td>\n",
              "      <td>20050824</td>\n",
              "      <td>新台幣                 10.0000元</td>\n",
              "      <td>32585008100</td>\n",
              "      <td>0</td>\n",
              "      <td>0</td>\n",
              "      <td>1</td>\n",
              "      <td>亞東證券股份有限公司</td>\n",
              "      <td>(02)77531699</td>\n",
              "      <td>新北市板橋區新站路16號13樓</td>\n",
              "      <td>勤業眾信聯合會計師事務所</td>\n",
              "      <td>林安惠</td>\n",
              "      <td>趙永祥</td>\n",
              "      <td>Far EasTone</td>\n",
              "      <td>28thFL., No.207, Tun-Hwa South Road, Section 2...</td>\n",
              "      <td>(02)7723-5199</td>\n",
              "      <td>PR@fareastone.com.tw</td>\n",
              "      <td>www.fareastone.com.tw</td>\n",
              "    </tr>\n",
              "  </tbody>\n",
              "</table>\n",
              "</div>"
            ],
            "text/plain": [
              "          出表日期  公司代號  ...                     電子郵件信箱                       網址\n",
              "1    109/10/20  1102  ...         service@acc.com.tw           www.acc.com.tw\n",
              "51   109/10/20  1402  ...  csostaff@metro.feg.com.tw             www.fenc.com\n",
              "158  109/10/20  1710  ...       judywang@oucc.com.tw   http://www.oucc.com.tw\n",
              "427  109/10/20  2606  ...     uming@metro.feg.com.tw  http://www.uming.com.tw\n",
              "492  109/10/20  2903  ...        service@feds.com.tw   http://www.feds.com.tw\n",
              "686  109/10/20  4904  ...       PR@fareastone.com.tw    www.fareastone.com.tw\n",
              "\n",
              "[6 rows x 32 columns]"
            ]
          },
          "metadata": {
            "tags": []
          },
          "execution_count": 129
        }
      ]
    },
    {
      "cell_type": "code",
      "metadata": {
        "id": "8_ViiCVjK1V2",
        "outputId": "2cb1fd9a-2c25-4a52-ceef-5abda116e458",
        "colab": {
          "base_uri": "https://localhost:8080/",
          "height": 578
        }
      },
      "source": [
        "df[df[\"公司代號\"]==2330].iloc[0]"
      ],
      "execution_count": 135,
      "outputs": [
        {
          "output_type": "execute_result",
          "data": {
            "text/plain": [
              "出表日期                                                109/10/20\n",
              "公司代號                                                     2330\n",
              "公司名稱                                           台灣積體電路製造股份有限公司\n",
              "公司簡稱                                                      台積電\n",
              "外國企業註冊地國                                                   － \n",
              "產業別                                                      半導體業\n",
              "住址                                               新竹科學園區力行六路8號\n",
              "營利事業統一編號                                             22099131\n",
              "董事長                                                       劉德音\n",
              "總經理                                                   總裁: 魏哲家\n",
              "發言人                                                       黃仁昭\n",
              "發言人職稱                                                副總經理暨財務長\n",
              "代理發言人                                                     高孟華\n",
              "總機電話                                               03-5636688\n",
              "成立日期                                                 19870221\n",
              "上市日期                                                 19940905\n",
              "普通股每股面額                          新台幣                 10.0000元\n",
              "實收資本額                                            259303804580\n",
              "私募股數                                                        0\n",
              "特別股                                                         0\n",
              "編制財務報表類型                                                    1\n",
              "股票過戶機構                                           中國信託商業銀行 代理部\n",
              "過戶電話                                             02-6636-5566\n",
              "過戶地址                                           台北市重慶南路一段83號5樓\n",
              "簽證會計師事務所                                         勤業眾信聯合會計師事務所\n",
              "簽證會計師1                                                    江美艷\n",
              "簽證會計師2                                                    黃裕峰\n",
              "英文簡稱                                                     TSMC\n",
              "英文通訊地址      No. 8, Li-Hsin Rd. 6, Hsinchu Science Park,Hsi...\n",
              "傳真機號碼                                              03-5797337\n",
              "電子郵件信箱                                        invest@tsmc.com\n",
              "網址                                        Http://www.tsmc.com\n",
              "Name: 272, dtype: object"
            ]
          },
          "metadata": {
            "tags": []
          },
          "execution_count": 135
        }
      ]
    },
    {
      "cell_type": "code",
      "metadata": {
        "id": "mavClGNSNjCU",
        "outputId": "969fd298-ef01-4edf-e012-91659c2d1412",
        "colab": {
          "base_uri": "https://localhost:8080/",
          "height": 34
        }
      },
      "source": [
        "df[df[\"公司代號\"]==2330].iloc[0][\"實收資本額\"]"
      ],
      "execution_count": 136,
      "outputs": [
        {
          "output_type": "execute_result",
          "data": {
            "text/plain": [
              "259303804580"
            ]
          },
          "metadata": {
            "tags": []
          },
          "execution_count": 136
        }
      ]
    },
    {
      "cell_type": "code",
      "metadata": {
        "id": "Us4HH9OOOOgA",
        "outputId": "c0ba9d71-ecc7-43f1-d7b5-668cb1899e2e",
        "colab": {
          "base_uri": "https://localhost:8080/",
          "height": 35
        }
      },
      "source": [
        "df[df[\"實收資本額\"] ==19067544].iloc[0][\"公司名稱\"]"
      ],
      "execution_count": 141,
      "outputs": [
        {
          "output_type": "execute_result",
          "data": {
            "application/vnd.google.colaboratory.intrinsic+json": {
              "type": "string"
            },
            "text/plain": [
              "'友佳國際控股有限公司'"
            ]
          },
          "metadata": {
            "tags": []
          },
          "execution_count": 141
        }
      ]
    },
    {
      "cell_type": "code",
      "metadata": {
        "id": "erZ7b3SrORnA",
        "outputId": "0b704931-8cb3-4544-b866-9e9ccae80605",
        "colab": {
          "base_uri": "https://localhost:8080/",
          "height": 34
        }
      },
      "source": [
        "len(df[(df[\"實收資本額\"]>1E8) &(df[\"實收資本額\"]<1E9)])"
      ],
      "execution_count": 144,
      "outputs": [
        {
          "output_type": "execute_result",
          "data": {
            "text/plain": [
              "242"
            ]
          },
          "metadata": {
            "tags": []
          },
          "execution_count": 144
        }
      ]
    },
    {
      "cell_type": "code",
      "metadata": {
        "id": "olQVvvVLO4i0"
      },
      "source": [
        ""
      ],
      "execution_count": null,
      "outputs": []
    },
    {
      "cell_type": "markdown",
      "metadata": {
        "id": "B_aqZAaRPhwc"
      },
      "source": [
        "#匯出DataFrame"
      ]
    },
    {
      "cell_type": "code",
      "metadata": {
        "id": "CN7bvCPZPj6c"
      },
      "source": [
        "df[(df[\"實收資本額\"]>1E8) &(df[\"實收資本額\"]<1E9)].to_html('df.html')"
      ],
      "execution_count": 146,
      "outputs": []
    },
    {
      "cell_type": "code",
      "metadata": {
        "id": "r3kppuQ-P2UM"
      },
      "source": [
        "df[(df[\"實收資本額\"]>1E8) &(df[\"實收資本額\"]<1E9)].to_csv('df.csv',index=False)"
      ],
      "execution_count": 147,
      "outputs": []
    },
    {
      "cell_type": "code",
      "metadata": {
        "id": "VjnQctcNRIg0"
      },
      "source": [
        ""
      ],
      "execution_count": null,
      "outputs": []
    },
    {
      "cell_type": "markdown",
      "metadata": {
        "id": "0LU974guS35M"
      },
      "source": [
        "#下載excel file"
      ]
    },
    {
      "cell_type": "code",
      "metadata": {
        "id": "e-6gqRnWS8HV"
      },
      "source": [
        "url=\"https://ws.ndc.gov.tw/Download.ashx?u=LzAwMS9hZG1pbmlzdHJhdG9yLzEwL3JlbGZpbGUvNTc4MS82MzkyL2VmMWQ4ZjliLTMxOGMtNDFmZC1hNzgzLWVjNGY5MTMwMjRmOC54bHN4&n=5paw6IGe56i%2f6ZmE5Lu25pW45YiXLnhsc3g%3d&icon=..xlsx\""
      ],
      "execution_count": 148,
      "outputs": []
    },
    {
      "cell_type": "code",
      "metadata": {
        "id": "9ILraDUwS_HW"
      },
      "source": [
        "r = requests.get(url)"
      ],
      "execution_count": 149,
      "outputs": []
    },
    {
      "cell_type": "code",
      "metadata": {
        "id": "MaUT97vjTCZk"
      },
      "source": [
        "with open(\"test.xlsx\",\"wb\") as f:\n",
        "  f.write(r.content)"
      ],
      "execution_count": 150,
      "outputs": []
    },
    {
      "cell_type": "code",
      "metadata": {
        "id": "w474EevaTNmP"
      },
      "source": [
        "df = pd.read_excel(\"test.xlsx\")"
      ],
      "execution_count": 151,
      "outputs": []
    },
    {
      "cell_type": "code",
      "metadata": {
        "id": "0AHOg6YrTari",
        "outputId": "f1d375fe-e0b4-439c-95de-3574e85e3164",
        "colab": {
          "base_uri": "https://localhost:8080/",
          "height": 377
        }
      },
      "source": [
        "df.head()"
      ],
      "execution_count": 152,
      "outputs": [
        {
          "output_type": "execute_result",
          "data": {
            "text/html": [
              "<div>\n",
              "<style scoped>\n",
              "    .dataframe tbody tr th:only-of-type {\n",
              "        vertical-align: middle;\n",
              "    }\n",
              "\n",
              "    .dataframe tbody tr th {\n",
              "        vertical-align: top;\n",
              "    }\n",
              "\n",
              "    .dataframe thead th {\n",
              "        text-align: right;\n",
              "    }\n",
              "</style>\n",
              "<table border=\"1\" class=\"dataframe\">\n",
              "  <thead>\n",
              "    <tr style=\"text-align: right;\">\n",
              "      <th></th>\n",
              "      <th>DATE</th>\n",
              "      <th>領先指標綜合指數</th>\n",
              "      <th>領先指標不含趨勢指數</th>\n",
              "      <th>同時指標綜合指數</th>\n",
              "      <th>同時指標不含趨勢指數</th>\n",
              "      <th>落後指標綜合指數</th>\n",
              "      <th>落後指標不含趨勢指數</th>\n",
              "      <th>景氣對策信號綜合分數</th>\n",
              "      <th>景氣對策信號</th>\n",
              "    </tr>\n",
              "  </thead>\n",
              "  <tbody>\n",
              "    <tr>\n",
              "      <th>0</th>\n",
              "      <td>1982-01-01</td>\n",
              "      <td>17.273401</td>\n",
              "      <td>99.989213</td>\n",
              "      <td>18.306357</td>\n",
              "      <td>105.968607</td>\n",
              "      <td>18.041778</td>\n",
              "      <td>104.437056</td>\n",
              "      <td>NaN</td>\n",
              "      <td>NaN</td>\n",
              "    </tr>\n",
              "    <tr>\n",
              "      <th>1</th>\n",
              "      <td>1982-02-01</td>\n",
              "      <td>17.348049</td>\n",
              "      <td>99.574503</td>\n",
              "      <td>18.048192</td>\n",
              "      <td>103.593190</td>\n",
              "      <td>18.450460</td>\n",
              "      <td>105.902128</td>\n",
              "      <td>NaN</td>\n",
              "      <td>NaN</td>\n",
              "    </tr>\n",
              "    <tr>\n",
              "      <th>2</th>\n",
              "      <td>1982-03-01</td>\n",
              "      <td>17.407569</td>\n",
              "      <td>99.073279</td>\n",
              "      <td>17.835412</td>\n",
              "      <td>101.508296</td>\n",
              "      <td>18.797126</td>\n",
              "      <td>106.981791</td>\n",
              "      <td>NaN</td>\n",
              "      <td>NaN</td>\n",
              "    </tr>\n",
              "    <tr>\n",
              "      <th>3</th>\n",
              "      <td>1982-04-01</td>\n",
              "      <td>17.418006</td>\n",
              "      <td>98.295641</td>\n",
              "      <td>17.666086</td>\n",
              "      <td>99.695643</td>\n",
              "      <td>19.042240</td>\n",
              "      <td>107.461742</td>\n",
              "      <td>NaN</td>\n",
              "      <td>NaN</td>\n",
              "    </tr>\n",
              "    <tr>\n",
              "      <th>4</th>\n",
              "      <td>1982-05-01</td>\n",
              "      <td>17.393409</td>\n",
              "      <td>97.326654</td>\n",
              "      <td>17.537617</td>\n",
              "      <td>98.133584</td>\n",
              "      <td>19.168322</td>\n",
              "      <td>107.258368</td>\n",
              "      <td>NaN</td>\n",
              "      <td>NaN</td>\n",
              "    </tr>\n",
              "  </tbody>\n",
              "</table>\n",
              "</div>"
            ],
            "text/plain": [
              "        DATE   領先指標綜合指數  領先指標不含趨勢指數  ...  落後指標不含趨勢指數  景氣對策信號綜合分數  景氣對策信號\n",
              "0 1982-01-01  17.273401   99.989213  ...  104.437056         NaN     NaN\n",
              "1 1982-02-01  17.348049   99.574503  ...  105.902128         NaN     NaN\n",
              "2 1982-03-01  17.407569   99.073279  ...  106.981791         NaN     NaN\n",
              "3 1982-04-01  17.418006   98.295641  ...  107.461742         NaN     NaN\n",
              "4 1982-05-01  17.393409   97.326654  ...  107.258368         NaN     NaN\n",
              "\n",
              "[5 rows x 9 columns]"
            ]
          },
          "metadata": {
            "tags": []
          },
          "execution_count": 152
        }
      ]
    },
    {
      "cell_type": "code",
      "metadata": {
        "id": "HZE4DdIHTcRY",
        "outputId": "15624373-2df3-428b-f5ca-63eb68d02f05",
        "colab": {
          "base_uri": "https://localhost:8080/",
          "height": 289
        }
      },
      "source": [
        "df.info()"
      ],
      "execution_count": 153,
      "outputs": [
        {
          "output_type": "stream",
          "text": [
            "<class 'pandas.core.frame.DataFrame'>\n",
            "RangeIndex: 464 entries, 0 to 463\n",
            "Data columns (total 9 columns):\n",
            " #   Column      Non-Null Count  Dtype         \n",
            "---  ------      --------------  -----         \n",
            " 0   DATE        464 non-null    datetime64[ns]\n",
            " 1   領先指標綜合指數    464 non-null    float64       \n",
            " 2   領先指標不含趨勢指數  464 non-null    float64       \n",
            " 3   同時指標綜合指數    464 non-null    float64       \n",
            " 4   同時指標不含趨勢指數  464 non-null    float64       \n",
            " 5   落後指標綜合指數    464 non-null    float64       \n",
            " 6   落後指標不含趨勢指數  464 non-null    float64       \n",
            " 7   景氣對策信號綜合分數  440 non-null    float64       \n",
            " 8   景氣對策信號      440 non-null    object        \n",
            "dtypes: datetime64[ns](1), float64(7), object(1)\n",
            "memory usage: 32.8+ KB\n"
          ],
          "name": "stdout"
        }
      ]
    },
    {
      "cell_type": "code",
      "metadata": {
        "id": "eOEBl4qHTvGz"
      },
      "source": [
        "df = df.set_index(\"DATE\")"
      ],
      "execution_count": 154,
      "outputs": []
    },
    {
      "cell_type": "code",
      "metadata": {
        "id": "OO6OOp6vUCtO",
        "outputId": "283b0366-4009-4929-f1b9-6d467c949c27",
        "colab": {
          "base_uri": "https://localhost:8080/",
          "height": 708
        }
      },
      "source": [
        "df"
      ],
      "execution_count": 155,
      "outputs": [
        {
          "output_type": "execute_result",
          "data": {
            "text/html": [
              "<div>\n",
              "<style scoped>\n",
              "    .dataframe tbody tr th:only-of-type {\n",
              "        vertical-align: middle;\n",
              "    }\n",
              "\n",
              "    .dataframe tbody tr th {\n",
              "        vertical-align: top;\n",
              "    }\n",
              "\n",
              "    .dataframe thead th {\n",
              "        text-align: right;\n",
              "    }\n",
              "</style>\n",
              "<table border=\"1\" class=\"dataframe\">\n",
              "  <thead>\n",
              "    <tr style=\"text-align: right;\">\n",
              "      <th></th>\n",
              "      <th>領先指標綜合指數</th>\n",
              "      <th>領先指標不含趨勢指數</th>\n",
              "      <th>同時指標綜合指數</th>\n",
              "      <th>同時指標不含趨勢指數</th>\n",
              "      <th>落後指標綜合指數</th>\n",
              "      <th>落後指標不含趨勢指數</th>\n",
              "      <th>景氣對策信號綜合分數</th>\n",
              "      <th>景氣對策信號</th>\n",
              "    </tr>\n",
              "    <tr>\n",
              "      <th>DATE</th>\n",
              "      <th></th>\n",
              "      <th></th>\n",
              "      <th></th>\n",
              "      <th></th>\n",
              "      <th></th>\n",
              "      <th></th>\n",
              "      <th></th>\n",
              "      <th></th>\n",
              "    </tr>\n",
              "  </thead>\n",
              "  <tbody>\n",
              "    <tr>\n",
              "      <th>1982-01-01</th>\n",
              "      <td>17.273401</td>\n",
              "      <td>99.989213</td>\n",
              "      <td>18.306357</td>\n",
              "      <td>105.968607</td>\n",
              "      <td>18.041778</td>\n",
              "      <td>104.437056</td>\n",
              "      <td>NaN</td>\n",
              "      <td>NaN</td>\n",
              "    </tr>\n",
              "    <tr>\n",
              "      <th>1982-02-01</th>\n",
              "      <td>17.348049</td>\n",
              "      <td>99.574503</td>\n",
              "      <td>18.048192</td>\n",
              "      <td>103.593190</td>\n",
              "      <td>18.450460</td>\n",
              "      <td>105.902128</td>\n",
              "      <td>NaN</td>\n",
              "      <td>NaN</td>\n",
              "    </tr>\n",
              "    <tr>\n",
              "      <th>1982-03-01</th>\n",
              "      <td>17.407569</td>\n",
              "      <td>99.073279</td>\n",
              "      <td>17.835412</td>\n",
              "      <td>101.508296</td>\n",
              "      <td>18.797126</td>\n",
              "      <td>106.981791</td>\n",
              "      <td>NaN</td>\n",
              "      <td>NaN</td>\n",
              "    </tr>\n",
              "    <tr>\n",
              "      <th>1982-04-01</th>\n",
              "      <td>17.418006</td>\n",
              "      <td>98.295641</td>\n",
              "      <td>17.666086</td>\n",
              "      <td>99.695643</td>\n",
              "      <td>19.042240</td>\n",
              "      <td>107.461742</td>\n",
              "      <td>NaN</td>\n",
              "      <td>NaN</td>\n",
              "    </tr>\n",
              "    <tr>\n",
              "      <th>1982-05-01</th>\n",
              "      <td>17.393409</td>\n",
              "      <td>97.326654</td>\n",
              "      <td>17.537617</td>\n",
              "      <td>98.133584</td>\n",
              "      <td>19.168322</td>\n",
              "      <td>107.258368</td>\n",
              "      <td>NaN</td>\n",
              "      <td>NaN</td>\n",
              "    </tr>\n",
              "    <tr>\n",
              "      <th>...</th>\n",
              "      <td>...</td>\n",
              "      <td>...</td>\n",
              "      <td>...</td>\n",
              "      <td>...</td>\n",
              "      <td>...</td>\n",
              "      <td>...</td>\n",
              "      <td>...</td>\n",
              "      <td>...</td>\n",
              "    </tr>\n",
              "    <tr>\n",
              "      <th>2020-04-01</th>\n",
              "      <td>111.426350</td>\n",
              "      <td>98.946548</td>\n",
              "      <td>111.885770</td>\n",
              "      <td>99.354512</td>\n",
              "      <td>110.815584</td>\n",
              "      <td>98.404188</td>\n",
              "      <td>19.0</td>\n",
              "      <td>黃藍</td>\n",
              "    </tr>\n",
              "    <tr>\n",
              "      <th>2020-05-01</th>\n",
              "      <td>112.600635</td>\n",
              "      <td>99.815185</td>\n",
              "      <td>111.945556</td>\n",
              "      <td>99.234488</td>\n",
              "      <td>110.596587</td>\n",
              "      <td>98.038690</td>\n",
              "      <td>19.0</td>\n",
              "      <td>黃藍</td>\n",
              "    </tr>\n",
              "    <tr>\n",
              "      <th>2020-06-01</th>\n",
              "      <td>114.393299</td>\n",
              "      <td>101.227732</td>\n",
              "      <td>112.433068</td>\n",
              "      <td>99.493104</td>\n",
              "      <td>110.461577</td>\n",
              "      <td>97.748513</td>\n",
              "      <td>19.0</td>\n",
              "      <td>黃藍</td>\n",
              "    </tr>\n",
              "    <tr>\n",
              "      <th>2020-07-01</th>\n",
              "      <td>116.482119</td>\n",
              "      <td>102.896631</td>\n",
              "      <td>113.276042</td>\n",
              "      <td>100.064484</td>\n",
              "      <td>110.340464</td>\n",
              "      <td>97.471287</td>\n",
              "      <td>21.0</td>\n",
              "      <td>黃藍</td>\n",
              "    </tr>\n",
              "    <tr>\n",
              "      <th>2020-08-01</th>\n",
              "      <td>118.693144</td>\n",
              "      <td>104.667139</td>\n",
              "      <td>114.277326</td>\n",
              "      <td>100.773141</td>\n",
              "      <td>110.200402</td>\n",
              "      <td>97.177988</td>\n",
              "      <td>26.0</td>\n",
              "      <td>綠</td>\n",
              "    </tr>\n",
              "  </tbody>\n",
              "</table>\n",
              "<p>464 rows × 8 columns</p>\n",
              "</div>"
            ],
            "text/plain": [
              "              領先指標綜合指數  領先指標不含趨勢指數    同時指標綜合指數  ...  落後指標不含趨勢指數  景氣對策信號綜合分數  景氣對策信號\n",
              "DATE                                            ...                                \n",
              "1982-01-01   17.273401   99.989213   18.306357  ...  104.437056         NaN     NaN\n",
              "1982-02-01   17.348049   99.574503   18.048192  ...  105.902128         NaN     NaN\n",
              "1982-03-01   17.407569   99.073279   17.835412  ...  106.981791         NaN     NaN\n",
              "1982-04-01   17.418006   98.295641   17.666086  ...  107.461742         NaN     NaN\n",
              "1982-05-01   17.393409   97.326654   17.537617  ...  107.258368         NaN     NaN\n",
              "...                ...         ...         ...  ...         ...         ...     ...\n",
              "2020-04-01  111.426350   98.946548  111.885770  ...   98.404188        19.0     黃藍 \n",
              "2020-05-01  112.600635   99.815185  111.945556  ...   98.038690        19.0     黃藍 \n",
              "2020-06-01  114.393299  101.227732  112.433068  ...   97.748513        19.0     黃藍 \n",
              "2020-07-01  116.482119  102.896631  113.276042  ...   97.471287        21.0     黃藍 \n",
              "2020-08-01  118.693144  104.667139  114.277326  ...   97.177988        26.0       綠\n",
              "\n",
              "[464 rows x 8 columns]"
            ]
          },
          "metadata": {
            "tags": []
          },
          "execution_count": 155
        }
      ]
    },
    {
      "cell_type": "code",
      "metadata": {
        "id": "QYuHaTx5UDfe",
        "outputId": "8eba4d2d-fa7f-4708-9c6c-f5a65a93e14d",
        "colab": {
          "base_uri": "https://localhost:8080/",
          "height": 308
        }
      },
      "source": [
        "df[\"領先指標綜合指數\"][-20:].plot()"
      ],
      "execution_count": 157,
      "outputs": [
        {
          "output_type": "execute_result",
          "data": {
            "text/plain": [
              "<matplotlib.axes._subplots.AxesSubplot at 0x7f3226155748>"
            ]
          },
          "metadata": {
            "tags": []
          },
          "execution_count": 157
        },
        {
          "output_type": "display_data",
          "data": {
            "image/png": "[encoded data removed]",
            "text/plain": [
              "<Figure size 432x288 with 1 Axes>"
            ]
          },
          "metadata": {
            "tags": [],
            "needs_background": "light"
          }
        }
      ]
    },
    {
      "cell_type": "code",
      "metadata": {
        "id": "KpBrP9JDULl2"
      },
      "source": [
        ""
      ],
      "execution_count": null,
      "outputs": []
    }
  ]
}