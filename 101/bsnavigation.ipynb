{
  "nbformat": 4,
  "nbformat_minor": 0,
  "metadata": {
    "colab": {
      "name": "bsnavigation.ipynb",
      "provenance": [],
      "collapsed_sections": []
    },
    "kernelspec": {
      "name": "python3",
      "display_name": "Python 3"
    }
  },
  "cells": [
    {
      "cell_type": "code",
      "metadata": {
        "id": "Xmn5XuxUOSfz"
      },
      "source": [
        "import requests\n",
        "from bs4 import BeautifulSoup"
      ],
      "execution_count": 4,
      "outputs": []
    },
    {
      "cell_type": "code",
      "metadata": {
        "id": "Zbl0AtPfOWrA"
      },
      "source": [
        "resp = requests.get(\"http://blog.castman.net/web-crawler-tutorial/ch2/table/table.html\")\n",
        "soup = BeautifulSoup(resp.text, \"html.parser\")"
      ],
      "execution_count": 5,
      "outputs": []
    },
    {
      "cell_type": "code",
      "metadata": {
        "id": "VNADEbz8OvA1",
        "outputId": "e13286fc-125f-4c89-9f35-65cfcfa4c096",
        "colab": {
          "base_uri": "https://localhost:8080/"
        }
      },
      "source": [
        "  # 計算課程均價\n",
        "  # 取得所有課程價錢: 方法一, 使用 index\n",
        "  prices =[]\n",
        "  rows = soup.find('table','table').tbody.find_all('tr')\n",
        "  for row in rows:\n",
        "    price = row.find_all('td')[2].text\n",
        "    prices.append(int(price))\n",
        "  \n",
        "  print(sum(prices)/len(prices))"
      ],
      "execution_count": 9,
      "outputs": [
        {
          "output_type": "stream",
          "text": [
            "1823.3333333333333\n"
          ],
          "name": "stdout"
        }
      ]
    },
    {
      "cell_type": "code",
      "metadata": {
        "id": "MYLAdpAnPD-9",
        "outputId": "95da55d0-6819-437b-8562-84bacc95e7d3",
        "colab": {
          "base_uri": "https://localhost:8080/"
        }
      },
      "source": [
        "# 取得所有課程價錢: 方法二, <a> 的 parent (<td>) 的 previous_sibling\n",
        "prices = []\n",
        "links = soup.find_all('a')\n",
        "for link in links:\n",
        "  price = link.parent.previous_sibling.text\n",
        "  prices.append(int(price))\n",
        "\n",
        "print(sum(prices)/len(prices))"
      ],
      "execution_count": 14,
      "outputs": [
        {
          "output_type": "stream",
          "text": [
            "1823.3333333333333\n"
          ],
          "name": "stdout"
        }
      ]
    },
    {
      "cell_type": "code",
      "metadata": {
        "id": "4xinoigHQil3",
        "outputId": "44202c39-932d-423f-c8ac-27fe7cfe695c",
        "colab": {
          "base_uri": "https://localhost:8080/"
        }
      },
      "source": [
        "# 取得每一列所有欄位文字資訊: stripped_strings\n",
        "rows = soup.find('table', 'table').tbody.find_all('tr')\n",
        "for row in rows:\n",
        "  #print(row)\n",
        "  print([s for s in row.stripped_strings])"
      ],
      "execution_count": 23,
      "outputs": [
        {
          "output_type": "stream",
          "text": [
            "['初心者 - Python入門', '初學者', '1490']\n",
            "['Python 網頁爬蟲入門實戰', '有程式基礎的初學者', '1890']\n",
            "['Python 機器學習入門實戰 (預計)', '有程式基礎的初學者', '1890']\n",
            "['Python 資料科學入門實戰 (預計)', '有程式基礎的初學者', '1890']\n",
            "['Python 資料視覺化入門實戰 (預計)', '有程式基礎的初學者', '1890']\n",
            "['Python 網站架設入門實戰 (預計)', '有程式基礎的初學者', '1890']\n"
          ],
          "name": "stdout"
        }
      ]
    },
    {
      "cell_type": "code",
      "metadata": {
        "id": "IZyTnS5IRA6U"
      },
      "source": [
        ""
      ],
      "execution_count": null,
      "outputs": []
    }
  ]
}